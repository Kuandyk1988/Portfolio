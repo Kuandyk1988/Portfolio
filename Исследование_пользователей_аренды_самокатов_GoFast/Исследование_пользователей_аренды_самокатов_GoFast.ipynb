{
 "cells": [
  {
   "cell_type": "markdown",
   "id": "642ddf1c",
   "metadata": {},
   "source": [
    "# Исследование пользователей сервиса аренды самокатов GoFast. "
   ]
  },
  {
   "cell_type": "markdown",
   "id": "8960cb0c",
   "metadata": {},
   "source": [
    "Перед нами данные о некоторых пользователях из нескольких городов, а также об их поездках. Необходимо проанализировать данные и проверить гипотезы, которые могут помочь бизнесу вырасти.\n",
    "\n",
    "Чтобы совершать поездки по городу, пользователи сервиса GoFast пользуются мобильным приложением. \n",
    "\n",
    "Сервисом можно пользоваться:\n",
    "1. без подписки\n",
    "    - абонентская плата отсутствует;\n",
    "    - стоимость одной минуты поездки — 8 рублей;\n",
    "    - стоимость старта (начала поездки) — 50 рублей;\n",
    "2. с подпиской Ultra\n",
    "    - абонентская плата — 199 рублей в месяц;\n",
    "    - стоимость одной минуты поездки — 6 рублей;\n",
    "    - стоимость старта — бесплатно.\n",
    "    \n",
    "В работе мы будем делать следующее:\n",
    "1. Будем исследовать следующие данные для визуализации картины пользователей самокатов:\n",
    "    - построим соотношение пользователей с подпиской и без подписки;\n",
    "    - построим график с данными о возрасте пользователей;\n",
    "    - рассчитаем расстояние, которое пользователь преодолел за одну поездку;\n",
    "    - сравним продолжительность поездок пользователей.\n",
    "1. Проверим следующие гипотезы:\n",
    "    - Тратят ли пользователи с подпиской больше времени на поездки? Если да, то пользователи с подпиской могут быть «выгоднее» для компании.\n",
    "    - Расстояние одной поездки в 3130 метров — оптимальное с точки зрения износа самоката. Можно ли сказать, что среднее расстояние, которое проезжают пользователи с подпиской за одну поездку, не превышает 3130 метров? \n",
    "    - Будет ли помесячная выручка от пользователей с подпиской по месяцам выше, чем выручка от пользователей без подписки. \n",
    "    - Дадим ответ на следующий вопрос: Представьте такую ситуацию: техническая команда сервиса обновила сервера, с которыми взаимодействует мобильное приложение. Она надеется, что из-за этого количество обращений в техподдержку значимо снизилось. Некоторый файл содержит для каждого пользователя данные о количестве обращений до обновления и после него. Какой тест вам понадобился бы для проверки этой гипотезы?\n",
    "1. Посчитаем следующие данные:\n",
    "    - Сколько нужно расздать промокодов на один бесплатный месяц подписки, в рамках которой как минимум 100 существующих клиентов должны продлить эту подписку. Эта акция уже проводилась ранее и по итогу выяснилось, что после бесплатного пробного периода подписку продлевают 10 % пользователей. Выясните, какое минимальное количество промокодов нужно разослать, чтобы вероятность не выполнить план была примерно 5 %.\n",
    "    - Отдел маркетинга рассылает клиентам push-уведомления в мобильном приложении. Клиенты могут открыть его или не открывать. Известно, что уведомления открывают около  40 % получивших клиентов. Отдел планирует разослать 1 млн уведомлений. С помощью аппроксимации необходимо построить примерный график распределения и оценить вероятность того, что уведомление откроют не более 399,5 тыс. пользователей."
   ]
  },
  {
   "cell_type": "code",
   "execution_count": 1,
   "id": "13c84ad7",
   "metadata": {},
   "outputs": [],
   "source": [
    "import pandas as pd\n",
    "import numpy as np\n",
    "import seaborn as sns\n",
    "import matplotlib.pyplot as plt\n",
    "from scipy import stats as st\n",
    "from math import sqrt\n",
    "import plotly.express as px\n",
    "from scipy.stats import binom, poisson\n",
    "from math import factorial"
   ]
  },
  {
   "cell_type": "markdown",
   "id": "f4b38115",
   "metadata": {},
   "source": [
    "#### Шаг 1. Загрузка данных"
   ]
  },
  {
   "cell_type": "markdown",
   "id": "dac78fb4",
   "metadata": {},
   "source": [
    "Откроем 1 массив данных"
   ]
  },
  {
   "cell_type": "code",
   "execution_count": 2,
   "id": "81a17c01",
   "metadata": {},
   "outputs": [],
   "source": [
    "try:\n",
    "    data_users = pd.read_csv('C:/Users/almuc/Downloads/users_go.csv')\n",
    "    data_rides = pd.read_csv('C:/Users/almuc/Downloads/rides_go.csv')\n",
    "    data_subscriptions = pd.read_csv('C:/Users/almuc/Downloads/subscriptions_go.csv')\n",
    "except:\n",
    "    data_users = pd.read_csv('/datasets/users_go.csv')\n",
    "    data_rides = pd.read_csv('/datasets/rides_go.csv')\n",
    "    data_subscriptions = pd.read_csv('/datasets/subscriptions_go.csv')"
   ]
  },
  {
   "cell_type": "code",
   "execution_count": 3,
   "id": "7b65bca1",
   "metadata": {
    "scrolled": true
   },
   "outputs": [
    {
     "data": {
      "text/html": [
       "<div>\n",
       "<style scoped>\n",
       "    .dataframe tbody tr th:only-of-type {\n",
       "        vertical-align: middle;\n",
       "    }\n",
       "\n",
       "    .dataframe tbody tr th {\n",
       "        vertical-align: top;\n",
       "    }\n",
       "\n",
       "    .dataframe thead th {\n",
       "        text-align: right;\n",
       "    }\n",
       "</style>\n",
       "<table border=\"1\" class=\"dataframe\">\n",
       "  <thead>\n",
       "    <tr style=\"text-align: right;\">\n",
       "      <th></th>\n",
       "      <th>user_id</th>\n",
       "      <th>name</th>\n",
       "      <th>age</th>\n",
       "      <th>city</th>\n",
       "      <th>subscription_type</th>\n",
       "    </tr>\n",
       "  </thead>\n",
       "  <tbody>\n",
       "    <tr>\n",
       "      <th>0</th>\n",
       "      <td>1</td>\n",
       "      <td>Кира</td>\n",
       "      <td>22</td>\n",
       "      <td>Тюмень</td>\n",
       "      <td>ultra</td>\n",
       "    </tr>\n",
       "    <tr>\n",
       "      <th>1</th>\n",
       "      <td>2</td>\n",
       "      <td>Станислав</td>\n",
       "      <td>31</td>\n",
       "      <td>Омск</td>\n",
       "      <td>ultra</td>\n",
       "    </tr>\n",
       "    <tr>\n",
       "      <th>2</th>\n",
       "      <td>3</td>\n",
       "      <td>Алексей</td>\n",
       "      <td>20</td>\n",
       "      <td>Москва</td>\n",
       "      <td>ultra</td>\n",
       "    </tr>\n",
       "    <tr>\n",
       "      <th>3</th>\n",
       "      <td>4</td>\n",
       "      <td>Константин</td>\n",
       "      <td>26</td>\n",
       "      <td>Ростов-на-Дону</td>\n",
       "      <td>ultra</td>\n",
       "    </tr>\n",
       "    <tr>\n",
       "      <th>4</th>\n",
       "      <td>5</td>\n",
       "      <td>Адель</td>\n",
       "      <td>28</td>\n",
       "      <td>Омск</td>\n",
       "      <td>ultra</td>\n",
       "    </tr>\n",
       "  </tbody>\n",
       "</table>\n",
       "</div>"
      ],
      "text/plain": [
       "   user_id        name  age            city subscription_type\n",
       "0        1        Кира   22          Тюмень             ultra\n",
       "1        2   Станислав   31            Омск             ultra\n",
       "2        3     Алексей   20          Москва             ultra\n",
       "3        4  Константин   26  Ростов-на-Дону             ultra\n",
       "4        5       Адель   28            Омск             ultra"
      ]
     },
     "execution_count": 3,
     "metadata": {},
     "output_type": "execute_result"
    }
   ],
   "source": [
    "data_users.head()"
   ]
  },
  {
   "cell_type": "code",
   "execution_count": 4,
   "id": "e672c5e7",
   "metadata": {},
   "outputs": [
    {
     "name": "stdout",
     "output_type": "stream",
     "text": [
      "<class 'pandas.core.frame.DataFrame'>\n",
      "RangeIndex: 1565 entries, 0 to 1564\n",
      "Data columns (total 5 columns):\n",
      " #   Column             Non-Null Count  Dtype \n",
      "---  ------             --------------  ----- \n",
      " 0   user_id            1565 non-null   int64 \n",
      " 1   name               1565 non-null   object\n",
      " 2   age                1565 non-null   int64 \n",
      " 3   city               1565 non-null   object\n",
      " 4   subscription_type  1565 non-null   object\n",
      "dtypes: int64(2), object(3)\n",
      "memory usage: 61.3+ KB\n"
     ]
    }
   ],
   "source": [
    "data_users.info()"
   ]
  },
  {
   "cell_type": "markdown",
   "id": "dc125e48",
   "metadata": {},
   "source": [
    "Здесь мы видим 1565 строк и 5 столбцов. Пустых значений нет."
   ]
  },
  {
   "cell_type": "markdown",
   "id": "da95c480",
   "metadata": {},
   "source": [
    "Откроем 2 массив данных"
   ]
  },
  {
   "cell_type": "code",
   "execution_count": 5,
   "id": "d0cc1764",
   "metadata": {
    "scrolled": false
   },
   "outputs": [
    {
     "data": {
      "text/html": [
       "<div>\n",
       "<style scoped>\n",
       "    .dataframe tbody tr th:only-of-type {\n",
       "        vertical-align: middle;\n",
       "    }\n",
       "\n",
       "    .dataframe tbody tr th {\n",
       "        vertical-align: top;\n",
       "    }\n",
       "\n",
       "    .dataframe thead th {\n",
       "        text-align: right;\n",
       "    }\n",
       "</style>\n",
       "<table border=\"1\" class=\"dataframe\">\n",
       "  <thead>\n",
       "    <tr style=\"text-align: right;\">\n",
       "      <th></th>\n",
       "      <th>user_id</th>\n",
       "      <th>distance</th>\n",
       "      <th>duration</th>\n",
       "      <th>date</th>\n",
       "    </tr>\n",
       "  </thead>\n",
       "  <tbody>\n",
       "    <tr>\n",
       "      <th>0</th>\n",
       "      <td>1</td>\n",
       "      <td>4409.919140</td>\n",
       "      <td>25.599769</td>\n",
       "      <td>2021-01-01</td>\n",
       "    </tr>\n",
       "    <tr>\n",
       "      <th>1</th>\n",
       "      <td>1</td>\n",
       "      <td>2617.592153</td>\n",
       "      <td>15.816871</td>\n",
       "      <td>2021-01-18</td>\n",
       "    </tr>\n",
       "    <tr>\n",
       "      <th>2</th>\n",
       "      <td>1</td>\n",
       "      <td>754.159807</td>\n",
       "      <td>6.232113</td>\n",
       "      <td>2021-04-20</td>\n",
       "    </tr>\n",
       "    <tr>\n",
       "      <th>3</th>\n",
       "      <td>1</td>\n",
       "      <td>2694.783254</td>\n",
       "      <td>18.511000</td>\n",
       "      <td>2021-08-11</td>\n",
       "    </tr>\n",
       "    <tr>\n",
       "      <th>4</th>\n",
       "      <td>1</td>\n",
       "      <td>4028.687306</td>\n",
       "      <td>26.265803</td>\n",
       "      <td>2021-08-28</td>\n",
       "    </tr>\n",
       "  </tbody>\n",
       "</table>\n",
       "</div>"
      ],
      "text/plain": [
       "   user_id     distance   duration        date\n",
       "0        1  4409.919140  25.599769  2021-01-01\n",
       "1        1  2617.592153  15.816871  2021-01-18\n",
       "2        1   754.159807   6.232113  2021-04-20\n",
       "3        1  2694.783254  18.511000  2021-08-11\n",
       "4        1  4028.687306  26.265803  2021-08-28"
      ]
     },
     "execution_count": 5,
     "metadata": {},
     "output_type": "execute_result"
    }
   ],
   "source": [
    "data_rides.head()"
   ]
  },
  {
   "cell_type": "code",
   "execution_count": 6,
   "id": "0543ec8c",
   "metadata": {},
   "outputs": [
    {
     "name": "stdout",
     "output_type": "stream",
     "text": [
      "<class 'pandas.core.frame.DataFrame'>\n",
      "RangeIndex: 18068 entries, 0 to 18067\n",
      "Data columns (total 4 columns):\n",
      " #   Column    Non-Null Count  Dtype  \n",
      "---  ------    --------------  -----  \n",
      " 0   user_id   18068 non-null  int64  \n",
      " 1   distance  18068 non-null  float64\n",
      " 2   duration  18068 non-null  float64\n",
      " 3   date      18068 non-null  object \n",
      "dtypes: float64(2), int64(1), object(1)\n",
      "memory usage: 564.8+ KB\n"
     ]
    }
   ],
   "source": [
    "data_rides.info()"
   ]
  },
  {
   "cell_type": "markdown",
   "id": "5d6cab21",
   "metadata": {},
   "source": [
    "В столбце поездки у нас 18068 строк и 4 столбца. Пустых значений нет. Столбец с датой нужно обработать и привести к формату date."
   ]
  },
  {
   "cell_type": "markdown",
   "id": "78142219",
   "metadata": {},
   "source": [
    "Откроем 3 массив данных"
   ]
  },
  {
   "cell_type": "code",
   "execution_count": 7,
   "id": "0007411b",
   "metadata": {
    "scrolled": true
   },
   "outputs": [
    {
     "data": {
      "text/html": [
       "<div>\n",
       "<style scoped>\n",
       "    .dataframe tbody tr th:only-of-type {\n",
       "        vertical-align: middle;\n",
       "    }\n",
       "\n",
       "    .dataframe tbody tr th {\n",
       "        vertical-align: top;\n",
       "    }\n",
       "\n",
       "    .dataframe thead th {\n",
       "        text-align: right;\n",
       "    }\n",
       "</style>\n",
       "<table border=\"1\" class=\"dataframe\">\n",
       "  <thead>\n",
       "    <tr style=\"text-align: right;\">\n",
       "      <th></th>\n",
       "      <th>subscription_type</th>\n",
       "      <th>minute_price</th>\n",
       "      <th>start_ride_price</th>\n",
       "      <th>subscription_fee</th>\n",
       "    </tr>\n",
       "  </thead>\n",
       "  <tbody>\n",
       "    <tr>\n",
       "      <th>0</th>\n",
       "      <td>free</td>\n",
       "      <td>8</td>\n",
       "      <td>50</td>\n",
       "      <td>0</td>\n",
       "    </tr>\n",
       "    <tr>\n",
       "      <th>1</th>\n",
       "      <td>ultra</td>\n",
       "      <td>6</td>\n",
       "      <td>0</td>\n",
       "      <td>199</td>\n",
       "    </tr>\n",
       "  </tbody>\n",
       "</table>\n",
       "</div>"
      ],
      "text/plain": [
       "  subscription_type  minute_price  start_ride_price  subscription_fee\n",
       "0              free             8                50                 0\n",
       "1             ultra             6                 0               199"
      ]
     },
     "execution_count": 7,
     "metadata": {},
     "output_type": "execute_result"
    }
   ],
   "source": [
    "data_subscriptions.head()"
   ]
  },
  {
   "cell_type": "code",
   "execution_count": 8,
   "id": "cb7ce508",
   "metadata": {
    "scrolled": true
   },
   "outputs": [
    {
     "name": "stdout",
     "output_type": "stream",
     "text": [
      "<class 'pandas.core.frame.DataFrame'>\n",
      "RangeIndex: 2 entries, 0 to 1\n",
      "Data columns (total 4 columns):\n",
      " #   Column             Non-Null Count  Dtype \n",
      "---  ------             --------------  ----- \n",
      " 0   subscription_type  2 non-null      object\n",
      " 1   minute_price       2 non-null      int64 \n",
      " 2   start_ride_price   2 non-null      int64 \n",
      " 3   subscription_fee   2 non-null      int64 \n",
      "dtypes: int64(3), object(1)\n",
      "memory usage: 196.0+ bytes\n"
     ]
    }
   ],
   "source": [
    "data_subscriptions.info()"
   ]
  },
  {
   "cell_type": "markdown",
   "id": "49c18a24",
   "metadata": {},
   "source": [
    "В таблице подписки, мы видим, что у нас 2 строки и 4 столбца. Пустых значений нет."
   ]
  },
  {
   "cell_type": "markdown",
   "id": "0d390779",
   "metadata": {},
   "source": [
    "#### Шаг 2. Предобработка данных"
   ]
  },
  {
   "cell_type": "markdown",
   "id": "301d330a",
   "metadata": {},
   "source": [
    "Как мы видим типом данных столбца date является objekt, поэтому приведем дату к формату даты. "
   ]
  },
  {
   "cell_type": "code",
   "execution_count": 9,
   "id": "79416e2c",
   "metadata": {},
   "outputs": [],
   "source": [
    "data_rides['date'] = pd.to_datetime(data_rides.date, dayfirst=True)"
   ]
  },
  {
   "cell_type": "markdown",
   "id": "e2785ab4",
   "metadata": {},
   "source": [
    "Проверим за какой период у нас предоставлены данные"
   ]
  },
  {
   "cell_type": "code",
   "execution_count": 10,
   "id": "3112932e",
   "metadata": {},
   "outputs": [
    {
     "data": {
      "text/plain": [
       "array([2021], dtype=int64)"
      ]
     },
     "execution_count": 10,
     "metadata": {},
     "output_type": "execute_result"
    }
   ],
   "source": [
    "data_rides['date'].dt.year.unique()"
   ]
  },
  {
   "cell_type": "markdown",
   "id": "fb0d5912",
   "metadata": {},
   "source": [
    "Данные преддоставлены за 2021 год. Можем работать дальше."
   ]
  },
  {
   "cell_type": "code",
   "execution_count": 11,
   "id": "77b17d05",
   "metadata": {
    "scrolled": false
   },
   "outputs": [
    {
     "data": {
      "text/html": [
       "<div>\n",
       "<style scoped>\n",
       "    .dataframe tbody tr th:only-of-type {\n",
       "        vertical-align: middle;\n",
       "    }\n",
       "\n",
       "    .dataframe tbody tr th {\n",
       "        vertical-align: top;\n",
       "    }\n",
       "\n",
       "    .dataframe thead th {\n",
       "        text-align: right;\n",
       "    }\n",
       "</style>\n",
       "<table border=\"1\" class=\"dataframe\">\n",
       "  <thead>\n",
       "    <tr style=\"text-align: right;\">\n",
       "      <th></th>\n",
       "      <th>user_id</th>\n",
       "      <th>distance</th>\n",
       "      <th>duration</th>\n",
       "      <th>date</th>\n",
       "    </tr>\n",
       "  </thead>\n",
       "  <tbody>\n",
       "    <tr>\n",
       "      <th>18063</th>\n",
       "      <td>1534</td>\n",
       "      <td>3781.098080</td>\n",
       "      <td>19.822962</td>\n",
       "      <td>2021-11-04</td>\n",
       "    </tr>\n",
       "    <tr>\n",
       "      <th>18064</th>\n",
       "      <td>1534</td>\n",
       "      <td>2840.423057</td>\n",
       "      <td>21.409799</td>\n",
       "      <td>2021-11-16</td>\n",
       "    </tr>\n",
       "    <tr>\n",
       "      <th>18065</th>\n",
       "      <td>1534</td>\n",
       "      <td>3826.185507</td>\n",
       "      <td>18.435051</td>\n",
       "      <td>2021-11-18</td>\n",
       "    </tr>\n",
       "    <tr>\n",
       "      <th>18066</th>\n",
       "      <td>1534</td>\n",
       "      <td>2902.308661</td>\n",
       "      <td>16.674362</td>\n",
       "      <td>2021-11-27</td>\n",
       "    </tr>\n",
       "    <tr>\n",
       "      <th>18067</th>\n",
       "      <td>1534</td>\n",
       "      <td>2371.711192</td>\n",
       "      <td>15.893917</td>\n",
       "      <td>2021-12-29</td>\n",
       "    </tr>\n",
       "  </tbody>\n",
       "</table>\n",
       "</div>"
      ],
      "text/plain": [
       "       user_id     distance   duration       date\n",
       "18063     1534  3781.098080  19.822962 2021-11-04\n",
       "18064     1534  2840.423057  21.409799 2021-11-16\n",
       "18065     1534  3826.185507  18.435051 2021-11-18\n",
       "18066     1534  2902.308661  16.674362 2021-11-27\n",
       "18067     1534  2371.711192  15.893917 2021-12-29"
      ]
     },
     "execution_count": 11,
     "metadata": {},
     "output_type": "execute_result"
    }
   ],
   "source": [
    "data_rides.tail()"
   ]
  },
  {
   "cell_type": "markdown",
   "id": "402ac910",
   "metadata": {},
   "source": [
    "**Добавляем столбец \"месяц публикации объявления\"**"
   ]
  },
  {
   "cell_type": "code",
   "execution_count": 12,
   "id": "47153859",
   "metadata": {},
   "outputs": [],
   "source": [
    "data_rides['month'] = data_rides['date'].dt.month"
   ]
  },
  {
   "cell_type": "markdown",
   "id": "b6861751",
   "metadata": {},
   "source": [
    "Проверяем полученные изменения"
   ]
  },
  {
   "cell_type": "code",
   "execution_count": 13,
   "id": "e7c0f84a",
   "metadata": {
    "scrolled": true
   },
   "outputs": [
    {
     "name": "stdout",
     "output_type": "stream",
     "text": [
      "<class 'pandas.core.frame.DataFrame'>\n",
      "RangeIndex: 18068 entries, 0 to 18067\n",
      "Data columns (total 5 columns):\n",
      " #   Column    Non-Null Count  Dtype         \n",
      "---  ------    --------------  -----         \n",
      " 0   user_id   18068 non-null  int64         \n",
      " 1   distance  18068 non-null  float64       \n",
      " 2   duration  18068 non-null  float64       \n",
      " 3   date      18068 non-null  datetime64[ns]\n",
      " 4   month     18068 non-null  int64         \n",
      "dtypes: datetime64[ns](1), float64(2), int64(2)\n",
      "memory usage: 705.9 KB\n"
     ]
    }
   ],
   "source": [
    "data_rides.info()"
   ]
  },
  {
   "cell_type": "markdown",
   "id": "c0b73348",
   "metadata": {},
   "source": [
    "**Считаем количество пропущенных значений**"
   ]
  },
  {
   "cell_type": "code",
   "execution_count": 14,
   "id": "dced60a6",
   "metadata": {},
   "outputs": [
    {
     "data": {
      "text/plain": [
       "user_id              0\n",
       "name                 0\n",
       "age                  0\n",
       "city                 0\n",
       "subscription_type    0\n",
       "dtype: int64"
      ]
     },
     "execution_count": 14,
     "metadata": {},
     "output_type": "execute_result"
    }
   ],
   "source": [
    "data_users.isna().sum()"
   ]
  },
  {
   "cell_type": "code",
   "execution_count": 15,
   "id": "a1661b20",
   "metadata": {},
   "outputs": [
    {
     "data": {
      "text/plain": [
       "user_id     0\n",
       "distance    0\n",
       "duration    0\n",
       "date        0\n",
       "month       0\n",
       "dtype: int64"
      ]
     },
     "execution_count": 15,
     "metadata": {},
     "output_type": "execute_result"
    }
   ],
   "source": [
    "data_rides.isna().sum()"
   ]
  },
  {
   "cell_type": "markdown",
   "id": "1aaebeb8",
   "metadata": {},
   "source": [
    "Очень хорошие данные, нет пропусков. Думаю в этом ничего удивительного, т.к. данные собраны автоматически."
   ]
  },
  {
   "cell_type": "markdown",
   "id": "ac162323",
   "metadata": {},
   "source": [
    "**Проверим на наличие дубликатов**"
   ]
  },
  {
   "cell_type": "markdown",
   "id": "8151065c",
   "metadata": {},
   "source": [
    "Проверяем таблицу с данными пользователей. Нам интересны только дубликаты в столбце user_id. Остальные столбцы могут повторятся, т.к. в одном городе могут быть однофамильцы и ездить в одно и то же время."
   ]
  },
  {
   "cell_type": "code",
   "execution_count": 16,
   "id": "64584099",
   "metadata": {},
   "outputs": [
    {
     "data": {
      "text/plain": [
       "31"
      ]
     },
     "execution_count": 16,
     "metadata": {},
     "output_type": "execute_result"
    }
   ],
   "source": [
    "data_users['user_id'].duplicated().sum()"
   ]
  },
  {
   "cell_type": "markdown",
   "id": "432e1872",
   "metadata": {},
   "source": [
    "Удаляем дуликаты"
   ]
  },
  {
   "cell_type": "code",
   "execution_count": 17,
   "id": "a15457a6",
   "metadata": {},
   "outputs": [],
   "source": [
    "data_users.drop_duplicates(subset=['user_id'], inplace=True)"
   ]
  },
  {
   "cell_type": "markdown",
   "id": "ce64f7c0",
   "metadata": {},
   "source": [
    "Проверяем полученные данные"
   ]
  },
  {
   "cell_type": "code",
   "execution_count": 18,
   "id": "c051e2fe",
   "metadata": {},
   "outputs": [
    {
     "data": {
      "text/plain": [
       "0"
      ]
     },
     "execution_count": 18,
     "metadata": {},
     "output_type": "execute_result"
    }
   ],
   "source": [
    "data_users['user_id'].duplicated().sum()"
   ]
  },
  {
   "cell_type": "markdown",
   "id": "ad746db7",
   "metadata": {},
   "source": [
    "Теперь проверяем на наличие дуликатов таблицу с данными о поездках"
   ]
  },
  {
   "cell_type": "code",
   "execution_count": 19,
   "id": "421cc45d",
   "metadata": {
    "scrolled": true
   },
   "outputs": [
    {
     "data": {
      "text/plain": [
       "16534"
      ]
     },
     "execution_count": 19,
     "metadata": {},
     "output_type": "execute_result"
    }
   ],
   "source": [
    "data_rides['user_id'].duplicated().sum()"
   ]
  },
  {
   "cell_type": "code",
   "execution_count": 20,
   "id": "79cf90b3",
   "metadata": {},
   "outputs": [
    {
     "data": {
      "text/plain": [
       "0"
      ]
     },
     "execution_count": 20,
     "metadata": {},
     "output_type": "execute_result"
    }
   ],
   "source": [
    "data_rides.duplicated().sum()"
   ]
  },
  {
   "cell_type": "markdown",
   "id": "441a4ad4",
   "metadata": {},
   "source": [
    "Полных дубликатов по поездкам нет"
   ]
  },
  {
   "cell_type": "markdown",
   "id": "5854a1ca",
   "metadata": {},
   "source": [
    "Проверять таблицу с данными о подписки нет смысла, т.к. всю таблицу мы выводили, и там было всего 2 строки."
   ]
  },
  {
   "cell_type": "markdown",
   "id": "021714c0",
   "metadata": {},
   "source": [
    "По результатам проведенной работы в первых двух пунктах могу отметить следующее:\n",
    "1. Мы загрузили данные с пользоваителями, поездками пользователей и стоимостью поездок.\n",
    "2. Привели столбец data к формату \"дата\".\n",
    "3. Добавили столбец с номером месяца в датафрейм с поездками.\n",
    "4. Проверили наличие пустых значений. Пустые значения обнаружены не были.\n",
    "4. Проверили наличие дубликатов в датафрейме с пользователями. Их оказалось 31. Удалили дубликаты.\n",
    "5. Проверили наличие дубликатов в датафрейме с поездками. Полных дубликатов не было обнаружено.\n",
    "6. В датафрейме со стоимостью поездок дубликатов не было."
   ]
  },
  {
   "cell_type": "markdown",
   "id": "52b4b253",
   "metadata": {},
   "source": [
    "#### Шаг 3. Исследовательский анализ данных"
   ]
  },
  {
   "cell_type": "markdown",
   "id": "b90d9dc7",
   "metadata": {},
   "source": [
    "**Сделаем сводную по количеству пользователей в городах.**"
   ]
  },
  {
   "cell_type": "code",
   "execution_count": 21,
   "id": "42fadbc3",
   "metadata": {},
   "outputs": [
    {
     "data": {
      "text/plain": [
       "Пятигорск         219\n",
       "Екатеринбург      204\n",
       "Ростов-на-Дону    198\n",
       "Краснодар         193\n",
       "Сочи              189\n",
       "Омск              183\n",
       "Тюмень            180\n",
       "Москва            168\n",
       "Name: city, dtype: int64"
      ]
     },
     "execution_count": 21,
     "metadata": {},
     "output_type": "execute_result"
    }
   ],
   "source": [
    "count_users_by_city = data_users['city'].value_counts()\n",
    "count_users_by_city"
   ]
  },
  {
   "cell_type": "markdown",
   "id": "2d09769b",
   "metadata": {},
   "source": [
    "**Построим диаграмму распределения по городам**"
   ]
  },
  {
   "cell_type": "code",
   "execution_count": 22,
   "id": "0856dc30",
   "metadata": {},
   "outputs": [
    {
     "data": {
      "image/png": "[encoded data removed]",
      "text/plain": [
       "<Figure size 900x600 with 1 Axes>"
      ]
     },
     "metadata": {},
     "output_type": "display_data"
    }
   ],
   "source": [
    "count_users_by_city.plot(kind='barh', figsize=(9,6))\n",
    "plt.title(\"Распределение пользователей по городам\")\n",
    "plt.xlabel('Количество пользователей')\n",
    "plt.show()"
   ]
  },
  {
   "cell_type": "markdown",
   "id": "2ba2d388",
   "metadata": {},
   "source": [
    "Как мы видим наибольшше количество пользователей в Пятигорске, что наверное связано с тем что в этом городе наибольшее количество арендованных самокатов предоставляется компанией \"Яндекс\", на последнем месте г. Москва, где очень много компаний по аренде самокатов."
   ]
  },
  {
   "cell_type": "markdown",
   "id": "dea84537",
   "metadata": {},
   "source": [
    "**Теперь рассмотрим соотношение пользователей с подпиской и без подписки**"
   ]
  },
  {
   "cell_type": "code",
   "execution_count": 23,
   "id": "19382dc6",
   "metadata": {},
   "outputs": [
    {
     "data": {
      "text/plain": [
       "free     835\n",
       "ultra    699\n",
       "Name: subscription_type, dtype: int64"
      ]
     },
     "execution_count": 23,
     "metadata": {},
     "output_type": "execute_result"
    }
   ],
   "source": [
    "count_subscription_type = data_users['subscription_type'].value_counts()\n",
    "count_subscription_type"
   ]
  },
  {
   "cell_type": "markdown",
   "id": "b248be35",
   "metadata": {},
   "source": [
    "Для визуализации соотношения пользователей с подпиской или без построим диаграмму"
   ]
  },
  {
   "cell_type": "code",
   "execution_count": 24,
   "id": "7ef882bf",
   "metadata": {},
   "outputs": [
    {
     "data": {
      "image/png": "[encoded data removed]",
      "text/plain": [
       "<Figure size 1000x1000 with 1 Axes>"
      ]
     },
     "metadata": {},
     "output_type": "display_data"
    }
   ],
   "source": [
    "data_users['subscription_type'].value_counts().plot.pie(y=count_subscription_type, figsize=(10,10), label='', autopct='%1.0f%%')\n",
    "plt.title('Соотношение пользователей \"с подпиской\" и \"без подписки\"')\n",
    "plt.show()"
   ]
  },
  {
   "cell_type": "markdown",
   "id": "eae6258e",
   "metadata": {},
   "source": [
    "Как видно из графика больше пользователей без подписки. Но я бы сказал их почти поровну. Думаю связано с тем, что самокат часто берут, чтобы добраться из пункта \"А\" в пункт \"Б\". А те кто оформил подписку вероятно пользуются самокатом в качестве постоянного средства передвижения"
   ]
  },
  {
   "cell_type": "markdown",
   "id": "4ffaf6e0",
   "metadata": {},
   "source": [
    "**Рассмотрим возраст пользователей.**"
   ]
  },
  {
   "cell_type": "code",
   "execution_count": 25,
   "id": "219c6efb",
   "metadata": {},
   "outputs": [
    {
     "data": {
      "text/plain": [
       "25    145\n",
       "24    132\n",
       "26    131\n",
       "23    129\n",
       "22    119\n",
       "27    119\n",
       "28    112\n",
       "21     93\n",
       "20     71\n",
       "30     68\n",
       "29     68\n",
       "31     48\n",
       "19     47\n",
       "18     46\n",
       "32     41\n",
       "33     39\n",
       "17     26\n",
       "16     19\n",
       "34     19\n",
       "35     15\n",
       "15     13\n",
       "14      9\n",
       "13      8\n",
       "36      6\n",
       "12      4\n",
       "38      3\n",
       "37      2\n",
       "39      1\n",
       "43      1\n",
       "Name: age, dtype: int64"
      ]
     },
     "execution_count": 25,
     "metadata": {},
     "output_type": "execute_result"
    }
   ],
   "source": [
    "data_users['age'].value_counts()"
   ]
  },
  {
   "cell_type": "code",
   "execution_count": 26,
   "id": "412a3369",
   "metadata": {
    "scrolled": true
   },
   "outputs": [
    {
     "data": {
      "image/png": "[encoded data removed]",
      "text/plain": [
       "<Figure size 640x480 with 1 Axes>"
      ]
     },
     "metadata": {},
     "output_type": "display_data"
    }
   ],
   "source": [
    "data_users['age'].hist(bins=20)\n",
    "plt.title(\"Возраст пользователей\")\n",
    "plt.xlabel('Возраст')\n",
    "plt.ylabel('Количество пользователей')\n",
    "plt.show()"
   ]
  },
  {
   "cell_type": "code",
   "execution_count": 27,
   "id": "237eb9fa",
   "metadata": {},
   "outputs": [
    {
     "data": {
      "text/plain": [
       "count    1534.000000\n",
       "mean       24.903520\n",
       "std         4.572367\n",
       "min        12.000000\n",
       "25%        22.000000\n",
       "50%        25.000000\n",
       "75%        28.000000\n",
       "max        43.000000\n",
       "Name: age, dtype: float64"
      ]
     },
     "execution_count": 27,
     "metadata": {},
     "output_type": "execute_result"
    }
   ],
   "source": [
    "data_users['age'].describe()"
   ]
  },
  {
   "cell_type": "markdown",
   "id": "48735838",
   "metadata": {},
   "source": [
    "Как мы видим большинство пользователей в возрасте от 20 до 32 лет. После 32 лет идет спад пользователей самокатов. До 20 лет есть небольшой скачок на пользователях 17 лет."
   ]
  },
  {
   "cell_type": "markdown",
   "id": "dbefbe9b",
   "metadata": {},
   "source": [
    "**Расстояние, которое пользователь преодолел за одну поездку**"
   ]
  },
  {
   "cell_type": "code",
   "execution_count": 28,
   "id": "efa18c8a",
   "metadata": {},
   "outputs": [
    {
     "data": {
      "text/plain": [
       "16309    7211.01\n",
       "16484    7066.00\n",
       "15580    6908.49\n",
       "17171    6760.94\n",
       "17242    6724.93\n",
       "10341    6671.97\n",
       "11385    6601.20\n",
       "12086    6538.94\n",
       "10915    6535.39\n",
       "11319    6503.60\n",
       "Name: distance, dtype: float64"
      ]
     },
     "execution_count": 28,
     "metadata": {},
     "output_type": "execute_result"
    }
   ],
   "source": [
    "round(data_rides['distance'].sort_values(ascending=False), 2).head(10)"
   ]
  },
  {
   "cell_type": "markdown",
   "id": "7bb8dba0",
   "metadata": {},
   "source": [
    "Некоторые пользователи проезжают больше 7 км. на самокате"
   ]
  },
  {
   "cell_type": "code",
   "execution_count": 29,
   "id": "5447c16a",
   "metadata": {},
   "outputs": [
    {
     "data": {
      "text/plain": [
       "11862    15.63\n",
       "15626    15.37\n",
       "13940    15.00\n",
       "8324     12.23\n",
       "8906     11.28\n",
       "7841      7.10\n",
       "8658      6.78\n",
       "13690     4.33\n",
       "9541      2.57\n",
       "11555     0.86\n",
       "Name: distance, dtype: float64"
      ]
     },
     "execution_count": 29,
     "metadata": {},
     "output_type": "execute_result"
    }
   ],
   "source": [
    "round(data_rides['distance'].sort_values(ascending=False), 2).tail(10)"
   ]
  },
  {
   "cell_type": "markdown",
   "id": "28a6027b",
   "metadata": {},
   "source": [
    "Минимальные же дистанции составили до 20 м."
   ]
  },
  {
   "cell_type": "code",
   "execution_count": 30,
   "id": "144b96f1",
   "metadata": {
    "scrolled": true
   },
   "outputs": [
    {
     "data": {
      "image/png": "[encoded data removed]",
      "text/plain": [
       "<Figure size 640x480 with 1 Axes>"
      ]
     },
     "metadata": {},
     "output_type": "display_data"
    }
   ],
   "source": [
    "data_rides['distance'].hist(bins=1000)\n",
    "plt.title('Расстояние 1 поездки')\n",
    "plt.xlabel('Расстояние, м')\n",
    "plt.ylabel('Количество поездок')\n",
    "plt.show()"
   ]
  },
  {
   "cell_type": "code",
   "execution_count": 31,
   "id": "520f1641",
   "metadata": {
    "scrolled": true
   },
   "outputs": [
    {
     "data": {
      "text/plain": [
       "count    18068.000000\n",
       "mean      3070.659976\n",
       "std       1116.831209\n",
       "min          0.855683\n",
       "25%       2543.226360\n",
       "50%       3133.609994\n",
       "75%       3776.222735\n",
       "max       7211.007745\n",
       "Name: distance, dtype: float64"
      ]
     },
     "execution_count": 31,
     "metadata": {},
     "output_type": "execute_result"
    }
   ],
   "source": [
    "data_rides['distance'].describe()"
   ]
  },
  {
   "cell_type": "markdown",
   "id": "13d9d662",
   "metadata": {},
   "source": [
    "На графике имеется 2 пика, большой на 3133 м., думаю здесь причина очевидна: именно столько большинство пользователей перемещается к цели на самокате. 2 пик от 0 до 1500 м. Думаю это пользователи с подпиской пользуются преимуществами бесплатного старта, и передвигаются на самокате, даже если идти не далеко."
   ]
  },
  {
   "cell_type": "code",
   "execution_count": 32,
   "id": "f1a6ed7b",
   "metadata": {},
   "outputs": [
    {
     "data": {
      "text/plain": [
       "count    18068.000000\n",
       "mean      3070.659976\n",
       "std       1116.831209\n",
       "min          0.855683\n",
       "25%       2543.226360\n",
       "50%       3133.609994\n",
       "75%       3776.222735\n",
       "max       7211.007745\n",
       "Name: distance, dtype: float64"
      ]
     },
     "execution_count": 32,
     "metadata": {},
     "output_type": "execute_result"
    }
   ],
   "source": [
    "data_rides['distance'].describe()"
   ]
  },
  {
   "cell_type": "markdown",
   "id": "8df58423",
   "metadata": {},
   "source": [
    "По полученным данным мы видим, что большинство пользователей проезжает на самокате от 2543 м до 3776 м. Такое расстояние преодолевают большинство людей."
   ]
  },
  {
   "cell_type": "markdown",
   "id": "f186b1d0",
   "metadata": {},
   "source": [
    "**Продолжительность поездок**"
   ]
  },
  {
   "cell_type": "code",
   "execution_count": 33,
   "id": "ec112355",
   "metadata": {},
   "outputs": [
    {
     "data": {
      "text/plain": [
       "4215    40.82\n",
       "4709    39.87\n",
       "2623    39.53\n",
       "1998    38.35\n",
       "6453    38.27\n",
       "143     38.13\n",
       "3729    37.01\n",
       "499     36.91\n",
       "6348    36.81\n",
       "4653    36.62\n",
       "Name: duration, dtype: float64"
      ]
     },
     "execution_count": 33,
     "metadata": {},
     "output_type": "execute_result"
    }
   ],
   "source": [
    "round(data_rides['duration'].sort_values(ascending=False), 2).head(10)"
   ]
  },
  {
   "cell_type": "markdown",
   "id": "218c543d",
   "metadata": {},
   "source": [
    "Самые длительные поездки больше 35 минут. Думаю в таких случаях самокат брали прокатиться."
   ]
  },
  {
   "cell_type": "code",
   "execution_count": 34,
   "id": "9c0d21e4",
   "metadata": {
    "scrolled": true
   },
   "outputs": [
    {
     "data": {
      "text/plain": [
       "6531     0.5\n",
       "16540    0.5\n",
       "10650    0.5\n",
       "11445    0.5\n",
       "6570     0.5\n",
       "6768     0.5\n",
       "7883     0.5\n",
       "16179    0.5\n",
       "9497     0.5\n",
       "16704    0.5\n",
       "Name: duration, dtype: float64"
      ]
     },
     "execution_count": 34,
     "metadata": {},
     "output_type": "execute_result"
    }
   ],
   "source": [
    "round(data_rides['duration'].sort_values(ascending=False), 2).tail(10)"
   ]
  },
  {
   "cell_type": "markdown",
   "id": "f7dde39b",
   "metadata": {},
   "source": [
    "Поездки длительностью меньше 1 минуты. Думаю это те случаи когда пользователи передумали брать самокат."
   ]
  },
  {
   "cell_type": "code",
   "execution_count": 35,
   "id": "2b9c9b0f",
   "metadata": {
    "scrolled": true
   },
   "outputs": [
    {
     "data": {
      "image/png": "[encoded data removed]",
      "text/plain": [
       "<Figure size 640x480 with 1 Axes>"
      ]
     },
     "metadata": {},
     "output_type": "display_data"
    }
   ],
   "source": [
    "data_rides['duration'].hist(bins=50)\n",
    "plt.title('Длительность 1 поездки')\n",
    "plt.xlabel('Длительность, мин.')\n",
    "plt.ylabel('Количество поездок')\n",
    "plt.show()"
   ]
  },
  {
   "cell_type": "code",
   "execution_count": 36,
   "id": "80d3c3c7",
   "metadata": {
    "scrolled": true
   },
   "outputs": [
    {
     "data": {
      "text/plain": [
       "count    18068.000000\n",
       "mean        17.805011\n",
       "std          6.091051\n",
       "min          0.500000\n",
       "25%         13.597563\n",
       "50%         17.678395\n",
       "75%         21.724800\n",
       "max         40.823963\n",
       "Name: duration, dtype: float64"
      ]
     },
     "execution_count": 36,
     "metadata": {},
     "output_type": "execute_result"
    }
   ],
   "source": [
    "data_rides['duration'].describe()"
   ]
  },
  {
   "cell_type": "code",
   "execution_count": 37,
   "id": "282e840d",
   "metadata": {},
   "outputs": [
    {
     "data": {
      "image/png": "[encoded data removed]",
      "text/plain": [
       "<Figure size 640x480 with 1 Axes>"
      ]
     },
     "metadata": {},
     "output_type": "display_data"
    }
   ],
   "source": [
    "data_rides.boxplot('duration')\n",
    "plt.show()"
   ]
  },
  {
   "cell_type": "markdown",
   "id": "23c1c9b7",
   "metadata": {},
   "source": [
    "Минимальная поездка 1 минута. Думаю в данном случае пользователь по каким то ни было причинам ехать на самокате, максимальная же 41 минута. Все данные оставляем, т.к. оплата производится поминутно и они влияют на расчет выручки"
   ]
  },
  {
   "cell_type": "markdown",
   "id": "327a64da",
   "metadata": {},
   "source": [
    "Проверяем полученные данные"
   ]
  },
  {
   "cell_type": "code",
   "execution_count": 38,
   "id": "248a7e14",
   "metadata": {
    "scrolled": true
   },
   "outputs": [
    {
     "data": {
      "image/png": "[encoded data removed]",
      "text/plain": [
       "<Figure size 640x480 with 1 Axes>"
      ]
     },
     "metadata": {},
     "output_type": "display_data"
    }
   ],
   "source": [
    "data_rides.boxplot('duration')\n",
    "plt.show()"
   ]
  },
  {
   "cell_type": "markdown",
   "id": "e3505049",
   "metadata": {},
   "source": [
    "Отлично получилось."
   ]
  },
  {
   "cell_type": "code",
   "execution_count": 39,
   "id": "ae403eab",
   "metadata": {
    "scrolled": true
   },
   "outputs": [
    {
     "name": "stdout",
     "output_type": "stream",
     "text": [
      "<class 'pandas.core.frame.DataFrame'>\n",
      "RangeIndex: 18068 entries, 0 to 18067\n",
      "Data columns (total 5 columns):\n",
      " #   Column    Non-Null Count  Dtype         \n",
      "---  ------    --------------  -----         \n",
      " 0   user_id   18068 non-null  int64         \n",
      " 1   distance  18068 non-null  float64       \n",
      " 2   duration  18068 non-null  float64       \n",
      " 3   date      18068 non-null  datetime64[ns]\n",
      " 4   month     18068 non-null  int64         \n",
      "dtypes: datetime64[ns](1), float64(2), int64(2)\n",
      "memory usage: 705.9 KB\n"
     ]
    }
   ],
   "source": [
    "data_rides.info()"
   ]
  },
  {
   "cell_type": "code",
   "execution_count": 40,
   "id": "dbf79528",
   "metadata": {},
   "outputs": [
    {
     "data": {
      "text/plain": [
       "count    18068.000000\n",
       "mean        17.805011\n",
       "std          6.091051\n",
       "min          0.500000\n",
       "25%         13.597563\n",
       "50%         17.678395\n",
       "75%         21.724800\n",
       "max         40.823963\n",
       "Name: duration, dtype: float64"
      ]
     },
     "execution_count": 40,
     "metadata": {},
     "output_type": "execute_result"
    }
   ],
   "source": [
    "data_rides['duration'].describe()"
   ]
  },
  {
   "cell_type": "markdown",
   "id": "70974dc0",
   "metadata": {},
   "source": [
    "Среднее время поездок около 18 минут. Большинство пользователей брало самокат для поездок от 14 до 21 минуты."
   ]
  },
  {
   "cell_type": "markdown",
   "id": "13b35873",
   "metadata": {},
   "source": [
    "#### Шаг 4. Объединение данных"
   ]
  },
  {
   "cell_type": "markdown",
   "id": "a94cc844",
   "metadata": {},
   "source": [
    "Проведем объединение данных, сначала объединим данные о пользователях и данные о их поездках"
   ]
  },
  {
   "cell_type": "code",
   "execution_count": 41,
   "id": "d54666a7",
   "metadata": {},
   "outputs": [],
   "source": [
    "data = data_rides.merge(data_users, on ='user_id', how='left')"
   ]
  },
  {
   "cell_type": "code",
   "execution_count": 42,
   "id": "0e54e74e",
   "metadata": {
    "scrolled": true
   },
   "outputs": [
    {
     "data": {
      "text/html": [
       "<div>\n",
       "<style scoped>\n",
       "    .dataframe tbody tr th:only-of-type {\n",
       "        vertical-align: middle;\n",
       "    }\n",
       "\n",
       "    .dataframe tbody tr th {\n",
       "        vertical-align: top;\n",
       "    }\n",
       "\n",
       "    .dataframe thead th {\n",
       "        text-align: right;\n",
       "    }\n",
       "</style>\n",
       "<table border=\"1\" class=\"dataframe\">\n",
       "  <thead>\n",
       "    <tr style=\"text-align: right;\">\n",
       "      <th></th>\n",
       "      <th>user_id</th>\n",
       "      <th>distance</th>\n",
       "      <th>duration</th>\n",
       "      <th>date</th>\n",
       "      <th>month</th>\n",
       "      <th>name</th>\n",
       "      <th>age</th>\n",
       "      <th>city</th>\n",
       "      <th>subscription_type</th>\n",
       "    </tr>\n",
       "  </thead>\n",
       "  <tbody>\n",
       "    <tr>\n",
       "      <th>0</th>\n",
       "      <td>1</td>\n",
       "      <td>4409.919140</td>\n",
       "      <td>25.599769</td>\n",
       "      <td>2021-01-01</td>\n",
       "      <td>1</td>\n",
       "      <td>Кира</td>\n",
       "      <td>22</td>\n",
       "      <td>Тюмень</td>\n",
       "      <td>ultra</td>\n",
       "    </tr>\n",
       "    <tr>\n",
       "      <th>1</th>\n",
       "      <td>1</td>\n",
       "      <td>2617.592153</td>\n",
       "      <td>15.816871</td>\n",
       "      <td>2021-01-18</td>\n",
       "      <td>1</td>\n",
       "      <td>Кира</td>\n",
       "      <td>22</td>\n",
       "      <td>Тюмень</td>\n",
       "      <td>ultra</td>\n",
       "    </tr>\n",
       "    <tr>\n",
       "      <th>2</th>\n",
       "      <td>1</td>\n",
       "      <td>754.159807</td>\n",
       "      <td>6.232113</td>\n",
       "      <td>2021-04-20</td>\n",
       "      <td>4</td>\n",
       "      <td>Кира</td>\n",
       "      <td>22</td>\n",
       "      <td>Тюмень</td>\n",
       "      <td>ultra</td>\n",
       "    </tr>\n",
       "    <tr>\n",
       "      <th>3</th>\n",
       "      <td>1</td>\n",
       "      <td>2694.783254</td>\n",
       "      <td>18.511000</td>\n",
       "      <td>2021-08-11</td>\n",
       "      <td>8</td>\n",
       "      <td>Кира</td>\n",
       "      <td>22</td>\n",
       "      <td>Тюмень</td>\n",
       "      <td>ultra</td>\n",
       "    </tr>\n",
       "    <tr>\n",
       "      <th>4</th>\n",
       "      <td>1</td>\n",
       "      <td>4028.687306</td>\n",
       "      <td>26.265803</td>\n",
       "      <td>2021-08-28</td>\n",
       "      <td>8</td>\n",
       "      <td>Кира</td>\n",
       "      <td>22</td>\n",
       "      <td>Тюмень</td>\n",
       "      <td>ultra</td>\n",
       "    </tr>\n",
       "  </tbody>\n",
       "</table>\n",
       "</div>"
      ],
      "text/plain": [
       "   user_id     distance   duration       date  month  name  age    city  \\\n",
       "0        1  4409.919140  25.599769 2021-01-01      1  Кира   22  Тюмень   \n",
       "1        1  2617.592153  15.816871 2021-01-18      1  Кира   22  Тюмень   \n",
       "2        1   754.159807   6.232113 2021-04-20      4  Кира   22  Тюмень   \n",
       "3        1  2694.783254  18.511000 2021-08-11      8  Кира   22  Тюмень   \n",
       "4        1  4028.687306  26.265803 2021-08-28      8  Кира   22  Тюмень   \n",
       "\n",
       "  subscription_type  \n",
       "0             ultra  \n",
       "1             ultra  \n",
       "2             ultra  \n",
       "3             ultra  \n",
       "4             ultra  "
      ]
     },
     "execution_count": 42,
     "metadata": {},
     "output_type": "execute_result"
    }
   ],
   "source": [
    "data.head()"
   ]
  },
  {
   "cell_type": "markdown",
   "id": "cc6f8407",
   "metadata": {},
   "source": [
    "Теперь к полученной таблице добавим данные о подписке"
   ]
  },
  {
   "cell_type": "code",
   "execution_count": 43,
   "id": "a2282c36",
   "metadata": {},
   "outputs": [],
   "source": [
    "data = data.merge(data_subscriptions, on ='subscription_type', how='left')"
   ]
  },
  {
   "cell_type": "code",
   "execution_count": 44,
   "id": "6bdbdb2c",
   "metadata": {},
   "outputs": [
    {
     "data": {
      "text/html": [
       "<div>\n",
       "<style scoped>\n",
       "    .dataframe tbody tr th:only-of-type {\n",
       "        vertical-align: middle;\n",
       "    }\n",
       "\n",
       "    .dataframe tbody tr th {\n",
       "        vertical-align: top;\n",
       "    }\n",
       "\n",
       "    .dataframe thead th {\n",
       "        text-align: right;\n",
       "    }\n",
       "</style>\n",
       "<table border=\"1\" class=\"dataframe\">\n",
       "  <thead>\n",
       "    <tr style=\"text-align: right;\">\n",
       "      <th></th>\n",
       "      <th>user_id</th>\n",
       "      <th>distance</th>\n",
       "      <th>duration</th>\n",
       "      <th>date</th>\n",
       "      <th>month</th>\n",
       "      <th>name</th>\n",
       "      <th>age</th>\n",
       "      <th>city</th>\n",
       "      <th>subscription_type</th>\n",
       "      <th>minute_price</th>\n",
       "      <th>start_ride_price</th>\n",
       "      <th>subscription_fee</th>\n",
       "    </tr>\n",
       "  </thead>\n",
       "  <tbody>\n",
       "    <tr>\n",
       "      <th>18063</th>\n",
       "      <td>1534</td>\n",
       "      <td>3781.098080</td>\n",
       "      <td>19.822962</td>\n",
       "      <td>2021-11-04</td>\n",
       "      <td>11</td>\n",
       "      <td>Альберт</td>\n",
       "      <td>25</td>\n",
       "      <td>Краснодар</td>\n",
       "      <td>free</td>\n",
       "      <td>8</td>\n",
       "      <td>50</td>\n",
       "      <td>0</td>\n",
       "    </tr>\n",
       "    <tr>\n",
       "      <th>18064</th>\n",
       "      <td>1534</td>\n",
       "      <td>2840.423057</td>\n",
       "      <td>21.409799</td>\n",
       "      <td>2021-11-16</td>\n",
       "      <td>11</td>\n",
       "      <td>Альберт</td>\n",
       "      <td>25</td>\n",
       "      <td>Краснодар</td>\n",
       "      <td>free</td>\n",
       "      <td>8</td>\n",
       "      <td>50</td>\n",
       "      <td>0</td>\n",
       "    </tr>\n",
       "    <tr>\n",
       "      <th>18065</th>\n",
       "      <td>1534</td>\n",
       "      <td>3826.185507</td>\n",
       "      <td>18.435051</td>\n",
       "      <td>2021-11-18</td>\n",
       "      <td>11</td>\n",
       "      <td>Альберт</td>\n",
       "      <td>25</td>\n",
       "      <td>Краснодар</td>\n",
       "      <td>free</td>\n",
       "      <td>8</td>\n",
       "      <td>50</td>\n",
       "      <td>0</td>\n",
       "    </tr>\n",
       "    <tr>\n",
       "      <th>18066</th>\n",
       "      <td>1534</td>\n",
       "      <td>2902.308661</td>\n",
       "      <td>16.674362</td>\n",
       "      <td>2021-11-27</td>\n",
       "      <td>11</td>\n",
       "      <td>Альберт</td>\n",
       "      <td>25</td>\n",
       "      <td>Краснодар</td>\n",
       "      <td>free</td>\n",
       "      <td>8</td>\n",
       "      <td>50</td>\n",
       "      <td>0</td>\n",
       "    </tr>\n",
       "    <tr>\n",
       "      <th>18067</th>\n",
       "      <td>1534</td>\n",
       "      <td>2371.711192</td>\n",
       "      <td>15.893917</td>\n",
       "      <td>2021-12-29</td>\n",
       "      <td>12</td>\n",
       "      <td>Альберт</td>\n",
       "      <td>25</td>\n",
       "      <td>Краснодар</td>\n",
       "      <td>free</td>\n",
       "      <td>8</td>\n",
       "      <td>50</td>\n",
       "      <td>0</td>\n",
       "    </tr>\n",
       "  </tbody>\n",
       "</table>\n",
       "</div>"
      ],
      "text/plain": [
       "       user_id     distance   duration       date  month     name  age  \\\n",
       "18063     1534  3781.098080  19.822962 2021-11-04     11  Альберт   25   \n",
       "18064     1534  2840.423057  21.409799 2021-11-16     11  Альберт   25   \n",
       "18065     1534  3826.185507  18.435051 2021-11-18     11  Альберт   25   \n",
       "18066     1534  2902.308661  16.674362 2021-11-27     11  Альберт   25   \n",
       "18067     1534  2371.711192  15.893917 2021-12-29     12  Альберт   25   \n",
       "\n",
       "            city subscription_type  minute_price  start_ride_price  \\\n",
       "18063  Краснодар              free             8                50   \n",
       "18064  Краснодар              free             8                50   \n",
       "18065  Краснодар              free             8                50   \n",
       "18066  Краснодар              free             8                50   \n",
       "18067  Краснодар              free             8                50   \n",
       "\n",
       "       subscription_fee  \n",
       "18063                 0  \n",
       "18064                 0  \n",
       "18065                 0  \n",
       "18066                 0  \n",
       "18067                 0  "
      ]
     },
     "execution_count": 44,
     "metadata": {},
     "output_type": "execute_result"
    }
   ],
   "source": [
    "data.tail()"
   ]
  },
  {
   "cell_type": "markdown",
   "id": "2f8bb9fc",
   "metadata": {},
   "source": [
    "Создадим ещё два датафрейма из датафрейма и визиализируем данные "
   ]
  },
  {
   "cell_type": "code",
   "execution_count": 45,
   "id": "ed26c521",
   "metadata": {
    "scrolled": false
   },
   "outputs": [
    {
     "name": "stdout",
     "output_type": "stream",
     "text": [
      "<class 'pandas.core.frame.DataFrame'>\n",
      "Int64Index: 18068 entries, 0 to 18067\n",
      "Data columns (total 12 columns):\n",
      " #   Column             Non-Null Count  Dtype         \n",
      "---  ------             --------------  -----         \n",
      " 0   user_id            18068 non-null  int64         \n",
      " 1   distance           18068 non-null  float64       \n",
      " 2   duration           18068 non-null  float64       \n",
      " 3   date               18068 non-null  datetime64[ns]\n",
      " 4   month              18068 non-null  int64         \n",
      " 5   name               18068 non-null  object        \n",
      " 6   age                18068 non-null  int64         \n",
      " 7   city               18068 non-null  object        \n",
      " 8   subscription_type  18068 non-null  object        \n",
      " 9   minute_price       18068 non-null  int64         \n",
      " 10  start_ride_price   18068 non-null  int64         \n",
      " 11  subscription_fee   18068 non-null  int64         \n",
      "dtypes: datetime64[ns](1), float64(2), int64(6), object(3)\n",
      "memory usage: 1.8+ MB\n"
     ]
    }
   ],
   "source": [
    "data.info()"
   ]
  },
  {
   "cell_type": "code",
   "execution_count": 46,
   "id": "395b4a2e",
   "metadata": {
    "scrolled": true
   },
   "outputs": [
    {
     "name": "stdout",
     "output_type": "stream",
     "text": [
      "<class 'pandas.core.frame.DataFrame'>\n",
      "RangeIndex: 18068 entries, 0 to 18067\n",
      "Data columns (total 5 columns):\n",
      " #   Column    Non-Null Count  Dtype         \n",
      "---  ------    --------------  -----         \n",
      " 0   user_id   18068 non-null  int64         \n",
      " 1   distance  18068 non-null  float64       \n",
      " 2   duration  18068 non-null  float64       \n",
      " 3   date      18068 non-null  datetime64[ns]\n",
      " 4   month     18068 non-null  int64         \n",
      "dtypes: datetime64[ns](1), float64(2), int64(2)\n",
      "memory usage: 705.9 KB\n"
     ]
    }
   ],
   "source": [
    "data_rides.info()"
   ]
  },
  {
   "cell_type": "markdown",
   "id": "ab59244d",
   "metadata": {},
   "source": [
    "Количество строк в изначальной таблице с поездками совпадает с количеством строк в объединенной таблице"
   ]
  },
  {
   "cell_type": "markdown",
   "id": "b7f4cfc0",
   "metadata": {},
   "source": [
    "**Датафрейм c данными о пользователях без подписки**"
   ]
  },
  {
   "cell_type": "code",
   "execution_count": 47,
   "id": "59537034",
   "metadata": {},
   "outputs": [],
   "source": [
    "free_data = data.query(\"`subscription_type` == 'free'\")"
   ]
  },
  {
   "cell_type": "code",
   "execution_count": 48,
   "id": "4c45e79d",
   "metadata": {},
   "outputs": [
    {
     "data": {
      "text/html": [
       "<div>\n",
       "<style scoped>\n",
       "    .dataframe tbody tr th:only-of-type {\n",
       "        vertical-align: middle;\n",
       "    }\n",
       "\n",
       "    .dataframe tbody tr th {\n",
       "        vertical-align: top;\n",
       "    }\n",
       "\n",
       "    .dataframe thead th {\n",
       "        text-align: right;\n",
       "    }\n",
       "</style>\n",
       "<table border=\"1\" class=\"dataframe\">\n",
       "  <thead>\n",
       "    <tr style=\"text-align: right;\">\n",
       "      <th></th>\n",
       "      <th>user_id</th>\n",
       "      <th>distance</th>\n",
       "      <th>duration</th>\n",
       "      <th>date</th>\n",
       "      <th>month</th>\n",
       "      <th>name</th>\n",
       "      <th>age</th>\n",
       "      <th>city</th>\n",
       "      <th>subscription_type</th>\n",
       "      <th>minute_price</th>\n",
       "      <th>start_ride_price</th>\n",
       "      <th>subscription_fee</th>\n",
       "    </tr>\n",
       "  </thead>\n",
       "  <tbody>\n",
       "    <tr>\n",
       "      <th>6500</th>\n",
       "      <td>700</td>\n",
       "      <td>2515.690719</td>\n",
       "      <td>14.944286</td>\n",
       "      <td>2021-01-02</td>\n",
       "      <td>1</td>\n",
       "      <td>Айдар</td>\n",
       "      <td>22</td>\n",
       "      <td>Омск</td>\n",
       "      <td>free</td>\n",
       "      <td>8</td>\n",
       "      <td>50</td>\n",
       "      <td>0</td>\n",
       "    </tr>\n",
       "    <tr>\n",
       "      <th>6501</th>\n",
       "      <td>700</td>\n",
       "      <td>846.932642</td>\n",
       "      <td>16.234663</td>\n",
       "      <td>2021-02-01</td>\n",
       "      <td>2</td>\n",
       "      <td>Айдар</td>\n",
       "      <td>22</td>\n",
       "      <td>Омск</td>\n",
       "      <td>free</td>\n",
       "      <td>8</td>\n",
       "      <td>50</td>\n",
       "      <td>0</td>\n",
       "    </tr>\n",
       "    <tr>\n",
       "      <th>6502</th>\n",
       "      <td>700</td>\n",
       "      <td>4004.434142</td>\n",
       "      <td>20.016628</td>\n",
       "      <td>2021-02-04</td>\n",
       "      <td>2</td>\n",
       "      <td>Айдар</td>\n",
       "      <td>22</td>\n",
       "      <td>Омск</td>\n",
       "      <td>free</td>\n",
       "      <td>8</td>\n",
       "      <td>50</td>\n",
       "      <td>0</td>\n",
       "    </tr>\n",
       "    <tr>\n",
       "      <th>6503</th>\n",
       "      <td>700</td>\n",
       "      <td>1205.911290</td>\n",
       "      <td>9.782872</td>\n",
       "      <td>2021-02-10</td>\n",
       "      <td>2</td>\n",
       "      <td>Айдар</td>\n",
       "      <td>22</td>\n",
       "      <td>Омск</td>\n",
       "      <td>free</td>\n",
       "      <td>8</td>\n",
       "      <td>50</td>\n",
       "      <td>0</td>\n",
       "    </tr>\n",
       "    <tr>\n",
       "      <th>6504</th>\n",
       "      <td>700</td>\n",
       "      <td>3047.379435</td>\n",
       "      <td>17.427673</td>\n",
       "      <td>2021-02-14</td>\n",
       "      <td>2</td>\n",
       "      <td>Айдар</td>\n",
       "      <td>22</td>\n",
       "      <td>Омск</td>\n",
       "      <td>free</td>\n",
       "      <td>8</td>\n",
       "      <td>50</td>\n",
       "      <td>0</td>\n",
       "    </tr>\n",
       "  </tbody>\n",
       "</table>\n",
       "</div>"
      ],
      "text/plain": [
       "      user_id     distance   duration       date  month   name  age  city  \\\n",
       "6500      700  2515.690719  14.944286 2021-01-02      1  Айдар   22  Омск   \n",
       "6501      700   846.932642  16.234663 2021-02-01      2  Айдар   22  Омск   \n",
       "6502      700  4004.434142  20.016628 2021-02-04      2  Айдар   22  Омск   \n",
       "6503      700  1205.911290   9.782872 2021-02-10      2  Айдар   22  Омск   \n",
       "6504      700  3047.379435  17.427673 2021-02-14      2  Айдар   22  Омск   \n",
       "\n",
       "     subscription_type  minute_price  start_ride_price  subscription_fee  \n",
       "6500              free             8                50                 0  \n",
       "6501              free             8                50                 0  \n",
       "6502              free             8                50                 0  \n",
       "6503              free             8                50                 0  \n",
       "6504              free             8                50                 0  "
      ]
     },
     "execution_count": 48,
     "metadata": {},
     "output_type": "execute_result"
    }
   ],
   "source": [
    "free_data.head()"
   ]
  },
  {
   "cell_type": "code",
   "execution_count": 49,
   "id": "4040c91b",
   "metadata": {},
   "outputs": [
    {
     "name": "stdout",
     "output_type": "stream",
     "text": [
      "<class 'pandas.core.frame.DataFrame'>\n",
      "Int64Index: 11568 entries, 6500 to 18067\n",
      "Data columns (total 12 columns):\n",
      " #   Column             Non-Null Count  Dtype         \n",
      "---  ------             --------------  -----         \n",
      " 0   user_id            11568 non-null  int64         \n",
      " 1   distance           11568 non-null  float64       \n",
      " 2   duration           11568 non-null  float64       \n",
      " 3   date               11568 non-null  datetime64[ns]\n",
      " 4   month              11568 non-null  int64         \n",
      " 5   name               11568 non-null  object        \n",
      " 6   age                11568 non-null  int64         \n",
      " 7   city               11568 non-null  object        \n",
      " 8   subscription_type  11568 non-null  object        \n",
      " 9   minute_price       11568 non-null  int64         \n",
      " 10  start_ride_price   11568 non-null  int64         \n",
      " 11  subscription_fee   11568 non-null  int64         \n",
      "dtypes: datetime64[ns](1), float64(2), int64(6), object(3)\n",
      "memory usage: 1.1+ MB\n"
     ]
    }
   ],
   "source": [
    "free_data.info()"
   ]
  },
  {
   "cell_type": "markdown",
   "id": "45edc3f6",
   "metadata": {},
   "source": [
    "Получилось 835 строк, думаю слеует посмотреть в каких городах наиболее часто пользуются самокатами без подписки."
   ]
  },
  {
   "cell_type": "code",
   "execution_count": 50,
   "id": "bc9b4e9e",
   "metadata": {},
   "outputs": [
    {
     "data": {
      "text/plain": [
       "Пятигорск         1672\n",
       "Екатеринбург      1585\n",
       "Ростов-на-Дону    1565\n",
       "Краснодар         1521\n",
       "Сочи              1446\n",
       "Тюмень            1354\n",
       "Омск              1250\n",
       "Москва            1175\n",
       "Name: city, dtype: int64"
      ]
     },
     "execution_count": 50,
     "metadata": {},
     "output_type": "execute_result"
    }
   ],
   "source": [
    "count_free_by_city = free_data['city'].value_counts()\n",
    "count_free_by_city"
   ]
  },
  {
   "cell_type": "code",
   "execution_count": 51,
   "id": "664d1346",
   "metadata": {},
   "outputs": [
    {
     "data": {
      "image/png": "[encoded data removed]",
      "text/plain": [
       "<Figure size 900x600 with 1 Axes>"
      ]
     },
     "metadata": {},
     "output_type": "display_data"
    }
   ],
   "source": [
    "count_free_by_city.plot(kind='barh', figsize=(9,6))\n",
    "plt.title(\"Распределение по городам поездок без подписки\")\n",
    "plt.xlabel('Количество поездок')\n",
    "plt.show()"
   ]
  },
  {
   "cell_type": "markdown",
   "id": "61c1d41a",
   "metadata": {},
   "source": [
    "Теперь посмотрим расстояние которое преодолевают пользователи без подписки"
   ]
  },
  {
   "cell_type": "code",
   "execution_count": 52,
   "id": "86721a33",
   "metadata": {},
   "outputs": [
    {
     "data": {
      "image/png": "[encoded data removed]",
      "text/plain": [
       "<Figure size 640x480 with 1 Axes>"
      ]
     },
     "metadata": {},
     "output_type": "display_data"
    }
   ],
   "source": [
    "free_data['distance'].hist(bins=100)\n",
    "plt.title(\"Расстояние преодоленное пользователями без подписки\")\n",
    "plt.xlabel('Дистанция, м')\n",
    "plt.ylabel('Количество поездок')\n",
    "plt.show()"
   ]
  },
  {
   "cell_type": "markdown",
   "id": "2bedcf68",
   "metadata": {},
   "source": [
    "И посмотрим на время проведенное в поездке пользователей без подписки."
   ]
  },
  {
   "cell_type": "code",
   "execution_count": 53,
   "id": "5631f6f1",
   "metadata": {
    "scrolled": true
   },
   "outputs": [
    {
     "data": {
      "image/png": "[encoded data removed]",
      "text/plain": [
       "<Figure size 640x480 with 1 Axes>"
      ]
     },
     "metadata": {},
     "output_type": "display_data"
    }
   ],
   "source": [
    "free_data['duration'].hist(bins=40)\n",
    "plt.title(\"Время аренды электросамоката пользователями без подписки\")\n",
    "plt.xlabel('Время, мин')\n",
    "plt.ylabel('Количество поездок')\n",
    "plt.show()"
   ]
  },
  {
   "cell_type": "markdown",
   "id": "99922758",
   "metadata": {},
   "source": [
    "**Датафрейм c данными о пользователях с подпиской**"
   ]
  },
  {
   "cell_type": "code",
   "execution_count": 54,
   "id": "3477d772",
   "metadata": {},
   "outputs": [],
   "source": [
    "ultra_data = data.query(\"`subscription_type` == 'ultra'\")"
   ]
  },
  {
   "cell_type": "code",
   "execution_count": 55,
   "id": "78bfdcf0",
   "metadata": {},
   "outputs": [
    {
     "data": {
      "text/html": [
       "<div>\n",
       "<style scoped>\n",
       "    .dataframe tbody tr th:only-of-type {\n",
       "        vertical-align: middle;\n",
       "    }\n",
       "\n",
       "    .dataframe tbody tr th {\n",
       "        vertical-align: top;\n",
       "    }\n",
       "\n",
       "    .dataframe thead th {\n",
       "        text-align: right;\n",
       "    }\n",
       "</style>\n",
       "<table border=\"1\" class=\"dataframe\">\n",
       "  <thead>\n",
       "    <tr style=\"text-align: right;\">\n",
       "      <th></th>\n",
       "      <th>user_id</th>\n",
       "      <th>distance</th>\n",
       "      <th>duration</th>\n",
       "      <th>date</th>\n",
       "      <th>month</th>\n",
       "      <th>name</th>\n",
       "      <th>age</th>\n",
       "      <th>city</th>\n",
       "      <th>subscription_type</th>\n",
       "      <th>minute_price</th>\n",
       "      <th>start_ride_price</th>\n",
       "      <th>subscription_fee</th>\n",
       "    </tr>\n",
       "  </thead>\n",
       "  <tbody>\n",
       "    <tr>\n",
       "      <th>0</th>\n",
       "      <td>1</td>\n",
       "      <td>4409.919140</td>\n",
       "      <td>25.599769</td>\n",
       "      <td>2021-01-01</td>\n",
       "      <td>1</td>\n",
       "      <td>Кира</td>\n",
       "      <td>22</td>\n",
       "      <td>Тюмень</td>\n",
       "      <td>ultra</td>\n",
       "      <td>6</td>\n",
       "      <td>0</td>\n",
       "      <td>199</td>\n",
       "    </tr>\n",
       "    <tr>\n",
       "      <th>1</th>\n",
       "      <td>1</td>\n",
       "      <td>2617.592153</td>\n",
       "      <td>15.816871</td>\n",
       "      <td>2021-01-18</td>\n",
       "      <td>1</td>\n",
       "      <td>Кира</td>\n",
       "      <td>22</td>\n",
       "      <td>Тюмень</td>\n",
       "      <td>ultra</td>\n",
       "      <td>6</td>\n",
       "      <td>0</td>\n",
       "      <td>199</td>\n",
       "    </tr>\n",
       "    <tr>\n",
       "      <th>2</th>\n",
       "      <td>1</td>\n",
       "      <td>754.159807</td>\n",
       "      <td>6.232113</td>\n",
       "      <td>2021-04-20</td>\n",
       "      <td>4</td>\n",
       "      <td>Кира</td>\n",
       "      <td>22</td>\n",
       "      <td>Тюмень</td>\n",
       "      <td>ultra</td>\n",
       "      <td>6</td>\n",
       "      <td>0</td>\n",
       "      <td>199</td>\n",
       "    </tr>\n",
       "    <tr>\n",
       "      <th>3</th>\n",
       "      <td>1</td>\n",
       "      <td>2694.783254</td>\n",
       "      <td>18.511000</td>\n",
       "      <td>2021-08-11</td>\n",
       "      <td>8</td>\n",
       "      <td>Кира</td>\n",
       "      <td>22</td>\n",
       "      <td>Тюмень</td>\n",
       "      <td>ultra</td>\n",
       "      <td>6</td>\n",
       "      <td>0</td>\n",
       "      <td>199</td>\n",
       "    </tr>\n",
       "    <tr>\n",
       "      <th>4</th>\n",
       "      <td>1</td>\n",
       "      <td>4028.687306</td>\n",
       "      <td>26.265803</td>\n",
       "      <td>2021-08-28</td>\n",
       "      <td>8</td>\n",
       "      <td>Кира</td>\n",
       "      <td>22</td>\n",
       "      <td>Тюмень</td>\n",
       "      <td>ultra</td>\n",
       "      <td>6</td>\n",
       "      <td>0</td>\n",
       "      <td>199</td>\n",
       "    </tr>\n",
       "  </tbody>\n",
       "</table>\n",
       "</div>"
      ],
      "text/plain": [
       "   user_id     distance   duration       date  month  name  age    city  \\\n",
       "0        1  4409.919140  25.599769 2021-01-01      1  Кира   22  Тюмень   \n",
       "1        1  2617.592153  15.816871 2021-01-18      1  Кира   22  Тюмень   \n",
       "2        1   754.159807   6.232113 2021-04-20      4  Кира   22  Тюмень   \n",
       "3        1  2694.783254  18.511000 2021-08-11      8  Кира   22  Тюмень   \n",
       "4        1  4028.687306  26.265803 2021-08-28      8  Кира   22  Тюмень   \n",
       "\n",
       "  subscription_type  minute_price  start_ride_price  subscription_fee  \n",
       "0             ultra             6                 0               199  \n",
       "1             ultra             6                 0               199  \n",
       "2             ultra             6                 0               199  \n",
       "3             ultra             6                 0               199  \n",
       "4             ultra             6                 0               199  "
      ]
     },
     "execution_count": 55,
     "metadata": {},
     "output_type": "execute_result"
    }
   ],
   "source": [
    "ultra_data.head()"
   ]
  },
  {
   "cell_type": "code",
   "execution_count": 56,
   "id": "abfb8cdc",
   "metadata": {},
   "outputs": [
    {
     "name": "stdout",
     "output_type": "stream",
     "text": [
      "<class 'pandas.core.frame.DataFrame'>\n",
      "Int64Index: 6500 entries, 0 to 6499\n",
      "Data columns (total 12 columns):\n",
      " #   Column             Non-Null Count  Dtype         \n",
      "---  ------             --------------  -----         \n",
      " 0   user_id            6500 non-null   int64         \n",
      " 1   distance           6500 non-null   float64       \n",
      " 2   duration           6500 non-null   float64       \n",
      " 3   date               6500 non-null   datetime64[ns]\n",
      " 4   month              6500 non-null   int64         \n",
      " 5   name               6500 non-null   object        \n",
      " 6   age                6500 non-null   int64         \n",
      " 7   city               6500 non-null   object        \n",
      " 8   subscription_type  6500 non-null   object        \n",
      " 9   minute_price       6500 non-null   int64         \n",
      " 10  start_ride_price   6500 non-null   int64         \n",
      " 11  subscription_fee   6500 non-null   int64         \n",
      "dtypes: datetime64[ns](1), float64(2), int64(6), object(3)\n",
      "memory usage: 660.2+ KB\n"
     ]
    }
   ],
   "source": [
    "ultra_data.info()"
   ]
  },
  {
   "cell_type": "markdown",
   "id": "18c71c28",
   "metadata": {},
   "source": [
    "Получилось 699 строк, думаю слеует посмотреть в каких городах наиболее часто пользуются самокатами без подписки."
   ]
  },
  {
   "cell_type": "code",
   "execution_count": 57,
   "id": "db538e6c",
   "metadata": {},
   "outputs": [
    {
     "data": {
      "text/plain": [
       "Ростов-на-Дону    885\n",
       "Екатеринбург      876\n",
       "Пятигорск         852\n",
       "Омск              827\n",
       "Сочи              813\n",
       "Краснодар         780\n",
       "Тюмень            767\n",
       "Москва            700\n",
       "Name: city, dtype: int64"
      ]
     },
     "execution_count": 57,
     "metadata": {},
     "output_type": "execute_result"
    }
   ],
   "source": [
    "count_ultra_by_city = ultra_data['city'].value_counts()\n",
    "count_ultra_by_city"
   ]
  },
  {
   "cell_type": "code",
   "execution_count": 58,
   "id": "aee0045e",
   "metadata": {},
   "outputs": [
    {
     "data": {
      "image/png": "[encoded data removed]",
      "text/plain": [
       "<Figure size 900x600 with 1 Axes>"
      ]
     },
     "metadata": {},
     "output_type": "display_data"
    }
   ],
   "source": [
    "count_ultra_by_city.plot(kind='barh', figsize=(9,6))\n",
    "plt.title(\"Распределение по городам поездок c подпиской\")\n",
    "plt.xlabel('Количество поездок')\n",
    "plt.show()"
   ]
  },
  {
   "cell_type": "markdown",
   "id": "54de2052",
   "metadata": {},
   "source": [
    "Интересно получается, в г. Пятигорске, где наибольшее количество пользователей электросамокатов больше пользователей пользуется без подписки, в то же время в г. Ростов-на_Дону наибольшее количество пользователей с подпиской. Думаю это связано с отсутствием понимания выгоды пользования подпиской."
   ]
  },
  {
   "cell_type": "markdown",
   "id": "e30b77f6",
   "metadata": {},
   "source": [
    "Расстояние которое преодолевают пользователи с подпиской"
   ]
  },
  {
   "cell_type": "code",
   "execution_count": 59,
   "id": "91ed6db9",
   "metadata": {
    "scrolled": true
   },
   "outputs": [
    {
     "data": {
      "image/png": "[encoded data removed]",
      "text/plain": [
       "<Figure size 640x480 with 1 Axes>"
      ]
     },
     "metadata": {},
     "output_type": "display_data"
    }
   ],
   "source": [
    "ultra_data['distance'].hist(bins=100)\n",
    "plt.title(\"Расстояние преодоленное пользователями без подписки\")\n",
    "plt.xlabel('Дистанция, м')\n",
    "plt.ylabel('Количество поездок')\n",
    "plt.show()"
   ]
  },
  {
   "cell_type": "markdown",
   "id": "ce0dc088",
   "metadata": {},
   "source": [
    "Время проведенное в поездке пользователями с подпиской"
   ]
  },
  {
   "cell_type": "code",
   "execution_count": 60,
   "id": "f22df7cd",
   "metadata": {},
   "outputs": [
    {
     "data": {
      "image/png": "[encoded data removed]",
      "text/plain": [
       "<Figure size 640x480 with 1 Axes>"
      ]
     },
     "metadata": {},
     "output_type": "display_data"
    }
   ],
   "source": [
    "ultra_data['duration'].hist(bins=40)\n",
    "plt.title(\"Время аренды электросамоката пользователями без подписки\")\n",
    "plt.xlabel('Время, мин')\n",
    "plt.ylabel('Количество поездок')\n",
    "plt.show()"
   ]
  },
  {
   "cell_type": "code",
   "execution_count": 61,
   "id": "0ac1ef0a",
   "metadata": {
    "scrolled": true
   },
   "outputs": [
    {
     "data": {
      "image/png": "[encoded data removed]",
      "text/plain": [
       "<Figure size 640x480 with 1 Axes>"
      ]
     },
     "metadata": {},
     "output_type": "display_data"
    }
   ],
   "source": [
    "free_data['distance'].hist(bins=100)\n",
    "ultra_data['distance'].hist(bins=100)\n",
    "plt.title(\"Расстояние преодоленное пользователями\")\n",
    "plt.xlabel('Дистанция, м')\n",
    "plt.ylabel('Количество поездок')\n",
    "plt.show()"
   ]
  },
  {
   "cell_type": "code",
   "execution_count": 62,
   "id": "e136c811",
   "metadata": {},
   "outputs": [
    {
     "data": {
      "image/png": "[encoded data removed]",
      "text/plain": [
       "<Figure size 640x480 with 1 Axes>"
      ]
     },
     "metadata": {},
     "output_type": "display_data"
    }
   ],
   "source": [
    "free_data['duration'].hist(bins=40)\n",
    "ultra_data['duration'].hist(bins=40)\n",
    "plt.title(\"Время аренды электросамоката пользователями\")\n",
    "plt.xlabel('Время, мин')\n",
    "plt.ylabel('Количество поездок')\n",
    "plt.show()"
   ]
  },
  {
   "cell_type": "markdown",
   "id": "179939b8",
   "metadata": {},
   "source": [
    "Вывод могу сделать следующий. Расстояние и время поездок на электросамокатах мало чем отличается между пользователями \"с подпиской\" и \"без\". Думаю отсутсвие подписки связано в первую очередь с нежеланием человека платить за подписку и отсутсвием понимания выгоды подписки."
   ]
  },
  {
   "cell_type": "markdown",
   "id": "c7e8e866",
   "metadata": {},
   "source": [
    "#### Шаг 5. Подсчёт выручки"
   ]
  },
  {
   "cell_type": "markdown",
   "id": "058c24db",
   "metadata": {},
   "source": [
    "В датафрейме data приведем столбец с данными поминутно к условию задания, т.е. округлим данные до следующего целого числа."
   ]
  },
  {
   "cell_type": "code",
   "execution_count": 63,
   "id": "26ee4d36",
   "metadata": {
    "scrolled": false
   },
   "outputs": [
    {
     "name": "stdout",
     "output_type": "stream",
     "text": [
      "<class 'pandas.core.frame.DataFrame'>\n",
      "Int64Index: 18068 entries, 0 to 18067\n",
      "Data columns (total 12 columns):\n",
      " #   Column             Non-Null Count  Dtype         \n",
      "---  ------             --------------  -----         \n",
      " 0   user_id            18068 non-null  int64         \n",
      " 1   distance           18068 non-null  float64       \n",
      " 2   duration           18068 non-null  float64       \n",
      " 3   date               18068 non-null  datetime64[ns]\n",
      " 4   month              18068 non-null  int64         \n",
      " 5   name               18068 non-null  object        \n",
      " 6   age                18068 non-null  int64         \n",
      " 7   city               18068 non-null  object        \n",
      " 8   subscription_type  18068 non-null  object        \n",
      " 9   minute_price       18068 non-null  int64         \n",
      " 10  start_ride_price   18068 non-null  int64         \n",
      " 11  subscription_fee   18068 non-null  int64         \n",
      "dtypes: datetime64[ns](1), float64(2), int64(6), object(3)\n",
      "memory usage: 1.8+ MB\n"
     ]
    }
   ],
   "source": [
    "data.info()"
   ]
  },
  {
   "cell_type": "code",
   "execution_count": 64,
   "id": "3b2e5827",
   "metadata": {},
   "outputs": [],
   "source": [
    "data['duration'] = np.ceil(data['duration'])"
   ]
  },
  {
   "cell_type": "code",
   "execution_count": 65,
   "id": "7ef0f69b",
   "metadata": {
    "scrolled": true
   },
   "outputs": [
    {
     "data": {
      "text/html": [
       "<div>\n",
       "<style scoped>\n",
       "    .dataframe tbody tr th:only-of-type {\n",
       "        vertical-align: middle;\n",
       "    }\n",
       "\n",
       "    .dataframe tbody tr th {\n",
       "        vertical-align: top;\n",
       "    }\n",
       "\n",
       "    .dataframe thead th {\n",
       "        text-align: right;\n",
       "    }\n",
       "</style>\n",
       "<table border=\"1\" class=\"dataframe\">\n",
       "  <thead>\n",
       "    <tr style=\"text-align: right;\">\n",
       "      <th></th>\n",
       "      <th>user_id</th>\n",
       "      <th>distance</th>\n",
       "      <th>duration</th>\n",
       "      <th>date</th>\n",
       "      <th>month</th>\n",
       "      <th>name</th>\n",
       "      <th>age</th>\n",
       "      <th>city</th>\n",
       "      <th>subscription_type</th>\n",
       "      <th>minute_price</th>\n",
       "      <th>start_ride_price</th>\n",
       "      <th>subscription_fee</th>\n",
       "    </tr>\n",
       "  </thead>\n",
       "  <tbody>\n",
       "    <tr>\n",
       "      <th>0</th>\n",
       "      <td>1</td>\n",
       "      <td>4409.919140</td>\n",
       "      <td>26.0</td>\n",
       "      <td>2021-01-01</td>\n",
       "      <td>1</td>\n",
       "      <td>Кира</td>\n",
       "      <td>22</td>\n",
       "      <td>Тюмень</td>\n",
       "      <td>ultra</td>\n",
       "      <td>6</td>\n",
       "      <td>0</td>\n",
       "      <td>199</td>\n",
       "    </tr>\n",
       "    <tr>\n",
       "      <th>1</th>\n",
       "      <td>1</td>\n",
       "      <td>2617.592153</td>\n",
       "      <td>16.0</td>\n",
       "      <td>2021-01-18</td>\n",
       "      <td>1</td>\n",
       "      <td>Кира</td>\n",
       "      <td>22</td>\n",
       "      <td>Тюмень</td>\n",
       "      <td>ultra</td>\n",
       "      <td>6</td>\n",
       "      <td>0</td>\n",
       "      <td>199</td>\n",
       "    </tr>\n",
       "    <tr>\n",
       "      <th>2</th>\n",
       "      <td>1</td>\n",
       "      <td>754.159807</td>\n",
       "      <td>7.0</td>\n",
       "      <td>2021-04-20</td>\n",
       "      <td>4</td>\n",
       "      <td>Кира</td>\n",
       "      <td>22</td>\n",
       "      <td>Тюмень</td>\n",
       "      <td>ultra</td>\n",
       "      <td>6</td>\n",
       "      <td>0</td>\n",
       "      <td>199</td>\n",
       "    </tr>\n",
       "    <tr>\n",
       "      <th>3</th>\n",
       "      <td>1</td>\n",
       "      <td>2694.783254</td>\n",
       "      <td>19.0</td>\n",
       "      <td>2021-08-11</td>\n",
       "      <td>8</td>\n",
       "      <td>Кира</td>\n",
       "      <td>22</td>\n",
       "      <td>Тюмень</td>\n",
       "      <td>ultra</td>\n",
       "      <td>6</td>\n",
       "      <td>0</td>\n",
       "      <td>199</td>\n",
       "    </tr>\n",
       "    <tr>\n",
       "      <th>4</th>\n",
       "      <td>1</td>\n",
       "      <td>4028.687306</td>\n",
       "      <td>27.0</td>\n",
       "      <td>2021-08-28</td>\n",
       "      <td>8</td>\n",
       "      <td>Кира</td>\n",
       "      <td>22</td>\n",
       "      <td>Тюмень</td>\n",
       "      <td>ultra</td>\n",
       "      <td>6</td>\n",
       "      <td>0</td>\n",
       "      <td>199</td>\n",
       "    </tr>\n",
       "  </tbody>\n",
       "</table>\n",
       "</div>"
      ],
      "text/plain": [
       "   user_id     distance  duration       date  month  name  age    city  \\\n",
       "0        1  4409.919140      26.0 2021-01-01      1  Кира   22  Тюмень   \n",
       "1        1  2617.592153      16.0 2021-01-18      1  Кира   22  Тюмень   \n",
       "2        1   754.159807       7.0 2021-04-20      4  Кира   22  Тюмень   \n",
       "3        1  2694.783254      19.0 2021-08-11      8  Кира   22  Тюмень   \n",
       "4        1  4028.687306      27.0 2021-08-28      8  Кира   22  Тюмень   \n",
       "\n",
       "  subscription_type  minute_price  start_ride_price  subscription_fee  \n",
       "0             ultra             6                 0               199  \n",
       "1             ultra             6                 0               199  \n",
       "2             ultra             6                 0               199  \n",
       "3             ultra             6                 0               199  \n",
       "4             ultra             6                 0               199  "
      ]
     },
     "execution_count": 65,
     "metadata": {},
     "output_type": "execute_result"
    }
   ],
   "source": [
    "data.head()"
   ]
  },
  {
   "cell_type": "code",
   "execution_count": 66,
   "id": "d5f4148d",
   "metadata": {
    "scrolled": true
   },
   "outputs": [
    {
     "name": "stdout",
     "output_type": "stream",
     "text": [
      "<class 'pandas.core.frame.DataFrame'>\n",
      "Int64Index: 18068 entries, 0 to 18067\n",
      "Data columns (total 12 columns):\n",
      " #   Column             Non-Null Count  Dtype         \n",
      "---  ------             --------------  -----         \n",
      " 0   user_id            18068 non-null  int64         \n",
      " 1   distance           18068 non-null  float64       \n",
      " 2   duration           18068 non-null  float64       \n",
      " 3   date               18068 non-null  datetime64[ns]\n",
      " 4   month              18068 non-null  int64         \n",
      " 5   name               18068 non-null  object        \n",
      " 6   age                18068 non-null  int64         \n",
      " 7   city               18068 non-null  object        \n",
      " 8   subscription_type  18068 non-null  object        \n",
      " 9   minute_price       18068 non-null  int64         \n",
      " 10  start_ride_price   18068 non-null  int64         \n",
      " 11  subscription_fee   18068 non-null  int64         \n",
      "dtypes: datetime64[ns](1), float64(2), int64(6), object(3)\n",
      "memory usage: 1.8+ MB\n"
     ]
    }
   ],
   "source": [
    "data.info()"
   ]
  },
  {
   "cell_type": "markdown",
   "id": "63519646",
   "metadata": {},
   "source": [
    "Все получилось, теперь необходимо объединить данные для подсчета выручки"
   ]
  },
  {
   "cell_type": "markdown",
   "id": "60c4f4b2",
   "metadata": {},
   "source": [
    "**Создадим новый датафрейм для подсчета выручки.**"
   ]
  },
  {
   "cell_type": "markdown",
   "id": "479e776a",
   "metadata": {},
   "source": [
    "**Проведем агрегацию данных.**"
   ]
  },
  {
   "cell_type": "code",
   "execution_count": 67,
   "id": "6d2bfff1",
   "metadata": {},
   "outputs": [],
   "source": [
    "revenue_data = pd.pivot_table(data,\n",
    "                           index=['month', 'user_id'],\n",
    "                           values = ['distance', 'duration', 'name', 'subscription_type'],\n",
    "                           aggfunc = {'distance': sum, \n",
    "                                      'duration' : sum, \n",
    "                                      'name' : len, \n",
    "                                      'subscription_type' : min})"
   ]
  },
  {
   "cell_type": "code",
   "execution_count": 68,
   "id": "4af3c6cb",
   "metadata": {},
   "outputs": [
    {
     "data": {
      "text/html": [
       "<div>\n",
       "<style scoped>\n",
       "    .dataframe tbody tr th:only-of-type {\n",
       "        vertical-align: middle;\n",
       "    }\n",
       "\n",
       "    .dataframe tbody tr th {\n",
       "        vertical-align: top;\n",
       "    }\n",
       "\n",
       "    .dataframe thead th {\n",
       "        text-align: right;\n",
       "    }\n",
       "</style>\n",
       "<table border=\"1\" class=\"dataframe\">\n",
       "  <thead>\n",
       "    <tr style=\"text-align: right;\">\n",
       "      <th></th>\n",
       "      <th></th>\n",
       "      <th>distance</th>\n",
       "      <th>duration</th>\n",
       "      <th>name</th>\n",
       "      <th>subscription_type</th>\n",
       "    </tr>\n",
       "    <tr>\n",
       "      <th>month</th>\n",
       "      <th>user_id</th>\n",
       "      <th></th>\n",
       "      <th></th>\n",
       "      <th></th>\n",
       "      <th></th>\n",
       "    </tr>\n",
       "  </thead>\n",
       "  <tbody>\n",
       "    <tr>\n",
       "      <th rowspan=\"5\" valign=\"top\">1</th>\n",
       "      <th>1</th>\n",
       "      <td>7027.511294</td>\n",
       "      <td>42.0</td>\n",
       "      <td>2</td>\n",
       "      <td>ultra</td>\n",
       "    </tr>\n",
       "    <tr>\n",
       "      <th>3</th>\n",
       "      <td>3061.777147</td>\n",
       "      <td>13.0</td>\n",
       "      <td>1</td>\n",
       "      <td>ultra</td>\n",
       "    </tr>\n",
       "    <tr>\n",
       "      <th>5</th>\n",
       "      <td>3914.646990</td>\n",
       "      <td>13.0</td>\n",
       "      <td>1</td>\n",
       "      <td>ultra</td>\n",
       "    </tr>\n",
       "    <tr>\n",
       "      <th>7</th>\n",
       "      <td>6478.080979</td>\n",
       "      <td>28.0</td>\n",
       "      <td>2</td>\n",
       "      <td>ultra</td>\n",
       "    </tr>\n",
       "    <tr>\n",
       "      <th>12</th>\n",
       "      <td>3577.151148</td>\n",
       "      <td>33.0</td>\n",
       "      <td>1</td>\n",
       "      <td>ultra</td>\n",
       "    </tr>\n",
       "  </tbody>\n",
       "</table>\n",
       "</div>"
      ],
      "text/plain": [
       "                  distance  duration  name subscription_type\n",
       "month user_id                                               \n",
       "1     1        7027.511294      42.0     2             ultra\n",
       "      3        3061.777147      13.0     1             ultra\n",
       "      5        3914.646990      13.0     1             ultra\n",
       "      7        6478.080979      28.0     2             ultra\n",
       "      12       3577.151148      33.0     1             ultra"
      ]
     },
     "execution_count": 68,
     "metadata": {},
     "output_type": "execute_result"
    }
   ],
   "source": [
    "revenue_data.head()"
   ]
  },
  {
   "cell_type": "markdown",
   "id": "bcb96935",
   "metadata": {},
   "source": [
    "Переименуем столбец name"
   ]
  },
  {
   "cell_type": "code",
   "execution_count": 69,
   "id": "c3d63498",
   "metadata": {},
   "outputs": [],
   "source": [
    "revenue_data.rename(columns = {'name' : 'count'}, inplace = True)"
   ]
  },
  {
   "cell_type": "markdown",
   "id": "2eaaf53e",
   "metadata": {},
   "source": [
    "К полученным данным добавим информацию о стоимости поездки."
   ]
  },
  {
   "cell_type": "code",
   "execution_count": 70,
   "id": "3d1e494a",
   "metadata": {},
   "outputs": [],
   "source": [
    "revenue_data =  revenue_data.merge(data_subscriptions, on ='subscription_type', how='left')"
   ]
  },
  {
   "cell_type": "code",
   "execution_count": 71,
   "id": "73778671",
   "metadata": {},
   "outputs": [
    {
     "data": {
      "text/html": [
       "<div>\n",
       "<style scoped>\n",
       "    .dataframe tbody tr th:only-of-type {\n",
       "        vertical-align: middle;\n",
       "    }\n",
       "\n",
       "    .dataframe tbody tr th {\n",
       "        vertical-align: top;\n",
       "    }\n",
       "\n",
       "    .dataframe thead th {\n",
       "        text-align: right;\n",
       "    }\n",
       "</style>\n",
       "<table border=\"1\" class=\"dataframe\">\n",
       "  <thead>\n",
       "    <tr style=\"text-align: right;\">\n",
       "      <th></th>\n",
       "      <th>distance</th>\n",
       "      <th>duration</th>\n",
       "      <th>count</th>\n",
       "      <th>subscription_type</th>\n",
       "      <th>minute_price</th>\n",
       "      <th>start_ride_price</th>\n",
       "      <th>subscription_fee</th>\n",
       "    </tr>\n",
       "  </thead>\n",
       "  <tbody>\n",
       "    <tr>\n",
       "      <th>11326</th>\n",
       "      <td>4597.854350</td>\n",
       "      <td>34.0</td>\n",
       "      <td>1</td>\n",
       "      <td>free</td>\n",
       "      <td>8</td>\n",
       "      <td>50</td>\n",
       "      <td>0</td>\n",
       "    </tr>\n",
       "    <tr>\n",
       "      <th>11327</th>\n",
       "      <td>3644.121544</td>\n",
       "      <td>23.0</td>\n",
       "      <td>1</td>\n",
       "      <td>free</td>\n",
       "      <td>8</td>\n",
       "      <td>50</td>\n",
       "      <td>0</td>\n",
       "    </tr>\n",
       "    <tr>\n",
       "      <th>11328</th>\n",
       "      <td>3998.569324</td>\n",
       "      <td>11.0</td>\n",
       "      <td>1</td>\n",
       "      <td>free</td>\n",
       "      <td>8</td>\n",
       "      <td>50</td>\n",
       "      <td>0</td>\n",
       "    </tr>\n",
       "    <tr>\n",
       "      <th>11329</th>\n",
       "      <td>6111.889853</td>\n",
       "      <td>42.0</td>\n",
       "      <td>2</td>\n",
       "      <td>free</td>\n",
       "      <td>8</td>\n",
       "      <td>50</td>\n",
       "      <td>0</td>\n",
       "    </tr>\n",
       "    <tr>\n",
       "      <th>11330</th>\n",
       "      <td>2371.711192</td>\n",
       "      <td>16.0</td>\n",
       "      <td>1</td>\n",
       "      <td>free</td>\n",
       "      <td>8</td>\n",
       "      <td>50</td>\n",
       "      <td>0</td>\n",
       "    </tr>\n",
       "  </tbody>\n",
       "</table>\n",
       "</div>"
      ],
      "text/plain": [
       "          distance  duration  count subscription_type  minute_price  \\\n",
       "11326  4597.854350      34.0      1              free             8   \n",
       "11327  3644.121544      23.0      1              free             8   \n",
       "11328  3998.569324      11.0      1              free             8   \n",
       "11329  6111.889853      42.0      2              free             8   \n",
       "11330  2371.711192      16.0      1              free             8   \n",
       "\n",
       "       start_ride_price  subscription_fee  \n",
       "11326                50                 0  \n",
       "11327                50                 0  \n",
       "11328                50                 0  \n",
       "11329                50                 0  \n",
       "11330                50                 0  "
      ]
     },
     "execution_count": 71,
     "metadata": {},
     "output_type": "execute_result"
    }
   ],
   "source": [
    "revenue_data.tail()"
   ]
  },
  {
   "cell_type": "markdown",
   "id": "19b9902a",
   "metadata": {},
   "source": [
    "Добавим столбец с помесячной выручкой."
   ]
  },
  {
   "cell_type": "code",
   "execution_count": 72,
   "id": "48af8b7b",
   "metadata": {},
   "outputs": [],
   "source": [
    "def revenue(row):\n",
    "    if row['subscription_type'] == 'ultra':\n",
    "        return row['duration'] * row['minute_price'] + row['subscription_fee']\n",
    "    elif row['subscription_type'] == 'free':\n",
    "        return row['duration'] * row['minute_price'] + row['start_ride_price'] * row['count']\n",
    "    else:\n",
    "        return print('Ошибка')"
   ]
  },
  {
   "cell_type": "code",
   "execution_count": 73,
   "id": "3487c761",
   "metadata": {},
   "outputs": [],
   "source": [
    "revenue_data['revenue_month'] = revenue_data.apply(revenue, axis=1)"
   ]
  },
  {
   "cell_type": "code",
   "execution_count": 74,
   "id": "3cf9e8e2",
   "metadata": {
    "scrolled": true
   },
   "outputs": [
    {
     "data": {
      "text/html": [
       "<div>\n",
       "<style scoped>\n",
       "    .dataframe tbody tr th:only-of-type {\n",
       "        vertical-align: middle;\n",
       "    }\n",
       "\n",
       "    .dataframe tbody tr th {\n",
       "        vertical-align: top;\n",
       "    }\n",
       "\n",
       "    .dataframe thead th {\n",
       "        text-align: right;\n",
       "    }\n",
       "</style>\n",
       "<table border=\"1\" class=\"dataframe\">\n",
       "  <thead>\n",
       "    <tr style=\"text-align: right;\">\n",
       "      <th></th>\n",
       "      <th>distance</th>\n",
       "      <th>duration</th>\n",
       "      <th>count</th>\n",
       "      <th>subscription_type</th>\n",
       "      <th>minute_price</th>\n",
       "      <th>start_ride_price</th>\n",
       "      <th>subscription_fee</th>\n",
       "      <th>revenue_month</th>\n",
       "    </tr>\n",
       "  </thead>\n",
       "  <tbody>\n",
       "    <tr>\n",
       "      <th>11326</th>\n",
       "      <td>4597.854350</td>\n",
       "      <td>34.0</td>\n",
       "      <td>1</td>\n",
       "      <td>free</td>\n",
       "      <td>8</td>\n",
       "      <td>50</td>\n",
       "      <td>0</td>\n",
       "      <td>322.0</td>\n",
       "    </tr>\n",
       "    <tr>\n",
       "      <th>11327</th>\n",
       "      <td>3644.121544</td>\n",
       "      <td>23.0</td>\n",
       "      <td>1</td>\n",
       "      <td>free</td>\n",
       "      <td>8</td>\n",
       "      <td>50</td>\n",
       "      <td>0</td>\n",
       "      <td>234.0</td>\n",
       "    </tr>\n",
       "    <tr>\n",
       "      <th>11328</th>\n",
       "      <td>3998.569324</td>\n",
       "      <td>11.0</td>\n",
       "      <td>1</td>\n",
       "      <td>free</td>\n",
       "      <td>8</td>\n",
       "      <td>50</td>\n",
       "      <td>0</td>\n",
       "      <td>138.0</td>\n",
       "    </tr>\n",
       "    <tr>\n",
       "      <th>11329</th>\n",
       "      <td>6111.889853</td>\n",
       "      <td>42.0</td>\n",
       "      <td>2</td>\n",
       "      <td>free</td>\n",
       "      <td>8</td>\n",
       "      <td>50</td>\n",
       "      <td>0</td>\n",
       "      <td>436.0</td>\n",
       "    </tr>\n",
       "    <tr>\n",
       "      <th>11330</th>\n",
       "      <td>2371.711192</td>\n",
       "      <td>16.0</td>\n",
       "      <td>1</td>\n",
       "      <td>free</td>\n",
       "      <td>8</td>\n",
       "      <td>50</td>\n",
       "      <td>0</td>\n",
       "      <td>178.0</td>\n",
       "    </tr>\n",
       "  </tbody>\n",
       "</table>\n",
       "</div>"
      ],
      "text/plain": [
       "          distance  duration  count subscription_type  minute_price  \\\n",
       "11326  4597.854350      34.0      1              free             8   \n",
       "11327  3644.121544      23.0      1              free             8   \n",
       "11328  3998.569324      11.0      1              free             8   \n",
       "11329  6111.889853      42.0      2              free             8   \n",
       "11330  2371.711192      16.0      1              free             8   \n",
       "\n",
       "       start_ride_price  subscription_fee  revenue_month  \n",
       "11326                50                 0          322.0  \n",
       "11327                50                 0          234.0  \n",
       "11328                50                 0          138.0  \n",
       "11329                50                 0          436.0  \n",
       "11330                50                 0          178.0  "
      ]
     },
     "execution_count": 74,
     "metadata": {},
     "output_type": "execute_result"
    }
   ],
   "source": [
    "revenue_data.tail()"
   ]
  },
  {
   "cell_type": "code",
   "execution_count": 75,
   "id": "cfae7319",
   "metadata": {
    "scrolled": true
   },
   "outputs": [
    {
     "data": {
      "text/plain": [
       "count    11331.000000\n",
       "mean       342.303504\n",
       "std        153.875346\n",
       "min         58.000000\n",
       "25%        234.000000\n",
       "50%        319.000000\n",
       "75%        415.000000\n",
       "max       1444.000000\n",
       "Name: revenue_month, dtype: float64"
      ]
     },
     "execution_count": 75,
     "metadata": {},
     "output_type": "execute_result"
    }
   ],
   "source": [
    "revenue_data['revenue_month'].describe()"
   ]
  },
  {
   "cell_type": "markdown",
   "id": "5880e77c",
   "metadata": {},
   "source": [
    "Минимальную сумму в месяц пользователь тратил 58 руб., т.е. старт + 1 минута поезки. В среднем за месяц 342 руб., максимум же составил 1444 руб."
   ]
  },
  {
   "cell_type": "markdown",
   "id": "ec0f9d26",
   "metadata": {},
   "source": [
    "#### Шаг 6. Проверка гипотез"
   ]
  },
  {
   "cell_type": "markdown",
   "id": "4e30414b",
   "metadata": {},
   "source": [
    "**6.1 Тратят ли пользователи с подпиской больше времени на поездки?**\n",
    "\n",
    "Если да, то пользователи с подпиской могут быть «выгоднее» для компании. \n",
    "\n",
    "Проверим гипотезу:\n",
    "\n",
    "H_0: Время (duration) пользователей на подписке ultra = время (duration) пользователей на подписке free\n",
    "\n",
    "H_1: Время (duration) пользователей на подписке ultra > время (duration) пользователей на подписке free\n",
    "\n",
    "Уровень статистической значимости установим 0.05"
   ]
  },
  {
   "cell_type": "code",
   "execution_count": 76,
   "id": "ec415fe5",
   "metadata": {},
   "outputs": [
    {
     "name": "stdout",
     "output_type": "stream",
     "text": [
      "p-значение: 2.5608196633291235e-34\n",
      "Отвергаем нулевую гипотезу\n",
      "Средняя продолжительность поездки для пользователей \"ultra\" 18.54198516280583\n",
      "Средняя продолжительность поездки для пользователей \"free\" 17.39090929866399\n"
     ]
    }
   ],
   "source": [
    "sample_1 = ultra_data['duration']\n",
    "sample_2 = free_data['duration']\n",
    "alpha = 0.05\n",
    "results = st.ttest_ind(sample_1, sample_2)\n",
    "\n",
    "print('p-значение:', results.pvalue)\n",
    "\n",
    "if results.pvalue < alpha:\n",
    "    print('Отвергаем нулевую гипотезу')\n",
    "else:\n",
    "    print('Не получилось отвергнуть нулевую гипотезу') \n",
    "    \n",
    "print('Средняя продолжительность поездки для пользователей \"ultra\"', ultra_data['duration'].mean())\n",
    "print('Средняя продолжительность поездки для пользователей \"free\"', free_data['duration'].mean())"
   ]
  },
  {
   "cell_type": "code",
   "execution_count": 77,
   "id": "62ae3306",
   "metadata": {},
   "outputs": [
    {
     "data": {
      "image/png": "[encoded data removed]",
      "text/plain": [
       "<Figure size 640x480 with 1 Axes>"
      ]
     },
     "metadata": {},
     "output_type": "display_data"
    }
   ],
   "source": [
    "ax = sns.barplot(x = 'month',\n",
    "            y = 'duration',\n",
    "            hue = \"subscription_type\",\n",
    "            data = data)\n",
    "\n",
    "plt.title(\"Распределение продолжительности поездок по видам подписок и месяцам\")\n",
    "plt.xlabel('Месяц')\n",
    "plt.ylabel('Продолжительность поездок')\n",
    "plt.show()"
   ]
  },
  {
   "cell_type": "markdown",
   "id": "a1ecb53d",
   "metadata": {},
   "source": [
    "**Проверили гипотезу.**\n",
    "\n",
    "Опровергли гипотезу о том, что время поездки пользователей на тарифе ultra равно или меньше времени поездки пользователей на тарифе free. Пользователи с подпиской «выгоднее» для компании."
   ]
  },
  {
   "cell_type": "markdown",
   "id": "ef970741",
   "metadata": {},
   "source": [
    "**6.2 Расстояние одной поездки в 3130 метров — оптимальное с точки зрения износа самоката.** \n",
    "\n",
    "Можно ли сказать, что среднее расстояние, которое проезжают пользователи с подпиской за одну поездку, не превышает 3130 метров?  \n",
    "Проверьте гипотезу: **пользователи с подпиской проезжают расстояние, не превышающее 3130 метров за одну поездку.**\n",
    "\n",
    "H_0: Расстояние (distance) пользователей на подписке ultra = 3130 метров\n",
    "\n",
    "H_1: Расстояние (distance) пользователей на подписке ultra > 3130 метров\n",
    "\n",
    "Уровень статистической значимости установим 0.05"
   ]
  },
  {
   "cell_type": "code",
   "execution_count": 78,
   "id": "a48969aa",
   "metadata": {},
   "outputs": [
    {
     "name": "stdout",
     "output_type": "stream",
     "text": [
      "p-значение: 0.9195368847849785\n",
      "Не получилось отвергнуть нулевую гипотезу\n",
      "В среднем пользователи с подпиской проезжают 3115.4453880370247\n"
     ]
    }
   ],
   "source": [
    "ultra_distance = ultra_data['distance']\n",
    "\n",
    "interested_value = 3130 # столько времени должны проводить пользователи на сайте\n",
    "\n",
    "alpha = 0.05 # уровень статистической значимости\n",
    "            # можно указать .05 или 0.05\n",
    "\n",
    "results = st.ttest_1samp(\n",
    "    ultra_distance, \n",
    "    interested_value,\n",
    "    alternative = 'greater')\n",
    "\n",
    "print('p-значение:', results.pvalue)\n",
    "\n",
    "if results.pvalue < alpha:\n",
    "    print('Отвергаем нулевую гипотезу')\n",
    "else:\n",
    "    print('Не получилось отвергнуть нулевую гипотезу')\n",
    "    \n",
    "print('В среднем пользователи с подпиской проезжают', ultra_data['distance'].mean())"
   ]
  },
  {
   "cell_type": "markdown",
   "id": "005f47d8",
   "metadata": {},
   "source": [
    "Проверили гипотезу, и пришли к выводу, что расстояние, которое проехали пользователи на тарифе ultra не превышает 3130 метров."
   ]
  },
  {
   "cell_type": "markdown",
   "id": "9032404e",
   "metadata": {},
   "source": [
    "**6.3 Проверьте гипотезу о том, будет ли помесячная выручка от пользователей с подпиской по месяцам выше, чем выручка от пользователей без подписки.**\n",
    "\n",
    "Проверим гипотезу: помесячная выручка от пользователей с подпиской выше, чем выручка от пользователей без подписки.\n",
    "\n",
    "H_0: Выручка за месяц (revenue_month) пользователей на подписке ultra = выручка (revenue_month) пользователей на подписке free\n",
    "\n",
    "H_1: Выручка за месяц (revenue_month) пользователей на подписке ultra > выручка (revenue_month) пользователей на подписке free\n",
    "\n",
    "Уровень статистической значимости установим 0.05"
   ]
  },
  {
   "cell_type": "code",
   "execution_count": 79,
   "id": "94e692c4",
   "metadata": {},
   "outputs": [
    {
     "name": "stdout",
     "output_type": "stream",
     "text": [
      "p-значение: 1.8850394384715216e-31\n",
      "Отвергаем нулевую гипотезу\n",
      "Средняя выручка пользователей с подпиской 362.7921906022502\n",
      "Средняя выручка пользователей без подписки 328.6413651073845\n"
     ]
    }
   ],
   "source": [
    "ultra_month = revenue_data.loc[revenue_data['subscription_type'] == 'ultra', 'revenue_month'] \n",
    "\n",
    "free_month = revenue_data.loc[revenue_data['subscription_type'] == 'free', 'revenue_month'] \n",
    "\n",
    "\n",
    "results = st.ttest_ind(ultra_month, \n",
    "                       free_month,\n",
    "                       alternative = 'greater')\n",
    "\n",
    "alpha = 0.05\n",
    "\n",
    "print('p-значение:', results.pvalue)\n",
    "\n",
    "if results.pvalue < alpha:\n",
    "    print('Отвергаем нулевую гипотезу')\n",
    "else:\n",
    "    print('Не удалось отвергнуть нулевую гипотезу')\n",
    "    \n",
    "print('Средняя выручка пользователей с подпиской', ultra_month.mean())\n",
    "print('Средняя выручка пользователей без подписки', free_month.mean())"
   ]
  },
  {
   "cell_type": "markdown",
   "id": "bb001524",
   "metadata": {},
   "source": [
    "Проверили гипотезу, можем утверждать, что выручка с пользователей на подписке ultra превышает выручку с пользователей на подписке free."
   ]
  },
  {
   "cell_type": "markdown",
   "id": "b3d6dd86",
   "metadata": {},
   "source": [
    "**6.4** Представьте такую ситуацию: техническая команда сервиса обновила сервера, с которыми взаимодействует мобильное приложение. Она надеется, что из-за этого количество обращений в техподдержку значимо снизилось. Некоторый файл содержит для каждого пользователя данные о количестве обращений до обновления и после него. Какой тест вам понадобился бы для проверки этой гипотезы?"
   ]
  },
  {
   "cell_type": "markdown",
   "id": "604658e7",
   "metadata": {},
   "source": [
    "Будем использовать гипотезу о равенстве средних для зависимых (парных) выборок.\n",
    "\n",
    "Метод, который нужно использовать при сравнении: scipy.stats.ttest_rel()\n",
    "    \n",
    "Гипотезы будут сформулированы так:\n",
    "\n",
    "H0 : μ1 = μ2\n",
    "\n",
    "H1 : μ1 > μ2\n",
    "\n",
    "где μ1 и μ2 - средние значения количество обращений в техподдержку до и после изменения.\n",
    "\n",
    "Уровень статистической значимости установим 0.05"
   ]
  },
  {
   "cell_type": "markdown",
   "id": "e0c624c9",
   "metadata": {},
   "source": [
    "#### Шаг 7. Распределения"
   ]
  },
  {
   "cell_type": "markdown",
   "id": "94a84d49",
   "metadata": {},
   "source": [
    "**7.1** Отделу маркетинга GoFast поставили задачу: нужно провести акцию с раздачей промокодов на один бесплатный месяц подписки, в рамках которой как минимум 100 существующих клиентов должны продлить эту подписку. То есть по завершении периода действия подписки пользователь может либо отказаться от неё, либо продлить, совершив соответствующий платёж. \n",
    "Эта акция уже проводилась ранее и по итогу выяснилось, что после бесплатного пробного периода подписку продлевают 10 % пользователей. Выясните, какое минимальное количество промокодов нужно разослать, чтобы вероятность не выполнить план была примерно 5 %. Подберите параметры распределения, описывающего эту ситуацию, постройте график распределения и сформулируйте ответ на вопрос о количестве промокодов."
   ]
  },
  {
   "cell_type": "code",
   "execution_count": 80,
   "id": "c9cc5fd1",
   "metadata": {},
   "outputs": [
    {
     "name": "stdout",
     "output_type": "stream",
     "text": [
      "Минимальное количество промокодов: 1161\n",
      "Вероятность не выполнить план при таком количестве промокодов: 4.976%\n"
     ]
    },
    {
     "ename": "NameError",
     "evalue": "name 'distr' is not defined",
     "output_type": "error",
     "traceback": [
      "\u001b[1;31m---------------------------------------------------------------------------\u001b[0m",
      "\u001b[1;31mNameError\u001b[0m                                 Traceback (most recent call last)",
      "Cell \u001b[1;32mIn[80], line 15\u001b[0m\n\u001b[0;32m     12\u001b[0m \u001b[38;5;28mprint\u001b[39m(\u001b[38;5;124mf\u001b[39m\u001b[38;5;124m\"\u001b[39m\u001b[38;5;124mМинимальное количество промокодов: \u001b[39m\u001b[38;5;132;01m{\u001b[39;00mn\u001b[38;5;132;01m}\u001b[39;00m\u001b[38;5;124m\"\u001b[39m)\n\u001b[0;32m     13\u001b[0m \u001b[38;5;28mprint\u001b[39m(\u001b[38;5;124mf\u001b[39m\u001b[38;5;124m\"\u001b[39m\u001b[38;5;124mВероятность не выполнить план при таком количестве промокодов: \u001b[39m\u001b[38;5;132;01m{\u001b[39;00mbinom\u001b[38;5;241m.\u001b[39mcdf(target_clients\u001b[38;5;250m \u001b[39m\u001b[38;5;241m-\u001b[39m\u001b[38;5;250m \u001b[39m\u001b[38;5;241m1\u001b[39m,\u001b[38;5;250m \u001b[39mn,\u001b[38;5;250m \u001b[39mp_renewal)\u001b[38;5;132;01m:\u001b[39;00m\u001b[38;5;124m.3%\u001b[39m\u001b[38;5;132;01m}\u001b[39;00m\u001b[38;5;124m\"\u001b[39m)\n\u001b[1;32m---> 15\u001b[0m sns\u001b[38;5;241m.\u001b[39mhistplot(distr\u001b[38;5;241m.\u001b[39mrvs(\u001b[38;5;241m1000\u001b[39m))\n\u001b[0;32m     16\u001b[0m plt\u001b[38;5;241m.\u001b[39mtitle(\u001b[38;5;124m\"\u001b[39m\u001b[38;5;124mРаспределение разосланных промокодов к продленным подпискам\u001b[39m\u001b[38;5;124m\"\u001b[39m)\n\u001b[0;32m     17\u001b[0m plt\u001b[38;5;241m.\u001b[39mxlabel(\u001b[38;5;124m'\u001b[39m\u001b[38;5;124mКоличество разосланных промокодов\u001b[39m\u001b[38;5;124m'\u001b[39m)\n",
      "\u001b[1;31mNameError\u001b[0m: name 'distr' is not defined"
     ]
    }
   ],
   "source": [
    "# Код ревьюера\n",
    "\n",
    "target_clients = 100  # Целевое количество клиентов для продления подписки\n",
    "p_renewal = 0.1       # Вероятность продления подписки\n",
    "\n",
    "# Подбор значения параметра n\n",
    "n = 1\n",
    "while binom.cdf(target_clients - 1, n, p_renewal) > 0.05:\n",
    "    n += 1\n",
    "\n",
    "# Вывод \n",
    "print(f\"Минимальное количество промокодов: {n}\")\n",
    "print(f\"Вероятность не выполнить план при таком количестве промокодов: {binom.cdf(target_clients - 1, n, p_renewal):.3%}\")\n",
    "\n",
    "sns.histplot(distr.rvs(1000))\n",
    "plt.title(\"Распределение разосланных промокодов к продленным подпискам\")\n",
    "plt.xlabel('Количество разосланных промокодов')\n",
    "plt.ylabel('Количество продленных подписок')\n",
    "plt.show()"
   ]
  },
  {
   "cell_type": "markdown",
   "id": "e9056bc0",
   "metadata": {},
   "source": [
    "**7.2** Отдел маркетинга рассылает клиентам push-уведомления в мобильном приложении. Клиенты могут открыть его или не открывать. Известно, что уведомления открывают около 40 % получивших клиентов. Отдел планирует разослать 1 млн уведомлений. С помощью аппроксимации постройте примерный график распределения и оцените вероятность того, что уведомление откроют не более 399,5 тыс. пользователей."
   ]
  },
  {
   "cell_type": "code",
   "execution_count": null,
   "id": "4611fe81",
   "metadata": {},
   "outputs": [],
   "source": [
    "n = 1000000 # задайте параметры \n",
    "p = 0.4 \n",
    "mu = n * p # рассчитайте параметры \n",
    "sigma = sqrt(n * p * (1 - p)) # нормального распределения\n",
    "\n",
    "distr = st.norm(mu, sigma) # задайте нормальное распределение\n",
    "\n",
    "result = distr.cdf(399500)# найдите вероятность\n",
    "print('Вероятность того, что уведомление откроют не более 399,5 тыс. пользователе', result)\n",
    "\n",
    "distr = binom(n, p)\n",
    "\n",
    "sns.histplot(distr.rvs(1000000))\n",
    "plt.title(\"Распределение открытых сообщений к разосланным сообщениям\")\n",
    "plt.xlabel('Количество открытых сообщений')\n",
    "plt.ylabel('Количество разосланных сообщений')\n",
    "plt.show()"
   ]
  },
  {
   "cell_type": "markdown",
   "id": "b55ba344",
   "metadata": {},
   "source": [
    "#### Общий вывод"
   ]
  },
  {
   "cell_type": "markdown",
   "id": "84666083",
   "metadata": {},
   "source": [
    "**По итогам проведенной работы можно сделать следующие выводы:**\n",
    "\n",
    "    1. Количество пользователей по городам распределено примерно одинаково, нет выдающихся значений. Лидером по количеству пользователей является Пятигорск - 219 пользователей.  Меньше всего пользователей в Москве - 168.\n",
    "    \n",
    "    2. Пользователей, использующих бесплатную подписку больше - 835 человек, что является ~54% от общего числа пользователей. Платной подпиской пользуются 699 пользователей, что соответственно является ~46%.\n",
    "    \n",
    "    3. Возраст пользователей укладывается в промежуток от 20 до 32 лет. После 32 лет идет спад пользователей самокатов. До 20 лет есть небольшой скачок на пользователях 17 лет.\n",
    "    \n",
    "    4. Большинство пользователей проезжает на самокате от 2543 м до 3776 м. \n",
    "    \n",
    "    5. Среднее время поездок 18 минут. Большинство пользователей брало самокат для поездок от 14 до 21 минуты.\n",
    "    \n",
    "    6. Расстояние и время поездок на электросамокатах мало чем отличается между пользователями \"с подпиской\" и \"без\". Думаю отсутсвие подписки связано в первую очередь с нежеланием человека платить за подписку и отсутсвием понимания выгоды подписки.\n",
    "    \n",
    "    7. Минимальную сумму в месяц пользователь тратил 90 руб. В среднем за месяц 252 руб., максимум же составил 433 руб.\n",
    "    \n",
    " **Проверили следующие гипотезы:**\n",
    " \n",
    "1. Тратят ли пользователи с подпиской больше времени на поездки?\n",
    "    \n",
    "        - Гипотеза подтвердилась. Время поездки пользователей на тарифе ultra равно или меньше времени поездки пользователей на тарифе free. Пользователи с подпиской «выгоднее» для компании.\n",
    "    \n",
    "1. Расстояние одной поездки в 3130 метров — оптимальное с точки зрения износа самоката. Можно ли сказать, что среднее расстояние, которое проезжают пользователи с подпиской за одну поездку, не превышает 3130 метров?\n",
    "    \n",
    "        - Гипотеза не подтвердилась. Время поездки пользователей на тарифе ultra равно или больше времени поездки пользователей на тарифе free. Пользователи с подпиской «выгоднее» для компании.\n",
    "    \n",
    "1. Проверьте гипотезу о том, будет ли помесячная выручка от пользователей с подпиской по месяцам выше, чем выручка от пользователей без подписки?\n",
    "    \n",
    "        - Гипотеза не подтвердилась. Выручка с пользователей на подписке ultra превышает выручку с пользователей на подписке free.\n",
    "        \n",
    "1. Представьте такую ситуацию: техническая команда сервиса обновила сервера, с которыми взаимодействует мобильное приложение. Она надеется, что из-за этого количество обращений в техподдержку значимо снизилось. Некоторый файл содержит для каждого пользователя данные о количестве обращений до обновления и после него. Какой тест вам понадобился бы для проверки этой гипотезы?\n",
    "    \n",
    "        - Будем использовать гипотезу о равенстве средних для зависимых (парных) выборок.\n",
    "          Метод, который нужно использовать при сравнении: scipy.stats.ttest_rel()\n",
    "          Гипотезы будут сформулированы так:\n",
    "          H0 : μ1 = μ2 H1 : μ1 > μ2 где μ1 и μ2 - средние значения количество обращений в техподдержку до и после изменения.\n",
    "          Уровень статистической значимости установим 0.05"
   ]
  }
 ],
 "metadata": {
  "ExecuteTimeLog": [
   {
    "duration": 48,
    "start_time": "2023-10-07T16:00:42.323Z"
   },
   {
    "duration": 1421,
    "start_time": "2023-10-07T16:00:54.737Z"
   },
   {
    "duration": 85,
    "start_time": "2023-10-07T16:00:58.224Z"
   },
   {
    "duration": 13,
    "start_time": "2023-10-07T16:01:15.640Z"
   },
   {
    "duration": 28,
    "start_time": "2023-10-07T16:01:53.650Z"
   },
   {
    "duration": 9,
    "start_time": "2023-10-07T16:02:00.385Z"
   },
   {
    "duration": 81,
    "start_time": "2023-10-07T16:02:25.178Z"
   },
   {
    "duration": 9,
    "start_time": "2023-10-07T16:02:28.273Z"
   },
   {
    "duration": 64,
    "start_time": "2023-10-07T16:04:56.208Z"
   },
   {
    "duration": 9,
    "start_time": "2023-10-07T16:05:04.040Z"
   },
   {
    "duration": 28,
    "start_time": "2023-10-07T16:21:01.922Z"
   },
   {
    "duration": 9,
    "start_time": "2023-10-07T16:21:04.225Z"
   },
   {
    "duration": 40,
    "start_time": "2023-10-07T16:21:08.777Z"
   },
   {
    "duration": 8,
    "start_time": "2023-10-07T16:21:12.905Z"
   },
   {
    "duration": 26,
    "start_time": "2023-10-07T16:21:55.984Z"
   },
   {
    "duration": 6,
    "start_time": "2023-10-07T16:21:59.746Z"
   },
   {
    "duration": 29,
    "start_time": "2023-10-07T16:22:43.810Z"
   },
   {
    "duration": 9,
    "start_time": "2023-10-07T16:22:46.321Z"
   },
   {
    "duration": 39,
    "start_time": "2023-10-07T16:22:48.209Z"
   },
   {
    "duration": 9,
    "start_time": "2023-10-07T16:22:50.145Z"
   },
   {
    "duration": 26,
    "start_time": "2023-10-07T16:22:53.433Z"
   },
   {
    "duration": 8,
    "start_time": "2023-10-07T16:22:55.585Z"
   },
   {
    "duration": 21,
    "start_time": "2023-10-07T16:23:33.745Z"
   },
   {
    "duration": 5,
    "start_time": "2023-10-07T16:24:03.884Z"
   },
   {
    "duration": 16,
    "start_time": "2023-10-07T16:24:16.528Z"
   },
   {
    "duration": 1340,
    "start_time": "2023-10-07T16:32:48.425Z"
   },
   {
    "duration": 30,
    "start_time": "2023-10-07T16:32:49.767Z"
   },
   {
    "duration": 12,
    "start_time": "2023-10-07T16:32:49.798Z"
   },
   {
    "duration": 38,
    "start_time": "2023-10-07T16:32:49.812Z"
   },
   {
    "duration": 8,
    "start_time": "2023-10-07T16:32:49.852Z"
   },
   {
    "duration": 35,
    "start_time": "2023-10-07T16:32:49.861Z"
   },
   {
    "duration": 7,
    "start_time": "2023-10-07T16:32:49.898Z"
   },
   {
    "duration": 28,
    "start_time": "2023-10-07T16:32:49.906Z"
   },
   {
    "duration": 34,
    "start_time": "2023-10-07T16:32:49.935Z"
   },
   {
    "duration": 1218,
    "start_time": "2023-10-07T16:34:12.140Z"
   },
   {
    "duration": 29,
    "start_time": "2023-10-07T16:34:13.360Z"
   },
   {
    "duration": 11,
    "start_time": "2023-10-07T16:34:13.390Z"
   },
   {
    "duration": 32,
    "start_time": "2023-10-07T16:34:13.403Z"
   },
   {
    "duration": 9,
    "start_time": "2023-10-07T16:34:13.436Z"
   },
   {
    "duration": 26,
    "start_time": "2023-10-07T16:34:13.446Z"
   },
   {
    "duration": 7,
    "start_time": "2023-10-07T16:34:13.474Z"
   },
   {
    "duration": 9,
    "start_time": "2023-10-07T16:34:13.482Z"
   },
   {
    "duration": 12,
    "start_time": "2023-10-07T16:34:13.492Z"
   },
   {
    "duration": 106,
    "start_time": "2023-10-07T16:35:44.172Z"
   },
   {
    "duration": 7,
    "start_time": "2023-10-07T16:37:15.262Z"
   },
   {
    "duration": 12,
    "start_time": "2023-10-07T16:37:21.308Z"
   },
   {
    "duration": 12,
    "start_time": "2023-10-07T16:38:16.311Z"
   },
   {
    "duration": 12,
    "start_time": "2023-10-07T16:41:46.143Z"
   },
   {
    "duration": 5,
    "start_time": "2023-10-07T16:42:18.981Z"
   },
   {
    "duration": 15,
    "start_time": "2023-10-07T16:42:28.643Z"
   },
   {
    "duration": 13,
    "start_time": "2023-10-07T16:43:28.886Z"
   },
   {
    "duration": 5,
    "start_time": "2023-10-07T16:46:31.177Z"
   },
   {
    "duration": 13,
    "start_time": "2023-10-07T16:47:10.703Z"
   },
   {
    "duration": 1221,
    "start_time": "2023-10-07T16:47:21.174Z"
   },
   {
    "duration": 29,
    "start_time": "2023-10-07T16:47:22.397Z"
   },
   {
    "duration": 12,
    "start_time": "2023-10-07T16:47:22.427Z"
   },
   {
    "duration": 44,
    "start_time": "2023-10-07T16:47:22.440Z"
   },
   {
    "duration": 9,
    "start_time": "2023-10-07T16:47:22.486Z"
   },
   {
    "duration": 37,
    "start_time": "2023-10-07T16:47:22.496Z"
   },
   {
    "duration": 7,
    "start_time": "2023-10-07T16:47:22.534Z"
   },
   {
    "duration": 14,
    "start_time": "2023-10-07T16:47:22.542Z"
   },
   {
    "duration": 17,
    "start_time": "2023-10-07T16:47:22.557Z"
   },
   {
    "duration": 17,
    "start_time": "2023-10-07T16:47:22.575Z"
   },
   {
    "duration": 22,
    "start_time": "2023-10-07T16:47:22.594Z"
   },
   {
    "duration": 29,
    "start_time": "2023-10-07T16:47:22.618Z"
   },
   {
    "duration": 8,
    "start_time": "2023-10-07T16:47:22.648Z"
   },
   {
    "duration": 27,
    "start_time": "2023-10-07T16:47:22.658Z"
   },
   {
    "duration": 25,
    "start_time": "2023-10-07T16:47:22.687Z"
   },
   {
    "duration": 64,
    "start_time": "2023-10-07T16:47:22.713Z"
   },
   {
    "duration": 10,
    "start_time": "2023-10-07T16:50:31.038Z"
   },
   {
    "duration": 7,
    "start_time": "2023-10-07T16:52:17.800Z"
   },
   {
    "duration": 8,
    "start_time": "2023-10-07T16:52:33.655Z"
   },
   {
    "duration": 1242,
    "start_time": "2023-10-07T16:52:48.629Z"
   },
   {
    "duration": 29,
    "start_time": "2023-10-07T16:52:49.873Z"
   },
   {
    "duration": 12,
    "start_time": "2023-10-07T16:52:49.904Z"
   },
   {
    "duration": 50,
    "start_time": "2023-10-07T16:52:49.918Z"
   },
   {
    "duration": 9,
    "start_time": "2023-10-07T16:52:49.969Z"
   },
   {
    "duration": 55,
    "start_time": "2023-10-07T16:52:49.980Z"
   },
   {
    "duration": 17,
    "start_time": "2023-10-07T16:52:50.037Z"
   },
   {
    "duration": 20,
    "start_time": "2023-10-07T16:52:50.056Z"
   },
   {
    "duration": 31,
    "start_time": "2023-10-07T16:52:50.078Z"
   },
   {
    "duration": 31,
    "start_time": "2023-10-07T16:52:50.112Z"
   },
   {
    "duration": 19,
    "start_time": "2023-10-07T16:52:50.145Z"
   },
   {
    "duration": 42,
    "start_time": "2023-10-07T16:52:50.166Z"
   },
   {
    "duration": 5,
    "start_time": "2023-10-07T16:52:50.210Z"
   },
   {
    "duration": 33,
    "start_time": "2023-10-07T16:52:50.216Z"
   },
   {
    "duration": 17,
    "start_time": "2023-10-07T16:52:50.251Z"
   },
   {
    "duration": 30,
    "start_time": "2023-10-07T16:52:50.270Z"
   },
   {
    "duration": 44,
    "start_time": "2023-10-07T16:52:50.301Z"
   },
   {
    "duration": 5,
    "start_time": "2023-10-07T16:55:49.503Z"
   },
   {
    "duration": 5,
    "start_time": "2023-10-07T16:56:40.975Z"
   },
   {
    "duration": 5,
    "start_time": "2023-10-07T16:59:20.370Z"
   },
   {
    "duration": 3,
    "start_time": "2023-10-07T17:03:07.519Z"
   },
   {
    "duration": 6,
    "start_time": "2023-10-07T17:03:27.816Z"
   },
   {
    "duration": 1421,
    "start_time": "2023-10-07T17:04:13.565Z"
   },
   {
    "duration": 30,
    "start_time": "2023-10-07T17:04:14.987Z"
   },
   {
    "duration": 54,
    "start_time": "2023-10-07T17:04:15.019Z"
   },
   {
    "duration": 50,
    "start_time": "2023-10-07T17:04:15.075Z"
   },
   {
    "duration": 9,
    "start_time": "2023-10-07T17:04:15.127Z"
   },
   {
    "duration": 22,
    "start_time": "2023-10-07T17:04:15.137Z"
   },
   {
    "duration": 7,
    "start_time": "2023-10-07T17:04:15.160Z"
   },
   {
    "duration": 21,
    "start_time": "2023-10-07T17:04:15.169Z"
   },
   {
    "duration": 14,
    "start_time": "2023-10-07T17:04:15.192Z"
   },
   {
    "duration": 23,
    "start_time": "2023-10-07T17:04:15.208Z"
   },
   {
    "duration": 52,
    "start_time": "2023-10-07T17:04:15.233Z"
   },
   {
    "duration": 14,
    "start_time": "2023-10-07T17:04:15.286Z"
   },
   {
    "duration": 29,
    "start_time": "2023-10-07T17:04:15.301Z"
   },
   {
    "duration": 30,
    "start_time": "2023-10-07T17:04:15.332Z"
   },
   {
    "duration": 17,
    "start_time": "2023-10-07T17:04:15.363Z"
   },
   {
    "duration": 27,
    "start_time": "2023-10-07T17:04:15.381Z"
   },
   {
    "duration": 8,
    "start_time": "2023-10-07T17:04:15.410Z"
   },
   {
    "duration": 10,
    "start_time": "2023-10-07T17:04:15.420Z"
   },
   {
    "duration": 16,
    "start_time": "2023-10-07T17:04:15.431Z"
   },
   {
    "duration": 22,
    "start_time": "2023-10-07T17:04:15.449Z"
   },
   {
    "duration": 4,
    "start_time": "2023-10-07T17:05:03.698Z"
   },
   {
    "duration": 106,
    "start_time": "2023-10-07T17:05:05.866Z"
   },
   {
    "duration": 8,
    "start_time": "2023-10-07T17:05:26.715Z"
   },
   {
    "duration": 14,
    "start_time": "2023-10-07T17:05:33.771Z"
   },
   {
    "duration": 1321,
    "start_time": "2023-10-07T17:05:42.220Z"
   },
   {
    "duration": 29,
    "start_time": "2023-10-07T17:05:43.542Z"
   },
   {
    "duration": 13,
    "start_time": "2023-10-07T17:05:43.573Z"
   },
   {
    "duration": 44,
    "start_time": "2023-10-07T17:05:43.589Z"
   },
   {
    "duration": 9,
    "start_time": "2023-10-07T17:05:43.635Z"
   },
   {
    "duration": 36,
    "start_time": "2023-10-07T17:05:43.645Z"
   },
   {
    "duration": 9,
    "start_time": "2023-10-07T17:05:43.683Z"
   },
   {
    "duration": 19,
    "start_time": "2023-10-07T17:05:43.694Z"
   },
   {
    "duration": 22,
    "start_time": "2023-10-07T17:05:43.715Z"
   },
   {
    "duration": 28,
    "start_time": "2023-10-07T17:05:43.740Z"
   },
   {
    "duration": 24,
    "start_time": "2023-10-07T17:05:43.770Z"
   },
   {
    "duration": 31,
    "start_time": "2023-10-07T17:05:43.796Z"
   },
   {
    "duration": 13,
    "start_time": "2023-10-07T17:05:43.829Z"
   },
   {
    "duration": 32,
    "start_time": "2023-10-07T17:05:43.845Z"
   },
   {
    "duration": 15,
    "start_time": "2023-10-07T17:05:43.879Z"
   },
   {
    "duration": 43,
    "start_time": "2023-10-07T17:05:43.895Z"
   },
   {
    "duration": 8,
    "start_time": "2023-10-07T17:05:43.939Z"
   },
   {
    "duration": 20,
    "start_time": "2023-10-07T17:05:43.948Z"
   },
   {
    "duration": 20,
    "start_time": "2023-10-07T17:05:43.970Z"
   },
   {
    "duration": 27,
    "start_time": "2023-10-07T17:05:43.992Z"
   },
   {
    "duration": 9,
    "start_time": "2023-10-07T17:07:02.214Z"
   },
   {
    "duration": 6,
    "start_time": "2023-10-07T17:07:04.798Z"
   },
   {
    "duration": 104,
    "start_time": "2023-10-07T17:07:12.446Z"
   },
   {
    "duration": 8,
    "start_time": "2023-10-07T17:08:24.495Z"
   },
   {
    "duration": 5,
    "start_time": "2023-10-07T17:08:27.310Z"
   },
   {
    "duration": 1334,
    "start_time": "2023-10-07T17:08:34.051Z"
   },
   {
    "duration": 29,
    "start_time": "2023-10-07T17:08:35.386Z"
   },
   {
    "duration": 47,
    "start_time": "2023-10-07T17:08:35.416Z"
   },
   {
    "duration": 66,
    "start_time": "2023-10-07T17:08:35.466Z"
   },
   {
    "duration": 11,
    "start_time": "2023-10-07T17:08:35.534Z"
   },
   {
    "duration": 95,
    "start_time": "2023-10-07T17:08:35.547Z"
   },
   {
    "duration": 27,
    "start_time": "2023-10-07T17:08:35.643Z"
   },
   {
    "duration": 25,
    "start_time": "2023-10-07T17:08:35.672Z"
   },
   {
    "duration": 38,
    "start_time": "2023-10-07T17:08:35.699Z"
   },
   {
    "duration": 39,
    "start_time": "2023-10-07T17:08:35.739Z"
   },
   {
    "duration": 40,
    "start_time": "2023-10-07T17:08:35.780Z"
   },
   {
    "duration": 49,
    "start_time": "2023-10-07T17:08:35.822Z"
   },
   {
    "duration": 13,
    "start_time": "2023-10-07T17:08:35.873Z"
   },
   {
    "duration": 38,
    "start_time": "2023-10-07T17:08:35.887Z"
   },
   {
    "duration": 25,
    "start_time": "2023-10-07T17:08:35.927Z"
   },
   {
    "duration": 39,
    "start_time": "2023-10-07T17:08:35.954Z"
   },
   {
    "duration": 35,
    "start_time": "2023-10-07T17:08:35.994Z"
   },
   {
    "duration": 18,
    "start_time": "2023-10-07T17:08:36.031Z"
   },
   {
    "duration": 28,
    "start_time": "2023-10-07T17:08:36.051Z"
   },
   {
    "duration": 33,
    "start_time": "2023-10-07T17:08:36.081Z"
   },
   {
    "duration": 1664,
    "start_time": "2023-10-08T13:24:32.180Z"
   },
   {
    "duration": 92,
    "start_time": "2023-10-08T13:24:33.847Z"
   },
   {
    "duration": 17,
    "start_time": "2023-10-08T13:24:33.940Z"
   },
   {
    "duration": 85,
    "start_time": "2023-10-08T13:24:33.960Z"
   },
   {
    "duration": 21,
    "start_time": "2023-10-08T13:24:34.048Z"
   },
   {
    "duration": 67,
    "start_time": "2023-10-08T13:24:34.071Z"
   },
   {
    "duration": 10,
    "start_time": "2023-10-08T13:24:34.140Z"
   },
   {
    "duration": 13,
    "start_time": "2023-10-08T13:24:34.152Z"
   },
   {
    "duration": 20,
    "start_time": "2023-10-08T13:24:34.167Z"
   },
   {
    "duration": 20,
    "start_time": "2023-10-08T13:24:34.189Z"
   },
   {
    "duration": 34,
    "start_time": "2023-10-08T13:24:34.211Z"
   },
   {
    "duration": 32,
    "start_time": "2023-10-08T13:24:34.247Z"
   },
   {
    "duration": 9,
    "start_time": "2023-10-08T13:24:34.281Z"
   },
   {
    "duration": 22,
    "start_time": "2023-10-08T13:24:34.294Z"
   },
   {
    "duration": 42,
    "start_time": "2023-10-08T13:24:34.319Z"
   },
   {
    "duration": 28,
    "start_time": "2023-10-08T13:24:34.363Z"
   },
   {
    "duration": 12,
    "start_time": "2023-10-08T13:24:34.393Z"
   },
   {
    "duration": 13,
    "start_time": "2023-10-08T13:24:34.407Z"
   },
   {
    "duration": 40,
    "start_time": "2023-10-08T13:24:34.421Z"
   },
   {
    "duration": 13,
    "start_time": "2023-10-08T13:24:34.463Z"
   },
   {
    "duration": 111,
    "start_time": "2023-10-08T13:32:30.219Z"
   },
   {
    "duration": 16,
    "start_time": "2023-10-08T13:33:38.672Z"
   },
   {
    "duration": 13,
    "start_time": "2023-10-08T13:34:47.586Z"
   },
   {
    "duration": 6,
    "start_time": "2023-10-08T13:36:03.233Z"
   },
   {
    "duration": 13,
    "start_time": "2023-10-08T13:36:40.946Z"
   },
   {
    "duration": 11,
    "start_time": "2023-10-08T13:36:53.393Z"
   },
   {
    "duration": 4,
    "start_time": "2023-10-08T13:40:27.348Z"
   },
   {
    "duration": 5,
    "start_time": "2023-10-08T13:40:42.353Z"
   },
   {
    "duration": 6,
    "start_time": "2023-10-08T13:40:50.113Z"
   },
   {
    "duration": 192,
    "start_time": "2023-10-08T13:41:10.730Z"
   },
   {
    "duration": 151,
    "start_time": "2023-10-08T13:41:53.506Z"
   },
   {
    "duration": 6,
    "start_time": "2023-10-08T13:44:01.880Z"
   },
   {
    "duration": 75,
    "start_time": "2023-10-08T13:44:59.393Z"
   },
   {
    "duration": 98,
    "start_time": "2023-10-08T13:47:08.041Z"
   },
   {
    "duration": 6,
    "start_time": "2023-10-08T13:52:50.147Z"
   },
   {
    "duration": 265,
    "start_time": "2023-10-08T13:53:45.483Z"
   },
   {
    "duration": 227,
    "start_time": "2023-10-08T13:53:55.041Z"
   },
   {
    "duration": 214,
    "start_time": "2023-10-08T13:54:15.953Z"
   },
   {
    "duration": 148,
    "start_time": "2023-10-08T13:54:21.962Z"
   },
   {
    "duration": 183,
    "start_time": "2023-10-08T13:56:59.155Z"
   },
   {
    "duration": 120,
    "start_time": "2023-10-08T13:57:07.864Z"
   },
   {
    "duration": 148,
    "start_time": "2023-10-08T13:57:55.801Z"
   },
   {
    "duration": 85,
    "start_time": "2023-10-08T14:08:27.034Z"
   },
   {
    "duration": 8,
    "start_time": "2023-10-08T14:09:08.504Z"
   },
   {
    "duration": 6,
    "start_time": "2023-10-08T14:09:29.753Z"
   },
   {
    "duration": 18,
    "start_time": "2023-10-08T14:10:08.464Z"
   },
   {
    "duration": 6,
    "start_time": "2023-10-08T14:10:15.402Z"
   },
   {
    "duration": 6,
    "start_time": "2023-10-08T14:10:55.282Z"
   },
   {
    "duration": 6,
    "start_time": "2023-10-08T14:11:53.137Z"
   },
   {
    "duration": 12,
    "start_time": "2023-10-08T14:13:53.618Z"
   },
   {
    "duration": 100,
    "start_time": "2023-10-08T14:14:03.923Z"
   },
   {
    "duration": 94,
    "start_time": "2023-10-08T14:14:55.106Z"
   },
   {
    "duration": 8,
    "start_time": "2023-10-08T14:16:26.530Z"
   },
   {
    "duration": 6,
    "start_time": "2023-10-08T14:22:00.476Z"
   },
   {
    "duration": 6,
    "start_time": "2023-10-08T14:23:41.791Z"
   },
   {
    "duration": 89,
    "start_time": "2023-10-08T14:25:37.596Z"
   },
   {
    "duration": 7,
    "start_time": "2023-10-08T14:25:55.383Z"
   },
   {
    "duration": 84,
    "start_time": "2023-10-08T14:29:26.781Z"
   },
   {
    "duration": 94,
    "start_time": "2023-10-08T14:29:53.244Z"
   },
   {
    "duration": 5,
    "start_time": "2023-10-08T14:31:34.926Z"
   },
   {
    "duration": 11,
    "start_time": "2023-10-08T14:31:37.389Z"
   },
   {
    "duration": 15,
    "start_time": "2023-10-08T14:31:56.349Z"
   },
   {
    "duration": 144,
    "start_time": "2023-10-08T14:36:03.950Z"
   },
   {
    "duration": 1168,
    "start_time": "2023-10-08T14:38:27.457Z"
   },
   {
    "duration": 108,
    "start_time": "2023-10-08T14:38:36.691Z"
   },
   {
    "duration": 115,
    "start_time": "2023-10-08T14:41:02.941Z"
   },
   {
    "duration": 116,
    "start_time": "2023-10-08T14:41:40.297Z"
   },
   {
    "duration": 122,
    "start_time": "2023-10-08T14:42:57.774Z"
   },
   {
    "duration": 5,
    "start_time": "2023-10-08T14:46:44.445Z"
   },
   {
    "duration": 12,
    "start_time": "2023-10-08T14:46:53.124Z"
   },
   {
    "duration": 5,
    "start_time": "2023-10-08T14:47:03.780Z"
   },
   {
    "duration": 11,
    "start_time": "2023-10-08T14:47:06.527Z"
   },
   {
    "duration": 11,
    "start_time": "2023-10-08T14:47:28.289Z"
   },
   {
    "duration": 229,
    "start_time": "2023-10-08T14:48:23.724Z"
   },
   {
    "duration": 119,
    "start_time": "2023-10-08T14:55:11.699Z"
   },
   {
    "duration": 124,
    "start_time": "2023-10-08T14:56:19.219Z"
   },
   {
    "duration": 14,
    "start_time": "2023-10-08T15:11:29.913Z"
   },
   {
    "duration": 210,
    "start_time": "2023-10-08T15:12:25.850Z"
   },
   {
    "duration": 75,
    "start_time": "2023-10-08T15:12:57.157Z"
   },
   {
    "duration": 13,
    "start_time": "2023-10-08T15:13:18.153Z"
   },
   {
    "duration": 9,
    "start_time": "2023-10-08T15:13:40.977Z"
   },
   {
    "duration": 129,
    "start_time": "2023-10-08T15:15:33.605Z"
   },
   {
    "duration": 8,
    "start_time": "2023-10-08T15:15:41.249Z"
   },
   {
    "duration": 8,
    "start_time": "2023-10-08T15:17:02.922Z"
   },
   {
    "duration": 9,
    "start_time": "2023-10-08T15:18:38.168Z"
   },
   {
    "duration": 4,
    "start_time": "2023-10-08T15:18:47.021Z"
   },
   {
    "duration": 3,
    "start_time": "2023-10-08T15:20:54.713Z"
   },
   {
    "duration": 8,
    "start_time": "2023-10-08T15:22:23.240Z"
   },
   {
    "duration": 10,
    "start_time": "2023-10-08T15:22:41.904Z"
   },
   {
    "duration": 26,
    "start_time": "2023-10-08T15:24:54.288Z"
   },
   {
    "duration": 10,
    "start_time": "2023-10-08T15:25:10.017Z"
   },
   {
    "duration": 10,
    "start_time": "2023-10-08T15:25:23.824Z"
   },
   {
    "duration": 10,
    "start_time": "2023-10-08T15:25:27.592Z"
   },
   {
    "duration": 14,
    "start_time": "2023-10-08T15:25:36.919Z"
   },
   {
    "duration": 11,
    "start_time": "2023-10-08T15:25:46.007Z"
   },
   {
    "duration": 11,
    "start_time": "2023-10-08T15:25:49.463Z"
   },
   {
    "duration": 4,
    "start_time": "2023-10-08T15:30:21.544Z"
   },
   {
    "duration": 4,
    "start_time": "2023-10-08T15:30:42.319Z"
   },
   {
    "duration": 4,
    "start_time": "2023-10-08T15:31:01.319Z"
   },
   {
    "duration": 33,
    "start_time": "2023-10-08T15:31:44.904Z"
   },
   {
    "duration": 10,
    "start_time": "2023-10-08T15:31:57.192Z"
   },
   {
    "duration": 22,
    "start_time": "2023-10-08T15:32:29.653Z"
   },
   {
    "duration": 11,
    "start_time": "2023-10-08T15:32:31.983Z"
   },
   {
    "duration": 1144,
    "start_time": "2023-10-08T15:32:48.106Z"
   },
   {
    "duration": 30,
    "start_time": "2023-10-08T15:32:49.252Z"
   },
   {
    "duration": 14,
    "start_time": "2023-10-08T15:32:49.283Z"
   },
   {
    "duration": 35,
    "start_time": "2023-10-08T15:32:49.298Z"
   },
   {
    "duration": 9,
    "start_time": "2023-10-08T15:32:49.334Z"
   },
   {
    "duration": 23,
    "start_time": "2023-10-08T15:32:49.344Z"
   },
   {
    "duration": 6,
    "start_time": "2023-10-08T15:32:49.369Z"
   },
   {
    "duration": 16,
    "start_time": "2023-10-08T15:32:49.376Z"
   },
   {
    "duration": 34,
    "start_time": "2023-10-08T15:32:49.393Z"
   },
   {
    "duration": 39,
    "start_time": "2023-10-08T15:32:49.430Z"
   },
   {
    "duration": 20,
    "start_time": "2023-10-08T15:32:49.471Z"
   },
   {
    "duration": 21,
    "start_time": "2023-10-08T15:32:49.492Z"
   },
   {
    "duration": 18,
    "start_time": "2023-10-08T15:32:49.514Z"
   },
   {
    "duration": 18,
    "start_time": "2023-10-08T15:32:49.533Z"
   },
   {
    "duration": 13,
    "start_time": "2023-10-08T15:32:49.552Z"
   },
   {
    "duration": 20,
    "start_time": "2023-10-08T15:32:49.566Z"
   },
   {
    "duration": 7,
    "start_time": "2023-10-08T15:32:49.588Z"
   },
   {
    "duration": 5,
    "start_time": "2023-10-08T15:32:49.596Z"
   },
   {
    "duration": 18,
    "start_time": "2023-10-08T15:32:49.602Z"
   },
   {
    "duration": 9,
    "start_time": "2023-10-08T15:32:49.622Z"
   },
   {
    "duration": 13,
    "start_time": "2023-10-08T15:32:49.632Z"
   },
   {
    "duration": 169,
    "start_time": "2023-10-08T15:32:49.652Z"
   },
   {
    "duration": 5,
    "start_time": "2023-10-08T15:32:49.822Z"
   },
   {
    "duration": 113,
    "start_time": "2023-10-08T15:32:49.829Z"
   },
   {
    "duration": 9,
    "start_time": "2023-10-08T15:32:49.944Z"
   },
   {
    "duration": 172,
    "start_time": "2023-10-08T15:32:49.954Z"
   },
   {
    "duration": 8,
    "start_time": "2023-10-08T15:32:50.127Z"
   },
   {
    "duration": 14,
    "start_time": "2023-10-08T15:32:50.138Z"
   },
   {
    "duration": 89,
    "start_time": "2023-10-08T15:32:50.153Z"
   },
   {
    "duration": 15,
    "start_time": "2023-10-08T15:32:50.243Z"
   },
   {
    "duration": 48,
    "start_time": "2023-10-08T15:32:50.260Z"
   },
   {
    "duration": 25,
    "start_time": "2023-10-08T15:32:50.310Z"
   },
   {
    "duration": 120,
    "start_time": "2023-10-08T15:32:50.336Z"
   },
   {
    "duration": 9,
    "start_time": "2023-10-08T15:32:50.458Z"
   },
   {
    "duration": 24,
    "start_time": "2023-10-08T15:32:50.469Z"
   },
   {
    "duration": 51,
    "start_time": "2023-10-08T15:32:50.495Z"
   },
   {
    "duration": 49,
    "start_time": "2023-10-08T15:32:50.548Z"
   },
   {
    "duration": 160,
    "start_time": "2023-10-08T15:32:50.599Z"
   },
   {
    "duration": 184,
    "start_time": "2023-10-08T15:32:50.760Z"
   },
   {
    "duration": 145,
    "start_time": "2023-10-08T15:32:50.949Z"
   },
   {
    "duration": 5,
    "start_time": "2023-10-08T15:32:51.095Z"
   },
   {
    "duration": 44,
    "start_time": "2023-10-08T15:32:51.101Z"
   },
   {
    "duration": 66,
    "start_time": "2023-10-08T15:32:51.147Z"
   },
   {
    "duration": 258,
    "start_time": "2023-10-08T15:32:51.214Z"
   },
   {
    "duration": 143,
    "start_time": "2023-10-08T15:32:51.473Z"
   },
   {
    "duration": 150,
    "start_time": "2023-10-08T15:32:51.618Z"
   },
   {
    "duration": 129,
    "start_time": "2023-10-08T15:32:51.770Z"
   },
   {
    "duration": 8,
    "start_time": "2023-10-08T15:32:51.901Z"
   },
   {
    "duration": 54,
    "start_time": "2023-10-08T15:32:51.910Z"
   },
   {
    "duration": 18,
    "start_time": "2023-10-08T15:32:51.966Z"
   },
   {
    "duration": 44,
    "start_time": "2023-10-08T15:32:51.985Z"
   },
   {
    "duration": 32,
    "start_time": "2023-10-08T15:32:52.030Z"
   },
   {
    "duration": 41,
    "start_time": "2023-10-08T15:32:52.063Z"
   },
   {
    "duration": 41,
    "start_time": "2023-10-08T15:32:52.106Z"
   },
   {
    "duration": 18,
    "start_time": "2023-10-08T15:35:17.123Z"
   },
   {
    "duration": 9,
    "start_time": "2023-10-08T15:35:30.594Z"
   },
   {
    "duration": 5,
    "start_time": "2023-10-08T15:53:13.465Z"
   },
   {
    "duration": 94,
    "start_time": "2023-10-08T15:57:20.790Z"
   },
   {
    "duration": 670,
    "start_time": "2023-10-08T15:57:33.181Z"
   },
   {
    "duration": 679,
    "start_time": "2023-10-08T16:00:09.725Z"
   },
   {
    "duration": 6,
    "start_time": "2023-10-08T16:13:27.657Z"
   },
   {
    "duration": 8,
    "start_time": "2023-10-08T16:22:11.198Z"
   },
   {
    "duration": 10,
    "start_time": "2023-10-08T16:23:56.975Z"
   },
   {
    "duration": 5,
    "start_time": "2023-10-08T16:24:32.910Z"
   },
   {
    "duration": 5,
    "start_time": "2023-10-08T16:25:09.270Z"
   },
   {
    "duration": 11,
    "start_time": "2023-10-08T16:31:09.535Z"
   },
   {
    "duration": 1369,
    "start_time": "2023-10-08T16:31:33.126Z"
   },
   {
    "duration": 29,
    "start_time": "2023-10-08T16:31:34.497Z"
   },
   {
    "duration": 10,
    "start_time": "2023-10-08T16:31:34.528Z"
   },
   {
    "duration": 42,
    "start_time": "2023-10-08T16:31:34.540Z"
   },
   {
    "duration": 8,
    "start_time": "2023-10-08T16:31:34.583Z"
   },
   {
    "duration": 36,
    "start_time": "2023-10-08T16:31:34.592Z"
   },
   {
    "duration": 31,
    "start_time": "2023-10-08T16:31:34.629Z"
   },
   {
    "duration": 13,
    "start_time": "2023-10-08T16:31:34.662Z"
   },
   {
    "duration": 36,
    "start_time": "2023-10-08T16:31:34.676Z"
   },
   {
    "duration": 25,
    "start_time": "2023-10-08T16:31:34.715Z"
   },
   {
    "duration": 47,
    "start_time": "2023-10-08T16:31:34.741Z"
   },
   {
    "duration": 42,
    "start_time": "2023-10-08T16:31:34.789Z"
   },
   {
    "duration": 20,
    "start_time": "2023-10-08T16:31:34.833Z"
   },
   {
    "duration": 23,
    "start_time": "2023-10-08T16:31:34.854Z"
   },
   {
    "duration": 12,
    "start_time": "2023-10-08T16:31:34.878Z"
   },
   {
    "duration": 20,
    "start_time": "2023-10-08T16:31:34.891Z"
   },
   {
    "duration": 18,
    "start_time": "2023-10-08T16:31:34.912Z"
   },
   {
    "duration": 14,
    "start_time": "2023-10-08T16:31:34.932Z"
   },
   {
    "duration": 10,
    "start_time": "2023-10-08T16:31:34.947Z"
   },
   {
    "duration": 8,
    "start_time": "2023-10-08T16:31:34.958Z"
   },
   {
    "duration": 21,
    "start_time": "2023-10-08T16:31:34.968Z"
   },
   {
    "duration": 179,
    "start_time": "2023-10-08T16:31:34.991Z"
   },
   {
    "duration": 8,
    "start_time": "2023-10-08T16:31:35.172Z"
   },
   {
    "duration": 112,
    "start_time": "2023-10-08T16:31:35.181Z"
   },
   {
    "duration": 5,
    "start_time": "2023-10-08T16:31:35.295Z"
   },
   {
    "duration": 199,
    "start_time": "2023-10-08T16:31:35.301Z"
   },
   {
    "duration": 5,
    "start_time": "2023-10-08T16:31:35.502Z"
   },
   {
    "duration": 17,
    "start_time": "2023-10-08T16:31:35.511Z"
   },
   {
    "duration": 90,
    "start_time": "2023-10-08T16:31:35.530Z"
   },
   {
    "duration": 8,
    "start_time": "2023-10-08T16:31:35.622Z"
   },
   {
    "duration": 48,
    "start_time": "2023-10-08T16:31:35.631Z"
   },
   {
    "duration": 29,
    "start_time": "2023-10-08T16:31:35.680Z"
   },
   {
    "duration": 129,
    "start_time": "2023-10-08T16:31:35.710Z"
   },
   {
    "duration": 10,
    "start_time": "2023-10-08T16:31:35.840Z"
   },
   {
    "duration": 26,
    "start_time": "2023-10-08T16:31:35.852Z"
   },
   {
    "duration": 25,
    "start_time": "2023-10-08T16:31:35.880Z"
   },
   {
    "duration": 18,
    "start_time": "2023-10-08T16:31:35.906Z"
   },
   {
    "duration": 227,
    "start_time": "2023-10-08T16:31:35.926Z"
   },
   {
    "duration": 153,
    "start_time": "2023-10-08T16:31:36.154Z"
   },
   {
    "duration": 152,
    "start_time": "2023-10-08T16:31:36.310Z"
   },
   {
    "duration": 5,
    "start_time": "2023-10-08T16:31:36.463Z"
   },
   {
    "duration": 53,
    "start_time": "2023-10-08T16:31:36.470Z"
   },
   {
    "duration": 36,
    "start_time": "2023-10-08T16:31:36.525Z"
   },
   {
    "duration": 285,
    "start_time": "2023-10-08T16:31:36.562Z"
   },
   {
    "duration": 125,
    "start_time": "2023-10-08T16:31:36.849Z"
   },
   {
    "duration": 146,
    "start_time": "2023-10-08T16:31:36.976Z"
   },
   {
    "duration": 142,
    "start_time": "2023-10-08T16:31:37.123Z"
   },
   {
    "duration": 9,
    "start_time": "2023-10-08T16:31:37.266Z"
   },
   {
    "duration": 43,
    "start_time": "2023-10-08T16:31:37.277Z"
   },
   {
    "duration": 50,
    "start_time": "2023-10-08T16:31:37.322Z"
   },
   {
    "duration": 71,
    "start_time": "2023-10-08T16:31:37.373Z"
   },
   {
    "duration": 50,
    "start_time": "2023-10-08T16:31:37.445Z"
   },
   {
    "duration": 67,
    "start_time": "2023-10-08T16:31:37.497Z"
   },
   {
    "duration": 42,
    "start_time": "2023-10-08T16:31:37.565Z"
   },
   {
    "duration": 67,
    "start_time": "2023-10-08T16:31:37.608Z"
   },
   {
    "duration": 40,
    "start_time": "2023-10-08T16:31:37.677Z"
   },
   {
    "duration": 674,
    "start_time": "2023-10-08T16:31:37.718Z"
   },
   {
    "duration": 4,
    "start_time": "2023-10-08T16:31:38.394Z"
   },
   {
    "duration": 27,
    "start_time": "2023-10-08T16:31:38.399Z"
   },
   {
    "duration": 11,
    "start_time": "2023-10-08T16:33:15.216Z"
   },
   {
    "duration": 9,
    "start_time": "2023-10-08T16:33:19.993Z"
   },
   {
    "duration": 1296,
    "start_time": "2023-10-08T16:58:31.438Z"
   },
   {
    "duration": 35,
    "start_time": "2023-10-08T16:58:32.736Z"
   },
   {
    "duration": 28,
    "start_time": "2023-10-08T16:58:32.773Z"
   },
   {
    "duration": 41,
    "start_time": "2023-10-08T16:58:32.804Z"
   },
   {
    "duration": 14,
    "start_time": "2023-10-08T16:58:32.847Z"
   },
   {
    "duration": 35,
    "start_time": "2023-10-08T16:58:32.862Z"
   },
   {
    "duration": 16,
    "start_time": "2023-10-08T16:58:32.898Z"
   },
   {
    "duration": 32,
    "start_time": "2023-10-08T16:58:32.916Z"
   },
   {
    "duration": 26,
    "start_time": "2023-10-08T16:58:32.951Z"
   },
   {
    "duration": 8,
    "start_time": "2023-10-08T16:58:32.981Z"
   },
   {
    "duration": 12,
    "start_time": "2023-10-08T16:58:32.991Z"
   },
   {
    "duration": 15,
    "start_time": "2023-10-08T16:58:33.004Z"
   },
   {
    "duration": 6,
    "start_time": "2023-10-08T16:58:33.020Z"
   },
   {
    "duration": 35,
    "start_time": "2023-10-08T16:58:33.028Z"
   },
   {
    "duration": 5,
    "start_time": "2023-10-08T16:58:33.067Z"
   },
   {
    "duration": 18,
    "start_time": "2023-10-08T16:58:33.078Z"
   },
   {
    "duration": 21,
    "start_time": "2023-10-08T16:58:33.098Z"
   },
   {
    "duration": 7,
    "start_time": "2023-10-08T16:58:33.121Z"
   },
   {
    "duration": 13,
    "start_time": "2023-10-08T16:58:33.129Z"
   },
   {
    "duration": 24,
    "start_time": "2023-10-08T16:58:33.144Z"
   },
   {
    "duration": 11,
    "start_time": "2023-10-08T16:58:33.169Z"
   },
   {
    "duration": 255,
    "start_time": "2023-10-08T16:58:33.181Z"
   },
   {
    "duration": 8,
    "start_time": "2023-10-08T16:58:33.438Z"
   },
   {
    "duration": 148,
    "start_time": "2023-10-08T16:58:33.448Z"
   },
   {
    "duration": 8,
    "start_time": "2023-10-08T16:58:33.598Z"
   },
   {
    "duration": 227,
    "start_time": "2023-10-08T16:58:33.607Z"
   },
   {
    "duration": 18,
    "start_time": "2023-10-08T16:58:33.835Z"
   },
   {
    "duration": 17,
    "start_time": "2023-10-08T16:58:33.857Z"
   },
   {
    "duration": 96,
    "start_time": "2023-10-08T16:58:33.875Z"
   },
   {
    "duration": 8,
    "start_time": "2023-10-08T16:58:33.973Z"
   },
   {
    "duration": 7,
    "start_time": "2023-10-08T16:58:33.982Z"
   },
   {
    "duration": 8,
    "start_time": "2023-10-08T16:58:33.990Z"
   },
   {
    "duration": 115,
    "start_time": "2023-10-08T16:58:34.000Z"
   },
   {
    "duration": 8,
    "start_time": "2023-10-08T16:58:34.117Z"
   },
   {
    "duration": 8,
    "start_time": "2023-10-08T16:58:34.126Z"
   },
   {
    "duration": 30,
    "start_time": "2023-10-08T16:58:34.135Z"
   },
   {
    "duration": 18,
    "start_time": "2023-10-08T16:58:34.167Z"
   },
   {
    "duration": 159,
    "start_time": "2023-10-08T16:58:34.187Z"
   },
   {
    "duration": 148,
    "start_time": "2023-10-08T16:58:34.349Z"
   },
   {
    "duration": 150,
    "start_time": "2023-10-08T16:58:34.500Z"
   },
   {
    "duration": 6,
    "start_time": "2023-10-08T16:58:34.654Z"
   },
   {
    "duration": 18,
    "start_time": "2023-10-08T16:58:34.662Z"
   },
   {
    "duration": 12,
    "start_time": "2023-10-08T16:58:34.682Z"
   },
   {
    "duration": 247,
    "start_time": "2023-10-08T16:58:34.696Z"
   },
   {
    "duration": 131,
    "start_time": "2023-10-08T16:58:34.945Z"
   },
   {
    "duration": 169,
    "start_time": "2023-10-08T16:58:35.079Z"
   },
   {
    "duration": 141,
    "start_time": "2023-10-08T16:58:35.251Z"
   },
   {
    "duration": 12,
    "start_time": "2023-10-08T16:58:35.394Z"
   },
   {
    "duration": 71,
    "start_time": "2023-10-08T16:58:35.407Z"
   },
   {
    "duration": 89,
    "start_time": "2023-10-08T16:58:35.480Z"
   },
   {
    "duration": 110,
    "start_time": "2023-10-08T16:58:35.571Z"
   },
   {
    "duration": 12,
    "start_time": "2023-10-08T16:58:35.682Z"
   },
   {
    "duration": 40,
    "start_time": "2023-10-08T16:58:35.695Z"
   },
   {
    "duration": 22,
    "start_time": "2023-10-08T16:58:35.737Z"
   },
   {
    "duration": 16,
    "start_time": "2023-10-08T16:58:35.760Z"
   },
   {
    "duration": 5,
    "start_time": "2023-10-08T16:58:35.778Z"
   },
   {
    "duration": 810,
    "start_time": "2023-10-08T16:58:35.785Z"
   },
   {
    "duration": 5,
    "start_time": "2023-10-08T16:58:36.597Z"
   },
   {
    "duration": 23,
    "start_time": "2023-10-08T16:58:36.604Z"
   },
   {
    "duration": 7,
    "start_time": "2023-10-08T16:59:56.310Z"
   },
   {
    "duration": 213,
    "start_time": "2023-10-08T17:26:56.482Z"
   },
   {
    "duration": 1326,
    "start_time": "2023-10-08T17:28:20.299Z"
   },
   {
    "duration": 41,
    "start_time": "2023-10-08T17:28:21.626Z"
   },
   {
    "duration": 16,
    "start_time": "2023-10-08T17:28:21.669Z"
   },
   {
    "duration": 89,
    "start_time": "2023-10-08T17:28:21.687Z"
   },
   {
    "duration": 9,
    "start_time": "2023-10-08T17:28:21.778Z"
   },
   {
    "duration": 44,
    "start_time": "2023-10-08T17:28:21.788Z"
   },
   {
    "duration": 12,
    "start_time": "2023-10-08T17:28:21.833Z"
   },
   {
    "duration": 36,
    "start_time": "2023-10-08T17:28:21.847Z"
   },
   {
    "duration": 17,
    "start_time": "2023-10-08T17:28:21.884Z"
   },
   {
    "duration": 19,
    "start_time": "2023-10-08T17:28:21.904Z"
   },
   {
    "duration": 58,
    "start_time": "2023-10-08T17:28:21.924Z"
   },
   {
    "duration": 30,
    "start_time": "2023-10-08T17:28:21.984Z"
   },
   {
    "duration": 29,
    "start_time": "2023-10-08T17:28:22.016Z"
   },
   {
    "duration": 23,
    "start_time": "2023-10-08T17:28:22.047Z"
   },
   {
    "duration": 22,
    "start_time": "2023-10-08T17:28:22.072Z"
   },
   {
    "duration": 23,
    "start_time": "2023-10-08T17:28:22.095Z"
   },
   {
    "duration": 18,
    "start_time": "2023-10-08T17:28:22.119Z"
   },
   {
    "duration": 7,
    "start_time": "2023-10-08T17:28:22.139Z"
   },
   {
    "duration": 18,
    "start_time": "2023-10-08T17:28:22.147Z"
   },
   {
    "duration": 30,
    "start_time": "2023-10-08T17:28:22.166Z"
   },
   {
    "duration": 11,
    "start_time": "2023-10-08T17:28:22.198Z"
   },
   {
    "duration": 171,
    "start_time": "2023-10-08T17:28:22.210Z"
   },
   {
    "duration": 6,
    "start_time": "2023-10-08T17:28:22.382Z"
   },
   {
    "duration": 124,
    "start_time": "2023-10-08T17:28:22.389Z"
   },
   {
    "duration": 5,
    "start_time": "2023-10-08T17:28:22.515Z"
   },
   {
    "duration": 171,
    "start_time": "2023-10-08T17:28:22.522Z"
   },
   {
    "duration": 7,
    "start_time": "2023-10-08T17:28:22.694Z"
   },
   {
    "duration": 41,
    "start_time": "2023-10-08T17:28:22.705Z"
   },
   {
    "duration": 114,
    "start_time": "2023-10-08T17:28:22.748Z"
   },
   {
    "duration": 8,
    "start_time": "2023-10-08T17:28:22.864Z"
   },
   {
    "duration": 43,
    "start_time": "2023-10-08T17:28:22.874Z"
   },
   {
    "duration": 24,
    "start_time": "2023-10-08T17:28:22.918Z"
   },
   {
    "duration": 123,
    "start_time": "2023-10-08T17:28:22.944Z"
   },
   {
    "duration": 8,
    "start_time": "2023-10-08T17:28:23.069Z"
   },
   {
    "duration": 24,
    "start_time": "2023-10-08T17:28:23.078Z"
   },
   {
    "duration": 24,
    "start_time": "2023-10-08T17:28:23.104Z"
   },
   {
    "duration": 14,
    "start_time": "2023-10-08T17:28:23.129Z"
   },
   {
    "duration": 178,
    "start_time": "2023-10-08T17:28:23.144Z"
   },
   {
    "duration": 142,
    "start_time": "2023-10-08T17:28:23.324Z"
   },
   {
    "duration": 161,
    "start_time": "2023-10-08T17:28:23.467Z"
   },
   {
    "duration": 5,
    "start_time": "2023-10-08T17:28:23.629Z"
   },
   {
    "duration": 27,
    "start_time": "2023-10-08T17:28:23.636Z"
   },
   {
    "duration": 24,
    "start_time": "2023-10-08T17:28:23.665Z"
   },
   {
    "duration": 250,
    "start_time": "2023-10-08T17:28:23.691Z"
   },
   {
    "duration": 142,
    "start_time": "2023-10-08T17:28:23.942Z"
   },
   {
    "duration": 144,
    "start_time": "2023-10-08T17:28:24.086Z"
   },
   {
    "duration": 158,
    "start_time": "2023-10-08T17:28:24.232Z"
   },
   {
    "duration": 11,
    "start_time": "2023-10-08T17:28:24.393Z"
   },
   {
    "duration": 20,
    "start_time": "2023-10-08T17:28:24.406Z"
   },
   {
    "duration": 43,
    "start_time": "2023-10-08T17:28:24.427Z"
   },
   {
    "duration": 69,
    "start_time": "2023-10-08T17:28:24.473Z"
   },
   {
    "duration": 23,
    "start_time": "2023-10-08T17:28:24.544Z"
   },
   {
    "duration": 78,
    "start_time": "2023-10-08T17:28:24.569Z"
   },
   {
    "duration": 30,
    "start_time": "2023-10-08T17:28:24.656Z"
   },
   {
    "duration": 46,
    "start_time": "2023-10-08T17:28:24.688Z"
   },
   {
    "duration": 35,
    "start_time": "2023-10-08T17:28:24.736Z"
   },
   {
    "duration": 743,
    "start_time": "2023-10-08T17:28:24.773Z"
   },
   {
    "duration": 5,
    "start_time": "2023-10-08T17:28:25.518Z"
   },
   {
    "duration": 107,
    "start_time": "2023-10-08T17:28:25.524Z"
   },
   {
    "duration": 184,
    "start_time": "2023-10-08T17:28:25.633Z"
   },
   {
    "duration": 1195,
    "start_time": "2023-10-08T17:30:17.072Z"
   },
   {
    "duration": 29,
    "start_time": "2023-10-08T17:30:18.272Z"
   },
   {
    "duration": 11,
    "start_time": "2023-10-08T17:30:18.302Z"
   },
   {
    "duration": 59,
    "start_time": "2023-10-08T17:30:18.315Z"
   },
   {
    "duration": 8,
    "start_time": "2023-10-08T17:30:18.377Z"
   },
   {
    "duration": 36,
    "start_time": "2023-10-08T17:30:18.386Z"
   },
   {
    "duration": 9,
    "start_time": "2023-10-08T17:30:18.424Z"
   },
   {
    "duration": 27,
    "start_time": "2023-10-08T17:30:18.435Z"
   },
   {
    "duration": 11,
    "start_time": "2023-10-08T17:30:18.464Z"
   },
   {
    "duration": 22,
    "start_time": "2023-10-08T17:30:18.477Z"
   },
   {
    "duration": 19,
    "start_time": "2023-10-08T17:30:18.500Z"
   },
   {
    "duration": 15,
    "start_time": "2023-10-08T17:30:18.521Z"
   },
   {
    "duration": 11,
    "start_time": "2023-10-08T17:30:18.538Z"
   },
   {
    "duration": 40,
    "start_time": "2023-10-08T17:30:18.552Z"
   },
   {
    "duration": 21,
    "start_time": "2023-10-08T17:30:18.594Z"
   },
   {
    "duration": 18,
    "start_time": "2023-10-08T17:30:18.616Z"
   },
   {
    "duration": 13,
    "start_time": "2023-10-08T17:30:18.635Z"
   },
   {
    "duration": 27,
    "start_time": "2023-10-08T17:30:18.649Z"
   },
   {
    "duration": 32,
    "start_time": "2023-10-08T17:30:18.677Z"
   },
   {
    "duration": 8,
    "start_time": "2023-10-08T17:30:18.711Z"
   },
   {
    "duration": 35,
    "start_time": "2023-10-08T17:30:18.720Z"
   },
   {
    "duration": 181,
    "start_time": "2023-10-08T17:30:18.757Z"
   },
   {
    "duration": 18,
    "start_time": "2023-10-08T17:30:18.940Z"
   },
   {
    "duration": 176,
    "start_time": "2023-10-08T17:30:18.960Z"
   },
   {
    "duration": 15,
    "start_time": "2023-10-08T17:30:19.138Z"
   },
   {
    "duration": 147,
    "start_time": "2023-10-08T17:30:19.155Z"
   },
   {
    "duration": 5,
    "start_time": "2023-10-08T17:30:19.304Z"
   },
   {
    "duration": 57,
    "start_time": "2023-10-08T17:30:19.311Z"
   },
   {
    "duration": 164,
    "start_time": "2023-10-08T17:30:19.369Z"
   },
   {
    "duration": 71,
    "start_time": "2023-10-08T17:30:19.534Z"
   },
   {
    "duration": 61,
    "start_time": "2023-10-08T17:30:19.606Z"
   },
   {
    "duration": 35,
    "start_time": "2023-10-08T17:30:19.668Z"
   },
   {
    "duration": 172,
    "start_time": "2023-10-08T17:30:19.704Z"
   },
   {
    "duration": 7,
    "start_time": "2023-10-08T17:30:19.878Z"
   },
   {
    "duration": 57,
    "start_time": "2023-10-08T17:30:19.886Z"
   },
   {
    "duration": 98,
    "start_time": "2023-10-08T17:30:19.945Z"
   },
   {
    "duration": 50,
    "start_time": "2023-10-08T17:30:20.044Z"
   },
   {
    "duration": 201,
    "start_time": "2023-10-08T17:30:20.096Z"
   },
   {
    "duration": 128,
    "start_time": "2023-10-08T17:30:20.299Z"
   },
   {
    "duration": 174,
    "start_time": "2023-10-08T17:30:20.429Z"
   },
   {
    "duration": 5,
    "start_time": "2023-10-08T17:30:20.607Z"
   },
   {
    "duration": 57,
    "start_time": "2023-10-08T17:30:20.614Z"
   },
   {
    "duration": 83,
    "start_time": "2023-10-08T17:30:20.673Z"
   },
   {
    "duration": 235,
    "start_time": "2023-10-08T17:30:20.757Z"
   },
   {
    "duration": 132,
    "start_time": "2023-10-08T17:30:20.994Z"
   },
   {
    "duration": 148,
    "start_time": "2023-10-08T17:30:21.128Z"
   },
   {
    "duration": 148,
    "start_time": "2023-10-08T17:30:21.278Z"
   },
   {
    "duration": 8,
    "start_time": "2023-10-08T17:30:21.428Z"
   },
   {
    "duration": 16,
    "start_time": "2023-10-08T17:30:21.449Z"
   },
   {
    "duration": 28,
    "start_time": "2023-10-08T17:30:21.466Z"
   },
   {
    "duration": 24,
    "start_time": "2023-10-08T17:30:21.495Z"
   },
   {
    "duration": 10,
    "start_time": "2023-10-08T17:30:21.520Z"
   },
   {
    "duration": 35,
    "start_time": "2023-10-08T17:30:21.531Z"
   },
   {
    "duration": 9,
    "start_time": "2023-10-08T17:30:21.567Z"
   },
   {
    "duration": 33,
    "start_time": "2023-10-08T17:30:21.578Z"
   },
   {
    "duration": 22,
    "start_time": "2023-10-08T17:30:21.612Z"
   },
   {
    "duration": 681,
    "start_time": "2023-10-08T17:30:21.635Z"
   },
   {
    "duration": 5,
    "start_time": "2023-10-08T17:30:22.317Z"
   },
   {
    "duration": 14,
    "start_time": "2023-10-08T17:30:22.323Z"
   },
   {
    "duration": 162,
    "start_time": "2023-10-08T17:30:22.338Z"
   },
   {
    "duration": 146,
    "start_time": "2023-10-08T17:32:09.861Z"
   },
   {
    "duration": 5,
    "start_time": "2023-10-08T17:40:27.606Z"
   },
   {
    "duration": 1117,
    "start_time": "2023-10-08T17:41:01.205Z"
   },
   {
    "duration": 992,
    "start_time": "2023-10-08T17:41:27.748Z"
   },
   {
    "duration": 114,
    "start_time": "2023-10-08T17:51:04.651Z"
   },
   {
    "duration": 1214,
    "start_time": "2023-10-08T17:51:53.365Z"
   },
   {
    "duration": 31,
    "start_time": "2023-10-08T17:51:54.581Z"
   },
   {
    "duration": 14,
    "start_time": "2023-10-08T17:51:54.614Z"
   },
   {
    "duration": 42,
    "start_time": "2023-10-08T17:51:54.630Z"
   },
   {
    "duration": 10,
    "start_time": "2023-10-08T17:51:54.675Z"
   },
   {
    "duration": 30,
    "start_time": "2023-10-08T17:51:54.686Z"
   },
   {
    "duration": 15,
    "start_time": "2023-10-08T17:51:54.718Z"
   },
   {
    "duration": 13,
    "start_time": "2023-10-08T17:51:54.735Z"
   },
   {
    "duration": 23,
    "start_time": "2023-10-08T17:51:54.749Z"
   },
   {
    "duration": 9,
    "start_time": "2023-10-08T17:51:54.774Z"
   },
   {
    "duration": 15,
    "start_time": "2023-10-08T17:51:54.785Z"
   },
   {
    "duration": 21,
    "start_time": "2023-10-08T17:51:54.802Z"
   },
   {
    "duration": 5,
    "start_time": "2023-10-08T17:51:54.824Z"
   },
   {
    "duration": 27,
    "start_time": "2023-10-08T17:51:54.832Z"
   },
   {
    "duration": 7,
    "start_time": "2023-10-08T17:51:54.868Z"
   },
   {
    "duration": 18,
    "start_time": "2023-10-08T17:51:54.876Z"
   },
   {
    "duration": 6,
    "start_time": "2023-10-08T17:51:54.896Z"
   },
   {
    "duration": 7,
    "start_time": "2023-10-08T17:51:54.903Z"
   },
   {
    "duration": 11,
    "start_time": "2023-10-08T17:51:54.912Z"
   },
   {
    "duration": 5,
    "start_time": "2023-10-08T17:51:54.925Z"
   },
   {
    "duration": 21,
    "start_time": "2023-10-08T17:51:54.932Z"
   },
   {
    "duration": 178,
    "start_time": "2023-10-08T17:51:54.961Z"
   },
   {
    "duration": 24,
    "start_time": "2023-10-08T17:51:55.141Z"
   },
   {
    "duration": 126,
    "start_time": "2023-10-08T17:51:55.166Z"
   },
   {
    "duration": 6,
    "start_time": "2023-10-08T17:51:55.294Z"
   },
   {
    "duration": 182,
    "start_time": "2023-10-08T17:51:55.302Z"
   },
   {
    "duration": 7,
    "start_time": "2023-10-08T17:51:55.487Z"
   },
   {
    "duration": 47,
    "start_time": "2023-10-08T17:51:55.496Z"
   },
   {
    "duration": 125,
    "start_time": "2023-10-08T17:51:55.544Z"
   },
   {
    "duration": 9,
    "start_time": "2023-10-08T17:51:55.671Z"
   },
   {
    "duration": 16,
    "start_time": "2023-10-08T17:51:55.681Z"
   },
   {
    "duration": 12,
    "start_time": "2023-10-08T17:51:55.698Z"
   },
   {
    "duration": 115,
    "start_time": "2023-10-08T17:51:55.711Z"
   },
   {
    "duration": 7,
    "start_time": "2023-10-08T17:51:55.828Z"
   },
   {
    "duration": 20,
    "start_time": "2023-10-08T17:51:55.836Z"
   },
   {
    "duration": 13,
    "start_time": "2023-10-08T17:51:55.862Z"
   },
   {
    "duration": 15,
    "start_time": "2023-10-08T17:51:55.877Z"
   },
   {
    "duration": 194,
    "start_time": "2023-10-08T17:51:55.894Z"
   },
   {
    "duration": 164,
    "start_time": "2023-10-08T17:51:56.091Z"
   },
   {
    "duration": 167,
    "start_time": "2023-10-08T17:51:56.259Z"
   },
   {
    "duration": 5,
    "start_time": "2023-10-08T17:51:56.430Z"
   },
   {
    "duration": 35,
    "start_time": "2023-10-08T17:51:56.437Z"
   },
   {
    "duration": 15,
    "start_time": "2023-10-08T17:51:56.474Z"
   },
   {
    "duration": 228,
    "start_time": "2023-10-08T17:51:56.491Z"
   },
   {
    "duration": 122,
    "start_time": "2023-10-08T17:51:56.721Z"
   },
   {
    "duration": 153,
    "start_time": "2023-10-08T17:51:56.844Z"
   },
   {
    "duration": 131,
    "start_time": "2023-10-08T17:51:56.998Z"
   },
   {
    "duration": 8,
    "start_time": "2023-10-08T17:51:57.131Z"
   },
   {
    "duration": 16,
    "start_time": "2023-10-08T17:51:57.150Z"
   },
   {
    "duration": 16,
    "start_time": "2023-10-08T17:51:57.168Z"
   },
   {
    "duration": 14,
    "start_time": "2023-10-08T17:51:57.185Z"
   },
   {
    "duration": 6,
    "start_time": "2023-10-08T17:51:57.201Z"
   },
   {
    "duration": 25,
    "start_time": "2023-10-08T17:51:57.208Z"
   },
   {
    "duration": 10,
    "start_time": "2023-10-08T17:51:57.234Z"
   },
   {
    "duration": 19,
    "start_time": "2023-10-08T17:51:57.245Z"
   },
   {
    "duration": 5,
    "start_time": "2023-10-08T17:51:57.268Z"
   },
   {
    "duration": 698,
    "start_time": "2023-10-08T17:51:57.275Z"
   },
   {
    "duration": 5,
    "start_time": "2023-10-08T17:51:57.975Z"
   },
   {
    "duration": 10,
    "start_time": "2023-10-08T17:51:57.982Z"
   },
   {
    "duration": 240,
    "start_time": "2023-10-08T17:51:57.994Z"
   },
   {
    "duration": 1146,
    "start_time": "2023-10-08T17:51:58.236Z"
   },
   {
    "duration": 218,
    "start_time": "2023-10-08T17:52:19.702Z"
   },
   {
    "duration": 292,
    "start_time": "2023-10-08T17:53:15.166Z"
   },
   {
    "duration": 217,
    "start_time": "2023-10-08T17:53:35.424Z"
   },
   {
    "duration": 1612,
    "start_time": "2023-10-08T17:54:35.614Z"
   },
   {
    "duration": 271,
    "start_time": "2023-10-08T17:55:16.349Z"
   },
   {
    "duration": 221,
    "start_time": "2023-10-08T17:55:26.110Z"
   },
   {
    "duration": 114,
    "start_time": "2023-10-08T18:05:38.174Z"
   },
   {
    "duration": 6,
    "start_time": "2023-10-08T18:06:17.622Z"
   },
   {
    "duration": 6,
    "start_time": "2023-10-08T18:06:50.934Z"
   },
   {
    "duration": 5,
    "start_time": "2023-10-08T18:07:20.822Z"
   },
   {
    "duration": 360,
    "start_time": "2023-10-08T18:08:36.414Z"
   },
   {
    "duration": 113,
    "start_time": "2023-10-08T18:14:09.891Z"
   },
   {
    "duration": 1137,
    "start_time": "2023-10-08T18:28:03.795Z"
   },
   {
    "duration": 29,
    "start_time": "2023-10-08T18:28:04.934Z"
   },
   {
    "duration": 12,
    "start_time": "2023-10-08T18:28:04.965Z"
   },
   {
    "duration": 30,
    "start_time": "2023-10-08T18:28:04.979Z"
   },
   {
    "duration": 8,
    "start_time": "2023-10-08T18:28:05.011Z"
   },
   {
    "duration": 40,
    "start_time": "2023-10-08T18:28:05.021Z"
   },
   {
    "duration": 7,
    "start_time": "2023-10-08T18:28:05.062Z"
   },
   {
    "duration": 15,
    "start_time": "2023-10-08T18:28:05.071Z"
   },
   {
    "duration": 17,
    "start_time": "2023-10-08T18:28:05.088Z"
   },
   {
    "duration": 9,
    "start_time": "2023-10-08T18:28:05.108Z"
   },
   {
    "duration": 11,
    "start_time": "2023-10-08T18:28:05.119Z"
   },
   {
    "duration": 21,
    "start_time": "2023-10-08T18:28:05.132Z"
   },
   {
    "duration": 4,
    "start_time": "2023-10-08T18:28:05.154Z"
   },
   {
    "duration": 16,
    "start_time": "2023-10-08T18:28:05.159Z"
   },
   {
    "duration": 8,
    "start_time": "2023-10-08T18:28:05.176Z"
   },
   {
    "duration": 14,
    "start_time": "2023-10-08T18:28:05.186Z"
   },
   {
    "duration": 12,
    "start_time": "2023-10-08T18:28:05.202Z"
   },
   {
    "duration": 4,
    "start_time": "2023-10-08T18:28:05.216Z"
   },
   {
    "duration": 6,
    "start_time": "2023-10-08T18:28:05.221Z"
   },
   {
    "duration": 17,
    "start_time": "2023-10-08T18:28:05.229Z"
   },
   {
    "duration": 10,
    "start_time": "2023-10-08T18:28:05.248Z"
   },
   {
    "duration": 155,
    "start_time": "2023-10-08T18:28:05.260Z"
   },
   {
    "duration": 5,
    "start_time": "2023-10-08T18:28:05.416Z"
   },
   {
    "duration": 185,
    "start_time": "2023-10-08T18:28:05.423Z"
   },
   {
    "duration": 5,
    "start_time": "2023-10-08T18:28:05.610Z"
   },
   {
    "duration": 141,
    "start_time": "2023-10-08T18:28:05.616Z"
   },
   {
    "duration": 6,
    "start_time": "2023-10-08T18:28:05.759Z"
   },
   {
    "duration": 32,
    "start_time": "2023-10-08T18:28:05.768Z"
   },
   {
    "duration": 92,
    "start_time": "2023-10-08T18:28:05.802Z"
   },
   {
    "duration": 7,
    "start_time": "2023-10-08T18:28:05.896Z"
   },
   {
    "duration": 43,
    "start_time": "2023-10-08T18:28:05.905Z"
   },
   {
    "duration": 36,
    "start_time": "2023-10-08T18:28:05.949Z"
   },
   {
    "duration": 129,
    "start_time": "2023-10-08T18:28:05.988Z"
   },
   {
    "duration": 9,
    "start_time": "2023-10-08T18:28:06.119Z"
   },
   {
    "duration": 20,
    "start_time": "2023-10-08T18:28:06.130Z"
   },
   {
    "duration": 24,
    "start_time": "2023-10-08T18:28:06.152Z"
   },
   {
    "duration": 15,
    "start_time": "2023-10-08T18:28:06.178Z"
   },
   {
    "duration": 162,
    "start_time": "2023-10-08T18:28:06.194Z"
   },
   {
    "duration": 129,
    "start_time": "2023-10-08T18:28:06.358Z"
   },
   {
    "duration": 139,
    "start_time": "2023-10-08T18:28:06.489Z"
   },
   {
    "duration": 5,
    "start_time": "2023-10-08T18:28:06.630Z"
   },
   {
    "duration": 19,
    "start_time": "2023-10-08T18:28:06.636Z"
   },
   {
    "duration": 18,
    "start_time": "2023-10-08T18:28:06.657Z"
   },
   {
    "duration": 217,
    "start_time": "2023-10-08T18:28:06.677Z"
   },
   {
    "duration": 135,
    "start_time": "2023-10-08T18:28:06.896Z"
   },
   {
    "duration": 137,
    "start_time": "2023-10-08T18:28:07.033Z"
   },
   {
    "duration": 125,
    "start_time": "2023-10-08T18:28:07.173Z"
   },
   {
    "duration": 8,
    "start_time": "2023-10-08T18:28:07.299Z"
   },
   {
    "duration": 9,
    "start_time": "2023-10-08T18:28:07.309Z"
   },
   {
    "duration": 5,
    "start_time": "2023-10-08T18:28:07.319Z"
   },
   {
    "duration": 10,
    "start_time": "2023-10-08T18:28:07.325Z"
   },
   {
    "duration": 14,
    "start_time": "2023-10-08T18:28:07.336Z"
   },
   {
    "duration": 32,
    "start_time": "2023-10-08T18:28:07.352Z"
   },
   {
    "duration": 9,
    "start_time": "2023-10-08T18:28:07.385Z"
   },
   {
    "duration": 9,
    "start_time": "2023-10-08T18:28:07.396Z"
   },
   {
    "duration": 4,
    "start_time": "2023-10-08T18:28:07.407Z"
   },
   {
    "duration": 632,
    "start_time": "2023-10-08T18:28:07.413Z"
   },
   {
    "duration": 5,
    "start_time": "2023-10-08T18:28:08.049Z"
   },
   {
    "duration": 8,
    "start_time": "2023-10-08T18:28:08.055Z"
   },
   {
    "duration": 156,
    "start_time": "2023-10-08T18:28:08.064Z"
   },
   {
    "duration": 994,
    "start_time": "2023-10-08T18:28:08.222Z"
   },
   {
    "duration": 1658,
    "start_time": "2023-10-09T01:16:49.729Z"
   },
   {
    "duration": 110,
    "start_time": "2023-10-09T01:16:51.390Z"
   },
   {
    "duration": 16,
    "start_time": "2023-10-09T01:16:51.502Z"
   },
   {
    "duration": 130,
    "start_time": "2023-10-09T01:16:51.521Z"
   },
   {
    "duration": 9,
    "start_time": "2023-10-09T01:16:51.653Z"
   },
   {
    "duration": 89,
    "start_time": "2023-10-09T01:16:51.663Z"
   },
   {
    "duration": 8,
    "start_time": "2023-10-09T01:16:51.753Z"
   },
   {
    "duration": 30,
    "start_time": "2023-10-09T01:16:51.762Z"
   },
   {
    "duration": 54,
    "start_time": "2023-10-09T01:16:51.794Z"
   },
   {
    "duration": 20,
    "start_time": "2023-10-09T01:16:51.851Z"
   },
   {
    "duration": 92,
    "start_time": "2023-10-09T01:16:51.872Z"
   },
   {
    "duration": 48,
    "start_time": "2023-10-09T01:16:51.966Z"
   },
   {
    "duration": 30,
    "start_time": "2023-10-09T01:16:52.016Z"
   },
   {
    "duration": 79,
    "start_time": "2023-10-09T01:16:52.048Z"
   },
   {
    "duration": 38,
    "start_time": "2023-10-09T01:16:52.129Z"
   },
   {
    "duration": 65,
    "start_time": "2023-10-09T01:16:52.169Z"
   },
   {
    "duration": 15,
    "start_time": "2023-10-09T01:16:52.236Z"
   },
   {
    "duration": 278,
    "start_time": "2023-10-09T01:16:52.254Z"
   },
   {
    "duration": 23,
    "start_time": "2023-10-09T01:16:52.534Z"
   },
   {
    "duration": 36,
    "start_time": "2023-10-09T01:16:52.559Z"
   },
   {
    "duration": 45,
    "start_time": "2023-10-09T01:16:52.597Z"
   },
   {
    "duration": 241,
    "start_time": "2023-10-09T01:16:52.644Z"
   },
   {
    "duration": 6,
    "start_time": "2023-10-09T01:16:52.887Z"
   },
   {
    "duration": 158,
    "start_time": "2023-10-09T01:16:52.895Z"
   },
   {
    "duration": 6,
    "start_time": "2023-10-09T01:16:53.054Z"
   },
   {
    "duration": 194,
    "start_time": "2023-10-09T01:16:53.062Z"
   },
   {
    "duration": 6,
    "start_time": "2023-10-09T01:16:53.258Z"
   },
   {
    "duration": 25,
    "start_time": "2023-10-09T01:16:53.268Z"
   },
   {
    "duration": 146,
    "start_time": "2023-10-09T01:16:53.295Z"
   },
   {
    "duration": 9,
    "start_time": "2023-10-09T01:16:53.442Z"
   },
   {
    "duration": 33,
    "start_time": "2023-10-09T01:16:53.453Z"
   },
   {
    "duration": 16,
    "start_time": "2023-10-09T01:16:53.487Z"
   },
   {
    "duration": 136,
    "start_time": "2023-10-09T01:16:53.504Z"
   },
   {
    "duration": 8,
    "start_time": "2023-10-09T01:16:53.642Z"
   },
   {
    "duration": 39,
    "start_time": "2023-10-09T01:16:53.651Z"
   },
   {
    "duration": 30,
    "start_time": "2023-10-09T01:16:53.692Z"
   },
   {
    "duration": 32,
    "start_time": "2023-10-09T01:16:53.729Z"
   },
   {
    "duration": 204,
    "start_time": "2023-10-09T01:16:53.763Z"
   },
   {
    "duration": 198,
    "start_time": "2023-10-09T01:16:53.970Z"
   },
   {
    "duration": 211,
    "start_time": "2023-10-09T01:16:54.170Z"
   },
   {
    "duration": 7,
    "start_time": "2023-10-09T01:16:54.383Z"
   },
   {
    "duration": 103,
    "start_time": "2023-10-09T01:16:54.391Z"
   },
   {
    "duration": 41,
    "start_time": "2023-10-09T01:16:54.496Z"
   },
   {
    "duration": 318,
    "start_time": "2023-10-09T01:16:54.540Z"
   },
   {
    "duration": 157,
    "start_time": "2023-10-09T01:16:54.859Z"
   },
   {
    "duration": 169,
    "start_time": "2023-10-09T01:16:55.018Z"
   },
   {
    "duration": 168,
    "start_time": "2023-10-09T01:16:55.189Z"
   },
   {
    "duration": 10,
    "start_time": "2023-10-09T01:16:55.359Z"
   },
   {
    "duration": 17,
    "start_time": "2023-10-09T01:16:55.371Z"
   },
   {
    "duration": 6,
    "start_time": "2023-10-09T01:16:55.390Z"
   },
   {
    "duration": 33,
    "start_time": "2023-10-09T01:16:55.401Z"
   },
   {
    "duration": 3,
    "start_time": "2023-10-09T01:16:55.436Z"
   },
   {
    "duration": 29,
    "start_time": "2023-10-09T01:16:55.440Z"
   },
   {
    "duration": 27,
    "start_time": "2023-10-09T01:16:55.470Z"
   },
   {
    "duration": 49,
    "start_time": "2023-10-09T01:16:55.499Z"
   },
   {
    "duration": 23,
    "start_time": "2023-10-09T01:16:55.550Z"
   },
   {
    "duration": 804,
    "start_time": "2023-10-09T01:16:55.575Z"
   },
   {
    "duration": 6,
    "start_time": "2023-10-09T01:16:56.381Z"
   },
   {
    "duration": 24,
    "start_time": "2023-10-09T01:16:56.401Z"
   },
   {
    "duration": 209,
    "start_time": "2023-10-09T01:16:56.427Z"
   },
   {
    "duration": 1254,
    "start_time": "2023-10-09T01:16:56.638Z"
   },
   {
    "duration": 1656,
    "start_time": "2023-10-09T01:32:21.094Z"
   },
   {
    "duration": 30,
    "start_time": "2023-10-09T01:32:22.752Z"
   },
   {
    "duration": 13,
    "start_time": "2023-10-09T01:32:22.784Z"
   },
   {
    "duration": 54,
    "start_time": "2023-10-09T01:32:22.798Z"
   },
   {
    "duration": 9,
    "start_time": "2023-10-09T01:32:22.855Z"
   },
   {
    "duration": 30,
    "start_time": "2023-10-09T01:32:22.866Z"
   },
   {
    "duration": 11,
    "start_time": "2023-10-09T01:32:22.897Z"
   },
   {
    "duration": 39,
    "start_time": "2023-10-09T01:32:22.910Z"
   },
   {
    "duration": 38,
    "start_time": "2023-10-09T01:32:22.951Z"
   },
   {
    "duration": 35,
    "start_time": "2023-10-09T01:32:22.991Z"
   },
   {
    "duration": 28,
    "start_time": "2023-10-09T01:32:23.029Z"
   },
   {
    "duration": 30,
    "start_time": "2023-10-09T01:32:23.060Z"
   },
   {
    "duration": 6,
    "start_time": "2023-10-09T01:32:23.092Z"
   },
   {
    "duration": 34,
    "start_time": "2023-10-09T01:32:23.101Z"
   },
   {
    "duration": 18,
    "start_time": "2023-10-09T01:32:23.140Z"
   },
   {
    "duration": 37,
    "start_time": "2023-10-09T01:32:23.160Z"
   },
   {
    "duration": 27,
    "start_time": "2023-10-09T01:32:23.200Z"
   },
   {
    "duration": 11,
    "start_time": "2023-10-09T01:32:23.231Z"
   },
   {
    "duration": 6,
    "start_time": "2023-10-09T01:32:23.245Z"
   },
   {
    "duration": 17,
    "start_time": "2023-10-09T01:32:23.253Z"
   },
   {
    "duration": 25,
    "start_time": "2023-10-09T01:32:23.272Z"
   },
   {
    "duration": 244,
    "start_time": "2023-10-09T01:32:23.299Z"
   },
   {
    "duration": 6,
    "start_time": "2023-10-09T01:32:23.545Z"
   },
   {
    "duration": 202,
    "start_time": "2023-10-09T01:32:23.553Z"
   },
   {
    "duration": 179,
    "start_time": "2023-10-09T01:32:23.757Z"
   },
   {
    "duration": 197,
    "start_time": "2023-10-09T01:32:23.939Z"
   },
   {
    "duration": 7,
    "start_time": "2023-10-09T01:32:24.143Z"
   },
   {
    "duration": 20,
    "start_time": "2023-10-09T01:32:24.152Z"
   },
   {
    "duration": 130,
    "start_time": "2023-10-09T01:32:24.174Z"
   },
   {
    "duration": 33,
    "start_time": "2023-10-09T01:32:24.318Z"
   },
   {
    "duration": 11,
    "start_time": "2023-10-09T01:32:24.353Z"
   },
   {
    "duration": 26,
    "start_time": "2023-10-09T01:32:24.367Z"
   },
   {
    "duration": 170,
    "start_time": "2023-10-09T01:32:24.394Z"
   },
   {
    "duration": 10,
    "start_time": "2023-10-09T01:32:24.566Z"
   },
   {
    "duration": 30,
    "start_time": "2023-10-09T01:32:24.578Z"
   },
   {
    "duration": 30,
    "start_time": "2023-10-09T01:32:24.610Z"
   },
   {
    "duration": 24,
    "start_time": "2023-10-09T01:32:24.642Z"
   },
   {
    "duration": 274,
    "start_time": "2023-10-09T01:32:24.670Z"
   },
   {
    "duration": 230,
    "start_time": "2023-10-09T01:32:24.947Z"
   },
   {
    "duration": 218,
    "start_time": "2023-10-09T01:32:25.179Z"
   },
   {
    "duration": 7,
    "start_time": "2023-10-09T01:32:25.403Z"
   },
   {
    "duration": 25,
    "start_time": "2023-10-09T01:32:25.412Z"
   },
   {
    "duration": 28,
    "start_time": "2023-10-09T01:32:25.440Z"
   },
   {
    "duration": 396,
    "start_time": "2023-10-09T01:32:25.471Z"
   },
   {
    "duration": 222,
    "start_time": "2023-10-09T01:32:25.868Z"
   },
   {
    "duration": 218,
    "start_time": "2023-10-09T01:32:26.092Z"
   },
   {
    "duration": 167,
    "start_time": "2023-10-09T01:32:26.312Z"
   },
   {
    "duration": 12,
    "start_time": "2023-10-09T01:32:26.481Z"
   },
   {
    "duration": 11,
    "start_time": "2023-10-09T01:32:26.496Z"
   },
   {
    "duration": 11,
    "start_time": "2023-10-09T01:32:26.509Z"
   },
   {
    "duration": 22,
    "start_time": "2023-10-09T01:32:26.522Z"
   },
   {
    "duration": 7,
    "start_time": "2023-10-09T01:32:26.548Z"
   },
   {
    "duration": 42,
    "start_time": "2023-10-09T01:32:26.557Z"
   },
   {
    "duration": 23,
    "start_time": "2023-10-09T01:32:26.601Z"
   },
   {
    "duration": 27,
    "start_time": "2023-10-09T01:32:26.626Z"
   },
   {
    "duration": 16,
    "start_time": "2023-10-09T01:32:26.655Z"
   },
   {
    "duration": 978,
    "start_time": "2023-10-09T01:32:26.673Z"
   },
   {
    "duration": 8,
    "start_time": "2023-10-09T01:32:27.653Z"
   },
   {
    "duration": 10,
    "start_time": "2023-10-09T01:32:27.662Z"
   },
   {
    "duration": 211,
    "start_time": "2023-10-09T01:32:27.674Z"
   },
   {
    "duration": 1468,
    "start_time": "2023-10-09T01:32:27.887Z"
   },
   {
    "duration": 46,
    "start_time": "2023-10-10T14:46:19.017Z"
   },
   {
    "duration": 1316,
    "start_time": "2023-10-10T14:51:17.011Z"
   },
   {
    "duration": 77,
    "start_time": "2023-10-10T14:51:24.569Z"
   },
   {
    "duration": 12,
    "start_time": "2023-10-10T14:51:28.112Z"
   },
   {
    "duration": 12,
    "start_time": "2023-10-10T14:51:52.611Z"
   },
   {
    "duration": 93,
    "start_time": "2023-10-10T14:52:01.669Z"
   },
   {
    "duration": 8,
    "start_time": "2023-10-10T14:52:04.705Z"
   },
   {
    "duration": 12,
    "start_time": "2023-10-10T14:52:08.888Z"
   },
   {
    "duration": 64,
    "start_time": "2023-10-10T14:52:33.979Z"
   },
   {
    "duration": 7,
    "start_time": "2023-10-10T14:52:37.688Z"
   },
   {
    "duration": 10,
    "start_time": "2023-10-10T14:52:53.755Z"
   },
   {
    "duration": 7,
    "start_time": "2023-10-10T14:58:12.828Z"
   },
   {
    "duration": 8,
    "start_time": "2023-10-10T14:58:15.300Z"
   },
   {
    "duration": 6,
    "start_time": "2023-10-10T15:01:40.179Z"
   },
   {
    "duration": 10,
    "start_time": "2023-10-10T15:02:25.939Z"
   },
   {
    "duration": 5,
    "start_time": "2023-10-10T15:02:31.434Z"
   },
   {
    "duration": 10,
    "start_time": "2023-10-10T15:02:42.858Z"
   },
   {
    "duration": 7,
    "start_time": "2023-10-10T15:04:17.066Z"
   },
   {
    "duration": 6,
    "start_time": "2023-10-10T15:04:20.162Z"
   },
   {
    "duration": 1631,
    "start_time": "2023-10-10T15:04:46.438Z"
   },
   {
    "duration": 5,
    "start_time": "2023-10-10T15:05:16.475Z"
   },
   {
    "duration": 5,
    "start_time": "2023-10-10T15:05:37.617Z"
   },
   {
    "duration": 5,
    "start_time": "2023-10-10T15:05:52.555Z"
   },
   {
    "duration": 174,
    "start_time": "2023-10-10T15:07:26.217Z"
   },
   {
    "duration": 5,
    "start_time": "2023-10-10T15:07:55.145Z"
   },
   {
    "duration": 9,
    "start_time": "2023-10-10T15:12:22.881Z"
   },
   {
    "duration": 5,
    "start_time": "2023-10-10T15:13:03.875Z"
   },
   {
    "duration": 145,
    "start_time": "2023-10-10T15:13:25.261Z"
   },
   {
    "duration": 137,
    "start_time": "2023-10-10T15:15:01.099Z"
   },
   {
    "duration": 153,
    "start_time": "2023-10-10T15:16:28.963Z"
   },
   {
    "duration": 12,
    "start_time": "2023-10-10T15:20:18.763Z"
   },
   {
    "duration": 145,
    "start_time": "2023-10-10T15:20:27.123Z"
   },
   {
    "duration": 21,
    "start_time": "2023-10-10T15:21:25.539Z"
   },
   {
    "duration": 149,
    "start_time": "2023-10-10T15:21:53.651Z"
   },
   {
    "duration": 145,
    "start_time": "2023-10-10T15:22:33.410Z"
   },
   {
    "duration": 2081,
    "start_time": "2023-10-10T15:23:02.539Z"
   },
   {
    "duration": 154,
    "start_time": "2023-10-10T15:23:45.739Z"
   },
   {
    "duration": 143,
    "start_time": "2023-10-10T15:24:02.476Z"
   },
   {
    "duration": 210,
    "start_time": "2023-10-10T15:24:17.435Z"
   },
   {
    "duration": 13,
    "start_time": "2023-10-10T15:24:36.323Z"
   },
   {
    "duration": 14,
    "start_time": "2023-10-10T15:24:52.723Z"
   },
   {
    "duration": 163,
    "start_time": "2023-10-10T15:25:03.795Z"
   },
   {
    "duration": 1715,
    "start_time": "2023-10-10T15:25:17.099Z"
   },
   {
    "duration": 187,
    "start_time": "2023-10-10T15:25:35.747Z"
   },
   {
    "duration": 1971,
    "start_time": "2023-10-10T15:25:58.365Z"
   },
   {
    "duration": 133,
    "start_time": "2023-10-10T15:26:07.506Z"
   },
   {
    "duration": 16,
    "start_time": "2023-10-10T15:28:08.387Z"
   },
   {
    "duration": 684,
    "start_time": "2023-10-10T15:28:25.514Z"
   },
   {
    "duration": 17,
    "start_time": "2023-10-10T15:35:25.677Z"
   },
   {
    "duration": 10,
    "start_time": "2023-10-10T15:35:45.113Z"
   },
   {
    "duration": 15,
    "start_time": "2023-10-10T15:42:26.139Z"
   },
   {
    "duration": 213,
    "start_time": "2023-10-10T15:43:11.427Z"
   },
   {
    "duration": 146,
    "start_time": "2023-10-10T15:44:23.454Z"
   },
   {
    "duration": 126,
    "start_time": "2023-10-10T15:46:03.616Z"
   },
   {
    "duration": 9,
    "start_time": "2023-10-10T15:46:38.136Z"
   },
   {
    "duration": 9,
    "start_time": "2023-10-10T15:49:23.426Z"
   },
   {
    "duration": 112,
    "start_time": "2023-10-10T15:49:36.891Z"
   },
   {
    "duration": 168,
    "start_time": "2023-10-10T15:50:16.626Z"
   },
   {
    "duration": 10,
    "start_time": "2023-10-10T15:53:00.551Z"
   },
   {
    "duration": 12,
    "start_time": "2023-10-10T15:53:12.590Z"
   },
   {
    "duration": 12,
    "start_time": "2023-10-10T15:53:17.095Z"
   },
   {
    "duration": 8,
    "start_time": "2023-10-10T15:54:52.646Z"
   },
   {
    "duration": 9,
    "start_time": "2023-10-10T15:55:29.350Z"
   },
   {
    "duration": 9,
    "start_time": "2023-10-10T15:55:37.253Z"
   },
   {
    "duration": 9,
    "start_time": "2023-10-10T15:55:49.957Z"
   },
   {
    "duration": 9,
    "start_time": "2023-10-10T15:56:08.429Z"
   },
   {
    "duration": 11,
    "start_time": "2023-10-10T15:56:36.117Z"
   },
   {
    "duration": 1547,
    "start_time": "2023-10-11T15:23:22.111Z"
   },
   {
    "duration": 108,
    "start_time": "2023-10-11T15:23:24.780Z"
   },
   {
    "duration": 13,
    "start_time": "2023-10-11T15:23:25.342Z"
   },
   {
    "duration": 14,
    "start_time": "2023-10-11T15:23:26.309Z"
   },
   {
    "duration": 186,
    "start_time": "2023-10-11T15:23:29.917Z"
   },
   {
    "duration": 10,
    "start_time": "2023-10-11T15:23:31.037Z"
   },
   {
    "duration": 12,
    "start_time": "2023-10-11T15:23:31.777Z"
   },
   {
    "duration": 72,
    "start_time": "2023-10-11T15:23:34.124Z"
   },
   {
    "duration": 8,
    "start_time": "2023-10-11T15:23:35.805Z"
   },
   {
    "duration": 12,
    "start_time": "2023-10-11T15:23:37.766Z"
   },
   {
    "duration": 8,
    "start_time": "2023-10-11T15:23:41.613Z"
   },
   {
    "duration": 7,
    "start_time": "2023-10-11T15:23:43.045Z"
   },
   {
    "duration": 9,
    "start_time": "2023-10-11T15:23:45.844Z"
   },
   {
    "duration": 5,
    "start_time": "2023-10-11T15:23:51.770Z"
   },
   {
    "duration": 10,
    "start_time": "2023-10-11T15:23:56.170Z"
   },
   {
    "duration": 8,
    "start_time": "2023-10-11T15:23:58.205Z"
   },
   {
    "duration": 12,
    "start_time": "2023-10-11T15:23:59.030Z"
   },
   {
    "duration": 6,
    "start_time": "2023-10-11T15:24:04.069Z"
   },
   {
    "duration": 6,
    "start_time": "2023-10-11T15:24:05.870Z"
   },
   {
    "duration": 7,
    "start_time": "2023-10-11T15:24:06.948Z"
   },
   {
    "duration": 6,
    "start_time": "2023-10-11T15:24:08.492Z"
   },
   {
    "duration": 7,
    "start_time": "2023-10-11T15:24:19.368Z"
   },
   {
    "duration": 177,
    "start_time": "2023-10-11T15:25:15.170Z"
   },
   {
    "duration": 229,
    "start_time": "2023-10-11T15:25:25.073Z"
   },
   {
    "duration": 146,
    "start_time": "2023-10-11T15:26:33.672Z"
   },
   {
    "duration": 108,
    "start_time": "2023-10-11T15:27:44.169Z"
   },
   {
    "duration": 164,
    "start_time": "2023-10-11T15:27:48.672Z"
   },
   {
    "duration": 7,
    "start_time": "2023-10-11T15:29:50.584Z"
   },
   {
    "duration": 112,
    "start_time": "2023-10-11T15:30:09.571Z"
   },
   {
    "duration": 6,
    "start_time": "2023-10-11T15:30:20.473Z"
   },
   {
    "duration": 159,
    "start_time": "2023-10-11T15:30:29.800Z"
   },
   {
    "duration": 10,
    "start_time": "2023-10-11T15:31:01.809Z"
   },
   {
    "duration": 10,
    "start_time": "2023-10-11T15:32:00.393Z"
   },
   {
    "duration": 10,
    "start_time": "2023-10-11T15:32:18.441Z"
   },
   {
    "duration": 104,
    "start_time": "2023-10-11T15:32:40.673Z"
   },
   {
    "duration": 9,
    "start_time": "2023-10-11T15:32:53.243Z"
   },
   {
    "duration": 10,
    "start_time": "2023-10-11T15:33:38.145Z"
   },
   {
    "duration": 10,
    "start_time": "2023-10-11T15:33:57.825Z"
   },
   {
    "duration": 115,
    "start_time": "2023-10-11T15:35:12.473Z"
   },
   {
    "duration": 12,
    "start_time": "2023-10-11T15:35:20.875Z"
   },
   {
    "duration": 352,
    "start_time": "2023-10-11T15:36:29.583Z"
   },
   {
    "duration": 12284,
    "start_time": "2023-10-11T15:36:38.106Z"
   },
   {
    "duration": 2439,
    "start_time": "2023-10-11T15:37:00.269Z"
   },
   {
    "duration": 10,
    "start_time": "2023-10-11T15:37:33.179Z"
   },
   {
    "duration": 8,
    "start_time": "2023-10-11T15:37:37.843Z"
   },
   {
    "duration": 9,
    "start_time": "2023-10-11T15:37:40.923Z"
   },
   {
    "duration": 210,
    "start_time": "2023-10-11T15:37:54.211Z"
   },
   {
    "duration": 13,
    "start_time": "2023-10-11T15:37:58.915Z"
   },
   {
    "duration": 12,
    "start_time": "2023-10-11T15:38:10.403Z"
   },
   {
    "duration": 14,
    "start_time": "2023-10-11T15:38:12.922Z"
   },
   {
    "duration": 8,
    "start_time": "2023-10-11T15:38:16.974Z"
   },
   {
    "duration": 14,
    "start_time": "2023-10-11T15:38:20.870Z"
   },
   {
    "duration": 8,
    "start_time": "2023-10-11T15:38:26.730Z"
   },
   {
    "duration": 19,
    "start_time": "2023-10-11T15:38:29.083Z"
   },
   {
    "duration": 12,
    "start_time": "2023-10-11T15:38:34.107Z"
   },
   {
    "duration": 177,
    "start_time": "2023-10-11T15:38:44.083Z"
   },
   {
    "duration": 147,
    "start_time": "2023-10-11T15:38:49.892Z"
   },
   {
    "duration": 154,
    "start_time": "2023-10-11T15:38:57.235Z"
   },
   {
    "duration": 8,
    "start_time": "2023-10-11T15:39:01.785Z"
   },
   {
    "duration": 14,
    "start_time": "2023-10-11T15:39:04.547Z"
   },
   {
    "duration": 13,
    "start_time": "2023-10-11T15:39:09.810Z"
   },
   {
    "duration": 434,
    "start_time": "2023-10-11T15:39:12.670Z"
   },
   {
    "duration": 147,
    "start_time": "2023-10-11T15:39:17.204Z"
   },
   {
    "duration": 164,
    "start_time": "2023-10-11T15:39:21.587Z"
   },
   {
    "duration": 191,
    "start_time": "2023-10-11T15:40:00.020Z"
   },
   {
    "duration": 264,
    "start_time": "2023-10-11T15:40:13.292Z"
   },
   {
    "duration": 277,
    "start_time": "2023-10-11T15:41:42.044Z"
   },
   {
    "duration": 215,
    "start_time": "2023-10-11T15:41:45.597Z"
   },
   {
    "duration": 7,
    "start_time": "2023-10-11T15:41:48.419Z"
   },
   {
    "duration": 15,
    "start_time": "2023-10-11T15:41:50.579Z"
   },
   {
    "duration": 13,
    "start_time": "2023-10-11T15:41:52.774Z"
   },
   {
    "duration": 188,
    "start_time": "2023-10-11T15:41:55.827Z"
   },
   {
    "duration": 398,
    "start_time": "2023-10-11T15:41:59.118Z"
   },
   {
    "duration": 188,
    "start_time": "2023-10-11T15:42:03.076Z"
   },
   {
    "duration": 14,
    "start_time": "2023-10-11T16:04:20.036Z"
   },
   {
    "duration": 13,
    "start_time": "2023-10-11T16:04:45.939Z"
   },
   {
    "duration": 12,
    "start_time": "2023-10-11T16:06:35.811Z"
   },
   {
    "duration": 6,
    "start_time": "2023-10-11T16:06:52.716Z"
   },
   {
    "duration": 14,
    "start_time": "2023-10-11T16:07:32.779Z"
   },
   {
    "duration": 20,
    "start_time": "2023-10-11T16:07:55.973Z"
   },
   {
    "duration": 94,
    "start_time": "2023-10-11T16:08:04.155Z"
   },
   {
    "duration": 12,
    "start_time": "2023-10-11T16:08:06.899Z"
   },
   {
    "duration": 14,
    "start_time": "2023-10-11T16:08:49.683Z"
   },
   {
    "duration": 4,
    "start_time": "2023-10-11T16:14:49.905Z"
   },
   {
    "duration": 11,
    "start_time": "2023-10-11T16:15:17.129Z"
   },
   {
    "duration": 8,
    "start_time": "2023-10-11T16:18:25.437Z"
   },
   {
    "duration": 18,
    "start_time": "2023-10-11T16:19:33.185Z"
   },
   {
    "duration": 15,
    "start_time": "2023-10-11T16:26:27.225Z"
   },
   {
    "duration": 12,
    "start_time": "2023-10-11T16:26:54.683Z"
   },
   {
    "duration": 20,
    "start_time": "2023-10-11T16:32:41.345Z"
   },
   {
    "duration": 9,
    "start_time": "2023-10-11T16:32:44.273Z"
   },
   {
    "duration": 5,
    "start_time": "2023-10-11T16:33:18.542Z"
   },
   {
    "duration": 6,
    "start_time": "2023-10-11T16:33:20.735Z"
   },
   {
    "duration": 19,
    "start_time": "2023-10-11T16:33:49.415Z"
   },
   {
    "duration": 10,
    "start_time": "2023-10-11T16:33:51.551Z"
   },
   {
    "duration": 15,
    "start_time": "2023-10-11T16:34:16.488Z"
   },
   {
    "duration": 6,
    "start_time": "2023-10-11T16:38:37.383Z"
   },
   {
    "duration": 6,
    "start_time": "2023-10-11T16:38:39.894Z"
   },
   {
    "duration": 10,
    "start_time": "2023-10-11T16:40:36.682Z"
   },
   {
    "duration": 18,
    "start_time": "2023-10-11T16:40:42.797Z"
   },
   {
    "duration": 18,
    "start_time": "2023-10-11T16:40:45.785Z"
   },
   {
    "duration": 15,
    "start_time": "2023-10-11T16:42:10.692Z"
   },
   {
    "duration": 10,
    "start_time": "2023-10-11T16:43:57.887Z"
   },
   {
    "duration": 13,
    "start_time": "2023-10-11T16:44:00.636Z"
   },
   {
    "duration": 14,
    "start_time": "2023-10-11T16:46:01.684Z"
   },
   {
    "duration": 16,
    "start_time": "2023-10-11T16:46:04.389Z"
   },
   {
    "duration": 25,
    "start_time": "2023-10-11T16:46:08.280Z"
   },
   {
    "duration": 11,
    "start_time": "2023-10-11T16:48:31.114Z"
   },
   {
    "duration": 11,
    "start_time": "2023-10-11T16:48:32.012Z"
   },
   {
    "duration": 18,
    "start_time": "2023-10-11T16:48:32.720Z"
   },
   {
    "duration": 19,
    "start_time": "2023-10-11T16:48:33.778Z"
   },
   {
    "duration": 993,
    "start_time": "2023-10-11T16:49:09.474Z"
   },
   {
    "duration": 1011,
    "start_time": "2023-10-11T16:49:33.377Z"
   },
   {
    "duration": 17,
    "start_time": "2023-10-11T16:49:44.776Z"
   },
   {
    "duration": 15,
    "start_time": "2023-10-11T16:51:32.425Z"
   },
   {
    "duration": 5,
    "start_time": "2023-10-11T16:51:53.038Z"
   },
   {
    "duration": 17,
    "start_time": "2023-10-11T16:52:10.023Z"
   },
   {
    "duration": 1609,
    "start_time": "2023-10-11T16:55:30.990Z"
   },
   {
    "duration": 32,
    "start_time": "2023-10-11T16:55:32.601Z"
   },
   {
    "duration": 209,
    "start_time": "2023-10-11T16:55:32.636Z"
   },
   {
    "duration": 79,
    "start_time": "2023-10-11T16:55:32.847Z"
   },
   {
    "duration": 110,
    "start_time": "2023-10-11T16:55:32.929Z"
   },
   {
    "duration": 285,
    "start_time": "2023-10-11T16:55:33.041Z"
   },
   {
    "duration": 200,
    "start_time": "2023-10-11T16:55:33.328Z"
   },
   {
    "duration": 56,
    "start_time": "2023-10-11T16:55:33.530Z"
   },
   {
    "duration": 13,
    "start_time": "2023-10-11T16:55:33.588Z"
   },
   {
    "duration": 51,
    "start_time": "2023-10-11T16:55:33.603Z"
   },
   {
    "duration": 43,
    "start_time": "2023-10-11T16:55:33.659Z"
   },
   {
    "duration": 31,
    "start_time": "2023-10-11T16:55:33.703Z"
   },
   {
    "duration": 39,
    "start_time": "2023-10-11T16:55:33.736Z"
   },
   {
    "duration": 39,
    "start_time": "2023-10-11T16:55:33.782Z"
   },
   {
    "duration": 52,
    "start_time": "2023-10-11T16:55:33.823Z"
   },
   {
    "duration": 25,
    "start_time": "2023-10-11T16:55:33.879Z"
   },
   {
    "duration": 34,
    "start_time": "2023-10-11T16:55:33.906Z"
   },
   {
    "duration": 47,
    "start_time": "2023-10-11T16:55:33.941Z"
   },
   {
    "duration": 37,
    "start_time": "2023-10-11T16:55:33.990Z"
   },
   {
    "duration": 33,
    "start_time": "2023-10-11T16:55:34.029Z"
   },
   {
    "duration": 9,
    "start_time": "2023-10-11T16:55:34.064Z"
   },
   {
    "duration": 27,
    "start_time": "2023-10-11T16:55:34.075Z"
   },
   {
    "duration": 225,
    "start_time": "2023-10-11T16:55:34.103Z"
   },
   {
    "duration": 7,
    "start_time": "2023-10-11T16:55:34.330Z"
   },
   {
    "duration": 153,
    "start_time": "2023-10-11T16:55:34.338Z"
   },
   {
    "duration": 8,
    "start_time": "2023-10-11T16:55:34.494Z"
   },
   {
    "duration": 207,
    "start_time": "2023-10-11T16:55:34.504Z"
   },
   {
    "duration": 10,
    "start_time": "2023-10-11T16:55:34.712Z"
   },
   {
    "duration": 24,
    "start_time": "2023-10-11T16:55:34.723Z"
   },
   {
    "duration": 21,
    "start_time": "2023-10-11T16:55:34.749Z"
   },
   {
    "duration": 1835,
    "start_time": "2023-10-11T16:55:34.778Z"
   },
   {
    "duration": 9,
    "start_time": "2023-10-11T16:55:36.615Z"
   },
   {
    "duration": 19,
    "start_time": "2023-10-11T16:55:36.626Z"
   },
   {
    "duration": 43,
    "start_time": "2023-10-11T16:55:36.647Z"
   },
   {
    "duration": 245,
    "start_time": "2023-10-11T16:55:36.692Z"
   },
   {
    "duration": 31,
    "start_time": "2023-10-11T16:55:36.940Z"
   },
   {
    "duration": 18,
    "start_time": "2023-10-11T16:55:36.977Z"
   },
   {
    "duration": 21,
    "start_time": "2023-10-11T16:55:36.997Z"
   },
   {
    "duration": 20,
    "start_time": "2023-10-11T16:55:37.021Z"
   },
   {
    "duration": 31,
    "start_time": "2023-10-11T16:55:37.042Z"
   },
   {
    "duration": 10,
    "start_time": "2023-10-11T16:55:37.091Z"
   },
   {
    "duration": 15,
    "start_time": "2023-10-11T16:55:37.108Z"
   },
   {
    "duration": 60,
    "start_time": "2023-10-11T16:55:37.125Z"
   },
   {
    "duration": 217,
    "start_time": "2023-10-11T16:55:37.188Z"
   },
   {
    "duration": 326,
    "start_time": "2023-10-11T16:55:37.406Z"
   },
   {
    "duration": 502,
    "start_time": "2023-10-11T16:55:37.733Z"
   },
   {
    "duration": 7,
    "start_time": "2023-10-11T16:55:38.238Z"
   },
   {
    "duration": 26,
    "start_time": "2023-10-11T16:55:38.246Z"
   },
   {
    "duration": 19,
    "start_time": "2023-10-11T16:55:38.276Z"
   },
   {
    "duration": 228,
    "start_time": "2023-10-11T16:55:38.297Z"
   },
   {
    "duration": 370,
    "start_time": "2023-10-11T16:55:38.528Z"
   },
   {
    "duration": 297,
    "start_time": "2023-10-11T16:55:38.899Z"
   },
   {
    "duration": 14,
    "start_time": "2023-10-11T16:55:39.199Z"
   },
   {
    "duration": 9,
    "start_time": "2023-10-11T16:55:39.215Z"
   },
   {
    "duration": 59,
    "start_time": "2023-10-11T16:55:39.227Z"
   },
   {
    "duration": 15,
    "start_time": "2023-10-11T16:55:39.288Z"
   },
   {
    "duration": 17,
    "start_time": "2023-10-11T16:55:39.306Z"
   },
   {
    "duration": 17,
    "start_time": "2023-10-11T16:55:39.325Z"
   },
   {
    "duration": 46,
    "start_time": "2023-10-11T16:55:39.344Z"
   },
   {
    "duration": 31,
    "start_time": "2023-10-11T16:55:39.392Z"
   },
   {
    "duration": 1131,
    "start_time": "2023-10-11T16:55:39.425Z"
   },
   {
    "duration": 23,
    "start_time": "2023-10-11T16:55:40.558Z"
   },
   {
    "duration": 5,
    "start_time": "2023-10-11T16:55:40.589Z"
   },
   {
    "duration": 19,
    "start_time": "2023-10-11T16:55:40.596Z"
   },
   {
    "duration": 126,
    "start_time": "2023-10-11T16:55:40.617Z"
   },
   {
    "duration": 0,
    "start_time": "2023-10-11T16:55:40.745Z"
   },
   {
    "duration": 0,
    "start_time": "2023-10-11T16:55:40.747Z"
   },
   {
    "duration": 0,
    "start_time": "2023-10-11T16:55:40.760Z"
   },
   {
    "duration": 0,
    "start_time": "2023-10-11T16:55:40.774Z"
   },
   {
    "duration": 0,
    "start_time": "2023-10-11T16:55:40.776Z"
   },
   {
    "duration": 0,
    "start_time": "2023-10-11T16:55:40.777Z"
   },
   {
    "duration": 0,
    "start_time": "2023-10-11T16:55:40.778Z"
   },
   {
    "duration": 0,
    "start_time": "2023-10-11T16:55:40.780Z"
   },
   {
    "duration": 0,
    "start_time": "2023-10-11T16:55:40.782Z"
   },
   {
    "duration": 0,
    "start_time": "2023-10-11T16:55:40.784Z"
   },
   {
    "duration": 15,
    "start_time": "2023-10-11T16:56:39.989Z"
   },
   {
    "duration": 11,
    "start_time": "2023-10-11T16:57:21.293Z"
   },
   {
    "duration": 19,
    "start_time": "2023-10-11T16:58:11.143Z"
   },
   {
    "duration": 5,
    "start_time": "2023-10-11T16:59:51.827Z"
   },
   {
    "duration": 258,
    "start_time": "2023-10-11T17:00:13.558Z"
   },
   {
    "duration": 14,
    "start_time": "2023-10-11T17:00:16.990Z"
   },
   {
    "duration": 10,
    "start_time": "2023-10-11T17:00:24.890Z"
   },
   {
    "duration": 17,
    "start_time": "2023-10-11T17:02:37.383Z"
   },
   {
    "duration": 11,
    "start_time": "2023-10-11T17:03:18.864Z"
   },
   {
    "duration": 8,
    "start_time": "2023-10-11T17:06:11.597Z"
   },
   {
    "duration": 846,
    "start_time": "2023-10-11T17:06:22.158Z"
   },
   {
    "duration": 16,
    "start_time": "2023-10-11T17:07:44.380Z"
   },
   {
    "duration": 1513,
    "start_time": "2023-10-11T17:07:51.057Z"
   },
   {
    "duration": 32,
    "start_time": "2023-10-11T17:07:52.577Z"
   },
   {
    "duration": 14,
    "start_time": "2023-10-11T17:07:52.611Z"
   },
   {
    "duration": 13,
    "start_time": "2023-10-11T17:07:52.627Z"
   },
   {
    "duration": 51,
    "start_time": "2023-10-11T17:07:52.642Z"
   },
   {
    "duration": 13,
    "start_time": "2023-10-11T17:07:52.695Z"
   },
   {
    "duration": 29,
    "start_time": "2023-10-11T17:07:52.709Z"
   },
   {
    "duration": 20,
    "start_time": "2023-10-11T17:07:52.740Z"
   },
   {
    "duration": 14,
    "start_time": "2023-10-11T17:07:52.762Z"
   },
   {
    "duration": 22,
    "start_time": "2023-10-11T17:07:52.780Z"
   },
   {
    "duration": 12,
    "start_time": "2023-10-11T17:07:52.805Z"
   },
   {
    "duration": 9,
    "start_time": "2023-10-11T17:07:52.818Z"
   },
   {
    "duration": 41,
    "start_time": "2023-10-11T17:07:52.830Z"
   },
   {
    "duration": 17,
    "start_time": "2023-10-11T17:07:52.876Z"
   },
   {
    "duration": 12,
    "start_time": "2023-10-11T17:07:52.895Z"
   },
   {
    "duration": 8,
    "start_time": "2023-10-11T17:07:52.909Z"
   },
   {
    "duration": 19,
    "start_time": "2023-10-11T17:07:52.918Z"
   },
   {
    "duration": 35,
    "start_time": "2023-10-11T17:07:52.939Z"
   },
   {
    "duration": 8,
    "start_time": "2023-10-11T17:07:52.976Z"
   },
   {
    "duration": 12,
    "start_time": "2023-10-11T17:07:52.986Z"
   },
   {
    "duration": 19,
    "start_time": "2023-10-11T17:07:53.000Z"
   },
   {
    "duration": 29,
    "start_time": "2023-10-11T17:07:53.022Z"
   },
   {
    "duration": 211,
    "start_time": "2023-10-11T17:07:53.053Z"
   },
   {
    "duration": 15,
    "start_time": "2023-10-11T17:07:53.267Z"
   },
   {
    "duration": 142,
    "start_time": "2023-10-11T17:07:53.284Z"
   },
   {
    "duration": 10,
    "start_time": "2023-10-11T17:07:53.428Z"
   },
   {
    "duration": 222,
    "start_time": "2023-10-11T17:07:53.440Z"
   },
   {
    "duration": 11,
    "start_time": "2023-10-11T17:07:53.667Z"
   },
   {
    "duration": 22,
    "start_time": "2023-10-11T17:07:53.680Z"
   },
   {
    "duration": 10,
    "start_time": "2023-10-11T17:07:53.704Z"
   },
   {
    "duration": 1747,
    "start_time": "2023-10-11T17:07:53.716Z"
   },
   {
    "duration": 11,
    "start_time": "2023-10-11T17:07:55.470Z"
   },
   {
    "duration": 10,
    "start_time": "2023-10-11T17:07:55.483Z"
   },
   {
    "duration": 25,
    "start_time": "2023-10-11T17:07:55.494Z"
   },
   {
    "duration": 257,
    "start_time": "2023-10-11T17:07:55.521Z"
   },
   {
    "duration": 10,
    "start_time": "2023-10-11T17:07:55.781Z"
   },
   {
    "duration": 12,
    "start_time": "2023-10-11T17:07:55.793Z"
   },
   {
    "duration": 12,
    "start_time": "2023-10-11T17:07:55.809Z"
   },
   {
    "duration": 39,
    "start_time": "2023-10-11T17:07:55.823Z"
   },
   {
    "duration": 61,
    "start_time": "2023-10-11T17:07:55.865Z"
   },
   {
    "duration": 19,
    "start_time": "2023-10-11T17:07:55.928Z"
   },
   {
    "duration": 21,
    "start_time": "2023-10-11T17:07:55.949Z"
   },
   {
    "duration": 34,
    "start_time": "2023-10-11T17:07:55.972Z"
   },
   {
    "duration": 201,
    "start_time": "2023-10-11T17:07:56.009Z"
   },
   {
    "duration": 310,
    "start_time": "2023-10-11T17:07:56.212Z"
   },
   {
    "duration": 459,
    "start_time": "2023-10-11T17:07:56.525Z"
   },
   {
    "duration": 8,
    "start_time": "2023-10-11T17:07:56.987Z"
   },
   {
    "duration": 83,
    "start_time": "2023-10-11T17:07:56.997Z"
   },
   {
    "duration": 21,
    "start_time": "2023-10-11T17:07:57.082Z"
   },
   {
    "duration": 223,
    "start_time": "2023-10-11T17:07:57.105Z"
   },
   {
    "duration": 330,
    "start_time": "2023-10-11T17:07:57.331Z"
   },
   {
    "duration": 220,
    "start_time": "2023-10-11T17:07:57.663Z"
   },
   {
    "duration": 15,
    "start_time": "2023-10-11T17:07:57.886Z"
   },
   {
    "duration": 6,
    "start_time": "2023-10-11T17:07:57.903Z"
   },
   {
    "duration": 17,
    "start_time": "2023-10-11T17:07:57.911Z"
   },
   {
    "duration": 21,
    "start_time": "2023-10-11T17:07:57.958Z"
   },
   {
    "duration": 23,
    "start_time": "2023-10-11T17:07:57.983Z"
   },
   {
    "duration": 43,
    "start_time": "2023-10-11T17:07:58.009Z"
   },
   {
    "duration": 39,
    "start_time": "2023-10-11T17:07:58.054Z"
   },
   {
    "duration": 23,
    "start_time": "2023-10-11T17:07:58.095Z"
   },
   {
    "duration": 1185,
    "start_time": "2023-10-11T17:07:58.120Z"
   },
   {
    "duration": 16,
    "start_time": "2023-10-11T17:07:59.311Z"
   },
   {
    "duration": 6,
    "start_time": "2023-10-11T17:07:59.329Z"
   },
   {
    "duration": 36,
    "start_time": "2023-10-11T17:07:59.337Z"
   },
   {
    "duration": 18,
    "start_time": "2023-10-11T17:07:59.378Z"
   },
   {
    "duration": 26,
    "start_time": "2023-10-11T17:07:59.399Z"
   },
   {
    "duration": 253,
    "start_time": "2023-10-11T17:07:59.428Z"
   },
   {
    "duration": 12,
    "start_time": "2023-10-11T17:07:59.683Z"
   },
   {
    "duration": 26,
    "start_time": "2023-10-11T17:07:59.697Z"
   },
   {
    "duration": 12,
    "start_time": "2023-10-11T17:07:59.726Z"
   },
   {
    "duration": 1151,
    "start_time": "2023-10-11T17:07:59.740Z"
   },
   {
    "duration": 7,
    "start_time": "2023-10-11T17:08:00.893Z"
   },
   {
    "duration": 168,
    "start_time": "2023-10-11T17:08:00.902Z"
   },
   {
    "duration": 511,
    "start_time": "2023-10-11T17:08:01.078Z"
   },
   {
    "duration": 1480,
    "start_time": "2023-10-11T17:08:01.591Z"
   },
   {
    "duration": 10,
    "start_time": "2023-10-11T17:10:20.254Z"
   },
   {
    "duration": 9,
    "start_time": "2023-10-11T17:11:08.284Z"
   },
   {
    "duration": 16,
    "start_time": "2023-10-11T17:13:44.805Z"
   },
   {
    "duration": 13,
    "start_time": "2023-10-11T17:14:14.396Z"
   },
   {
    "duration": 13,
    "start_time": "2023-10-11T17:14:24.076Z"
   },
   {
    "duration": 192,
    "start_time": "2023-10-11T17:23:09.434Z"
   },
   {
    "duration": 167,
    "start_time": "2023-10-11T17:25:15.505Z"
   },
   {
    "duration": 161,
    "start_time": "2023-10-11T17:26:05.025Z"
   },
   {
    "duration": 1481,
    "start_time": "2023-10-11T17:26:27.632Z"
   },
   {
    "duration": 32,
    "start_time": "2023-10-11T17:26:29.115Z"
   },
   {
    "duration": 14,
    "start_time": "2023-10-11T17:26:29.149Z"
   },
   {
    "duration": 40,
    "start_time": "2023-10-11T17:26:29.165Z"
   },
   {
    "duration": 38,
    "start_time": "2023-10-11T17:26:29.207Z"
   },
   {
    "duration": 10,
    "start_time": "2023-10-11T17:26:29.247Z"
   },
   {
    "duration": 29,
    "start_time": "2023-10-11T17:26:29.258Z"
   },
   {
    "duration": 28,
    "start_time": "2023-10-11T17:26:29.289Z"
   },
   {
    "duration": 7,
    "start_time": "2023-10-11T17:26:29.319Z"
   },
   {
    "duration": 14,
    "start_time": "2023-10-11T17:26:29.329Z"
   },
   {
    "duration": 16,
    "start_time": "2023-10-11T17:26:29.345Z"
   },
   {
    "duration": 10,
    "start_time": "2023-10-11T17:26:29.363Z"
   },
   {
    "duration": 20,
    "start_time": "2023-10-11T17:26:29.374Z"
   },
   {
    "duration": 20,
    "start_time": "2023-10-11T17:26:29.396Z"
   },
   {
    "duration": 14,
    "start_time": "2023-10-11T17:26:29.418Z"
   },
   {
    "duration": 13,
    "start_time": "2023-10-11T17:26:29.434Z"
   },
   {
    "duration": 15,
    "start_time": "2023-10-11T17:26:29.449Z"
   },
   {
    "duration": 6,
    "start_time": "2023-10-11T17:26:29.466Z"
   },
   {
    "duration": 10,
    "start_time": "2023-10-11T17:26:29.474Z"
   },
   {
    "duration": 14,
    "start_time": "2023-10-11T17:26:29.487Z"
   },
   {
    "duration": 20,
    "start_time": "2023-10-11T17:26:29.503Z"
   },
   {
    "duration": 9,
    "start_time": "2023-10-11T17:26:29.525Z"
   },
   {
    "duration": 197,
    "start_time": "2023-10-11T17:26:29.536Z"
   },
   {
    "duration": 7,
    "start_time": "2023-10-11T17:26:29.734Z"
   },
   {
    "duration": 168,
    "start_time": "2023-10-11T17:26:29.742Z"
   },
   {
    "duration": 6,
    "start_time": "2023-10-11T17:26:29.912Z"
   },
   {
    "duration": 174,
    "start_time": "2023-10-11T17:26:29.920Z"
   },
   {
    "duration": 9,
    "start_time": "2023-10-11T17:26:30.099Z"
   },
   {
    "duration": 41,
    "start_time": "2023-10-11T17:26:30.110Z"
   },
   {
    "duration": 80,
    "start_time": "2023-10-11T17:26:30.153Z"
   },
   {
    "duration": 1554,
    "start_time": "2023-10-11T17:26:30.235Z"
   },
   {
    "duration": 11,
    "start_time": "2023-10-11T17:26:31.791Z"
   },
   {
    "duration": 29,
    "start_time": "2023-10-11T17:26:31.803Z"
   },
   {
    "duration": 25,
    "start_time": "2023-10-11T17:26:31.834Z"
   },
   {
    "duration": 253,
    "start_time": "2023-10-11T17:26:31.861Z"
   },
   {
    "duration": 9,
    "start_time": "2023-10-11T17:26:32.116Z"
   },
   {
    "duration": 60,
    "start_time": "2023-10-11T17:26:32.126Z"
   },
   {
    "duration": 66,
    "start_time": "2023-10-11T17:26:32.188Z"
   },
   {
    "duration": 53,
    "start_time": "2023-10-11T17:26:32.255Z"
   },
   {
    "duration": 55,
    "start_time": "2023-10-11T17:26:32.310Z"
   },
   {
    "duration": 28,
    "start_time": "2023-10-11T17:26:32.367Z"
   },
   {
    "duration": 37,
    "start_time": "2023-10-11T17:26:32.397Z"
   },
   {
    "duration": 40,
    "start_time": "2023-10-11T17:26:32.437Z"
   },
   {
    "duration": 190,
    "start_time": "2023-10-11T17:26:32.480Z"
   },
   {
    "duration": 348,
    "start_time": "2023-10-11T17:26:32.671Z"
   },
   {
    "duration": 410,
    "start_time": "2023-10-11T17:26:33.021Z"
   },
   {
    "duration": 8,
    "start_time": "2023-10-11T17:26:33.433Z"
   },
   {
    "duration": 30,
    "start_time": "2023-10-11T17:26:33.442Z"
   },
   {
    "duration": 22,
    "start_time": "2023-10-11T17:26:33.474Z"
   },
   {
    "duration": 182,
    "start_time": "2023-10-11T17:26:33.498Z"
   },
   {
    "duration": 385,
    "start_time": "2023-10-11T17:26:33.681Z"
   },
   {
    "duration": 263,
    "start_time": "2023-10-11T17:26:34.068Z"
   },
   {
    "duration": 11,
    "start_time": "2023-10-11T17:26:34.333Z"
   },
   {
    "duration": 10,
    "start_time": "2023-10-11T17:26:34.357Z"
   },
   {
    "duration": 35,
    "start_time": "2023-10-11T17:26:34.369Z"
   },
   {
    "duration": 53,
    "start_time": "2023-10-11T17:26:34.406Z"
   },
   {
    "duration": 28,
    "start_time": "2023-10-11T17:26:34.461Z"
   },
   {
    "duration": 25,
    "start_time": "2023-10-11T17:26:34.491Z"
   },
   {
    "duration": 12,
    "start_time": "2023-10-11T17:26:34.519Z"
   },
   {
    "duration": 24,
    "start_time": "2023-10-11T17:26:34.533Z"
   },
   {
    "duration": 884,
    "start_time": "2023-10-11T17:26:34.559Z"
   },
   {
    "duration": 16,
    "start_time": "2023-10-11T17:26:35.445Z"
   },
   {
    "duration": 22,
    "start_time": "2023-10-11T17:26:35.463Z"
   },
   {
    "duration": 17,
    "start_time": "2023-10-11T17:26:35.487Z"
   },
   {
    "duration": 23,
    "start_time": "2023-10-11T17:26:35.506Z"
   },
   {
    "duration": 7,
    "start_time": "2023-10-11T17:26:35.531Z"
   },
   {
    "duration": 200,
    "start_time": "2023-10-11T17:26:35.539Z"
   },
   {
    "duration": 15,
    "start_time": "2023-10-11T17:26:35.741Z"
   },
   {
    "duration": 18,
    "start_time": "2023-10-11T17:26:35.758Z"
   },
   {
    "duration": 15,
    "start_time": "2023-10-11T17:26:35.778Z"
   },
   {
    "duration": 868,
    "start_time": "2023-10-11T17:26:35.795Z"
   },
   {
    "duration": 6,
    "start_time": "2023-10-11T17:26:36.665Z"
   },
   {
    "duration": 29,
    "start_time": "2023-10-11T17:26:36.673Z"
   },
   {
    "duration": 187,
    "start_time": "2023-10-11T17:26:36.704Z"
   },
   {
    "duration": 1209,
    "start_time": "2023-10-11T17:26:36.892Z"
   },
   {
    "duration": 1345,
    "start_time": "2023-10-11T17:35:59.689Z"
   },
   {
    "duration": 32,
    "start_time": "2023-10-11T17:36:01.036Z"
   },
   {
    "duration": 42,
    "start_time": "2023-10-11T17:36:01.070Z"
   },
   {
    "duration": 64,
    "start_time": "2023-10-11T17:36:01.114Z"
   },
   {
    "duration": 62,
    "start_time": "2023-10-11T17:36:01.180Z"
   },
   {
    "duration": 41,
    "start_time": "2023-10-11T17:36:01.244Z"
   },
   {
    "duration": 74,
    "start_time": "2023-10-11T17:36:01.287Z"
   },
   {
    "duration": 93,
    "start_time": "2023-10-11T17:36:01.363Z"
   },
   {
    "duration": 48,
    "start_time": "2023-10-11T17:36:01.458Z"
   },
   {
    "duration": 138,
    "start_time": "2023-10-11T17:36:01.510Z"
   },
   {
    "duration": 157,
    "start_time": "2023-10-11T17:36:01.650Z"
   },
   {
    "duration": 141,
    "start_time": "2023-10-11T17:36:01.810Z"
   },
   {
    "duration": 63,
    "start_time": "2023-10-11T17:36:01.953Z"
   },
   {
    "duration": 120,
    "start_time": "2023-10-11T17:36:02.018Z"
   },
   {
    "duration": 64,
    "start_time": "2023-10-11T17:36:02.141Z"
   },
   {
    "duration": 57,
    "start_time": "2023-10-11T17:36:02.207Z"
   },
   {
    "duration": 115,
    "start_time": "2023-10-11T17:36:02.267Z"
   },
   {
    "duration": 57,
    "start_time": "2023-10-11T17:36:02.384Z"
   },
   {
    "duration": 152,
    "start_time": "2023-10-11T17:36:02.443Z"
   },
   {
    "duration": 193,
    "start_time": "2023-10-11T17:36:02.597Z"
   },
   {
    "duration": 154,
    "start_time": "2023-10-11T17:36:02.792Z"
   },
   {
    "duration": 179,
    "start_time": "2023-10-11T17:36:02.948Z"
   },
   {
    "duration": 277,
    "start_time": "2023-10-11T17:36:03.129Z"
   },
   {
    "duration": 6,
    "start_time": "2023-10-11T17:36:03.408Z"
   },
   {
    "duration": 263,
    "start_time": "2023-10-11T17:36:03.416Z"
   },
   {
    "duration": 7,
    "start_time": "2023-10-11T17:36:03.682Z"
   },
   {
    "duration": 178,
    "start_time": "2023-10-11T17:36:03.691Z"
   },
   {
    "duration": 10,
    "start_time": "2023-10-11T17:36:03.874Z"
   },
   {
    "duration": 47,
    "start_time": "2023-10-11T17:36:03.885Z"
   },
   {
    "duration": 18,
    "start_time": "2023-10-11T17:36:03.934Z"
   },
   {
    "duration": 1547,
    "start_time": "2023-10-11T17:36:03.953Z"
   },
   {
    "duration": 10,
    "start_time": "2023-10-11T17:36:05.502Z"
   },
   {
    "duration": 27,
    "start_time": "2023-10-11T17:36:05.514Z"
   },
   {
    "duration": 61,
    "start_time": "2023-10-11T17:36:05.543Z"
   },
   {
    "duration": 250,
    "start_time": "2023-10-11T17:36:05.606Z"
   },
   {
    "duration": 11,
    "start_time": "2023-10-11T17:36:05.858Z"
   },
   {
    "duration": 17,
    "start_time": "2023-10-11T17:36:05.871Z"
   },
   {
    "duration": 25,
    "start_time": "2023-10-11T17:36:05.890Z"
   },
   {
    "duration": 18,
    "start_time": "2023-10-11T17:36:05.917Z"
   },
   {
    "duration": 37,
    "start_time": "2023-10-11T17:36:05.937Z"
   },
   {
    "duration": 27,
    "start_time": "2023-10-11T17:36:05.976Z"
   },
   {
    "duration": 17,
    "start_time": "2023-10-11T17:36:06.005Z"
   },
   {
    "duration": 45,
    "start_time": "2023-10-11T17:36:06.023Z"
   },
   {
    "duration": 185,
    "start_time": "2023-10-11T17:36:06.069Z"
   },
   {
    "duration": 282,
    "start_time": "2023-10-11T17:36:06.256Z"
   },
   {
    "duration": 396,
    "start_time": "2023-10-11T17:36:06.540Z"
   },
   {
    "duration": 8,
    "start_time": "2023-10-11T17:36:06.938Z"
   },
   {
    "duration": 20,
    "start_time": "2023-10-11T17:36:06.956Z"
   },
   {
    "duration": 27,
    "start_time": "2023-10-11T17:36:06.978Z"
   },
   {
    "duration": 186,
    "start_time": "2023-10-11T17:36:07.007Z"
   },
   {
    "duration": 267,
    "start_time": "2023-10-11T17:36:07.195Z"
   },
   {
    "duration": 193,
    "start_time": "2023-10-11T17:36:07.464Z"
   },
   {
    "duration": 14,
    "start_time": "2023-10-11T17:36:07.658Z"
   },
   {
    "duration": 7,
    "start_time": "2023-10-11T17:36:07.673Z"
   },
   {
    "duration": 18,
    "start_time": "2023-10-11T17:36:07.682Z"
   },
   {
    "duration": 13,
    "start_time": "2023-10-11T17:36:07.701Z"
   },
   {
    "duration": 10,
    "start_time": "2023-10-11T17:36:07.716Z"
   },
   {
    "duration": 35,
    "start_time": "2023-10-11T17:36:07.728Z"
   },
   {
    "duration": 23,
    "start_time": "2023-10-11T17:36:07.765Z"
   },
   {
    "duration": 21,
    "start_time": "2023-10-11T17:36:07.790Z"
   },
   {
    "duration": 943,
    "start_time": "2023-10-11T17:36:07.813Z"
   },
   {
    "duration": 11,
    "start_time": "2023-10-11T17:36:08.758Z"
   },
   {
    "duration": 20,
    "start_time": "2023-10-11T17:36:08.771Z"
   },
   {
    "duration": 12,
    "start_time": "2023-10-11T17:36:08.793Z"
   },
   {
    "duration": 14,
    "start_time": "2023-10-11T17:36:08.808Z"
   },
   {
    "duration": 7,
    "start_time": "2023-10-11T17:36:08.824Z"
   },
   {
    "duration": 271,
    "start_time": "2023-10-11T17:36:08.833Z"
   },
   {
    "duration": 11,
    "start_time": "2023-10-11T17:36:09.106Z"
   },
   {
    "duration": 18,
    "start_time": "2023-10-11T17:36:09.119Z"
   },
   {
    "duration": 19,
    "start_time": "2023-10-11T17:36:09.139Z"
   },
   {
    "duration": 835,
    "start_time": "2023-10-11T17:36:09.160Z"
   },
   {
    "duration": 6,
    "start_time": "2023-10-11T17:36:09.997Z"
   },
   {
    "duration": 216,
    "start_time": "2023-10-11T17:36:10.005Z"
   },
   {
    "duration": 358,
    "start_time": "2023-10-11T17:36:10.222Z"
   },
   {
    "duration": 1221,
    "start_time": "2023-10-11T17:36:10.582Z"
   },
   {
    "duration": 1080,
    "start_time": "2023-10-11T17:38:47.263Z"
   },
   {
    "duration": 215,
    "start_time": "2023-10-11T17:40:03.800Z"
   },
   {
    "duration": 181,
    "start_time": "2023-10-11T17:41:05.461Z"
   },
   {
    "duration": 258,
    "start_time": "2023-10-11T17:41:17.737Z"
   },
   {
    "duration": 421,
    "start_time": "2023-10-11T17:41:28.790Z"
   },
   {
    "duration": 308,
    "start_time": "2023-10-11T17:41:37.966Z"
   },
   {
    "duration": 214,
    "start_time": "2023-10-11T17:41:47.582Z"
   },
   {
    "duration": 1427,
    "start_time": "2023-10-11T17:44:05.550Z"
   },
   {
    "duration": 33,
    "start_time": "2023-10-11T17:44:06.980Z"
   },
   {
    "duration": 17,
    "start_time": "2023-10-11T17:44:07.014Z"
   },
   {
    "duration": 23,
    "start_time": "2023-10-11T17:44:07.035Z"
   },
   {
    "duration": 55,
    "start_time": "2023-10-11T17:44:07.060Z"
   },
   {
    "duration": 11,
    "start_time": "2023-10-11T17:44:07.117Z"
   },
   {
    "duration": 33,
    "start_time": "2023-10-11T17:44:07.130Z"
   },
   {
    "duration": 45,
    "start_time": "2023-10-11T17:44:07.166Z"
   },
   {
    "duration": 9,
    "start_time": "2023-10-11T17:44:07.213Z"
   },
   {
    "duration": 25,
    "start_time": "2023-10-11T17:44:07.225Z"
   },
   {
    "duration": 20,
    "start_time": "2023-10-11T17:44:07.252Z"
   },
   {
    "duration": 14,
    "start_time": "2023-10-11T17:44:07.275Z"
   },
   {
    "duration": 10,
    "start_time": "2023-10-11T17:44:07.291Z"
   },
   {
    "duration": 20,
    "start_time": "2023-10-11T17:44:07.303Z"
   },
   {
    "duration": 21,
    "start_time": "2023-10-11T17:44:07.325Z"
   },
   {
    "duration": 14,
    "start_time": "2023-10-11T17:44:07.348Z"
   },
   {
    "duration": 60,
    "start_time": "2023-10-11T17:44:07.364Z"
   },
   {
    "duration": 25,
    "start_time": "2023-10-11T17:44:07.425Z"
   },
   {
    "duration": 58,
    "start_time": "2023-10-11T17:44:07.452Z"
   },
   {
    "duration": 31,
    "start_time": "2023-10-11T17:44:07.511Z"
   },
   {
    "duration": 38,
    "start_time": "2023-10-11T17:44:07.544Z"
   },
   {
    "duration": 12,
    "start_time": "2023-10-11T17:44:07.583Z"
   },
   {
    "duration": 203,
    "start_time": "2023-10-11T17:44:07.596Z"
   },
   {
    "duration": 6,
    "start_time": "2023-10-11T17:44:07.801Z"
   },
   {
    "duration": 124,
    "start_time": "2023-10-11T17:44:07.809Z"
   },
   {
    "duration": 8,
    "start_time": "2023-10-11T17:44:07.936Z"
   },
   {
    "duration": 194,
    "start_time": "2023-10-11T17:44:07.957Z"
   },
   {
    "duration": 9,
    "start_time": "2023-10-11T17:44:08.159Z"
   },
   {
    "duration": 10,
    "start_time": "2023-10-11T17:44:08.170Z"
   },
   {
    "duration": 9,
    "start_time": "2023-10-11T17:44:08.181Z"
   },
   {
    "duration": 1694,
    "start_time": "2023-10-11T17:44:08.192Z"
   },
   {
    "duration": 10,
    "start_time": "2023-10-11T17:44:09.888Z"
   },
   {
    "duration": 24,
    "start_time": "2023-10-11T17:44:09.900Z"
   },
   {
    "duration": 24,
    "start_time": "2023-10-11T17:44:09.926Z"
   },
   {
    "duration": 233,
    "start_time": "2023-10-11T17:44:09.952Z"
   },
   {
    "duration": 11,
    "start_time": "2023-10-11T17:44:10.187Z"
   },
   {
    "duration": 19,
    "start_time": "2023-10-11T17:44:10.200Z"
   },
   {
    "duration": 13,
    "start_time": "2023-10-11T17:44:10.221Z"
   },
   {
    "duration": 18,
    "start_time": "2023-10-11T17:44:10.256Z"
   },
   {
    "duration": 37,
    "start_time": "2023-10-11T17:44:10.277Z"
   },
   {
    "duration": 22,
    "start_time": "2023-10-11T17:44:10.316Z"
   },
   {
    "duration": 25,
    "start_time": "2023-10-11T17:44:10.341Z"
   },
   {
    "duration": 31,
    "start_time": "2023-10-11T17:44:10.368Z"
   },
   {
    "duration": 220,
    "start_time": "2023-10-11T17:44:10.401Z"
   },
   {
    "duration": 309,
    "start_time": "2023-10-11T17:44:10.623Z"
   },
   {
    "duration": 397,
    "start_time": "2023-10-11T17:44:10.935Z"
   },
   {
    "duration": 8,
    "start_time": "2023-10-11T17:44:11.334Z"
   },
   {
    "duration": 13,
    "start_time": "2023-10-11T17:44:11.356Z"
   },
   {
    "duration": 17,
    "start_time": "2023-10-11T17:44:11.371Z"
   },
   {
    "duration": 202,
    "start_time": "2023-10-11T17:44:11.391Z"
   },
   {
    "duration": 284,
    "start_time": "2023-10-11T17:44:11.595Z"
   },
   {
    "duration": 204,
    "start_time": "2023-10-11T17:44:11.881Z"
   },
   {
    "duration": 12,
    "start_time": "2023-10-11T17:44:12.087Z"
   },
   {
    "duration": 22,
    "start_time": "2023-10-11T17:44:12.101Z"
   },
   {
    "duration": 30,
    "start_time": "2023-10-11T17:44:12.125Z"
   },
   {
    "duration": 36,
    "start_time": "2023-10-11T17:44:12.157Z"
   },
   {
    "duration": 49,
    "start_time": "2023-10-11T17:44:12.195Z"
   },
   {
    "duration": 25,
    "start_time": "2023-10-11T17:44:12.246Z"
   },
   {
    "duration": 56,
    "start_time": "2023-10-11T17:44:12.273Z"
   },
   {
    "duration": 56,
    "start_time": "2023-10-11T17:44:12.332Z"
   },
   {
    "duration": 1015,
    "start_time": "2023-10-11T17:44:12.390Z"
   },
   {
    "duration": 12,
    "start_time": "2023-10-11T17:44:13.407Z"
   },
   {
    "duration": 45,
    "start_time": "2023-10-11T17:44:13.421Z"
   },
   {
    "duration": 12,
    "start_time": "2023-10-11T17:44:13.468Z"
   },
   {
    "duration": 12,
    "start_time": "2023-10-11T17:44:13.482Z"
   },
   {
    "duration": 17,
    "start_time": "2023-10-11T17:44:13.496Z"
   },
   {
    "duration": 222,
    "start_time": "2023-10-11T17:44:13.514Z"
   },
   {
    "duration": 19,
    "start_time": "2023-10-11T17:44:13.739Z"
   },
   {
    "duration": 17,
    "start_time": "2023-10-11T17:44:13.760Z"
   },
   {
    "duration": 28,
    "start_time": "2023-10-11T17:44:13.779Z"
   },
   {
    "duration": 906,
    "start_time": "2023-10-11T17:44:13.810Z"
   },
   {
    "duration": 9,
    "start_time": "2023-10-11T17:44:14.719Z"
   },
   {
    "duration": 31,
    "start_time": "2023-10-11T17:44:14.730Z"
   },
   {
    "duration": 277,
    "start_time": "2023-10-11T17:44:14.763Z"
   },
   {
    "duration": 1252,
    "start_time": "2023-10-11T17:44:15.042Z"
   },
   {
    "duration": 118,
    "start_time": "2023-10-11T17:49:27.644Z"
   },
   {
    "duration": 326,
    "start_time": "2023-10-11T17:51:05.197Z"
   },
   {
    "duration": 21,
    "start_time": "2023-10-11T17:59:38.316Z"
   },
   {
    "duration": 475,
    "start_time": "2023-10-11T18:00:46.043Z"
   },
   {
    "duration": 291,
    "start_time": "2023-10-11T18:02:36.851Z"
   },
   {
    "duration": 409,
    "start_time": "2023-10-11T18:03:02.531Z"
   },
   {
    "duration": 420,
    "start_time": "2023-10-11T18:03:27.140Z"
   },
   {
    "duration": 96,
    "start_time": "2023-10-11T18:04:58.932Z"
   },
   {
    "duration": 97,
    "start_time": "2023-10-11T18:05:06.283Z"
   },
   {
    "duration": 268,
    "start_time": "2023-10-11T18:05:41.924Z"
   },
   {
    "duration": 399,
    "start_time": "2023-10-11T18:05:56.182Z"
   },
   {
    "duration": 546,
    "start_time": "2023-10-11T18:06:55.182Z"
   },
   {
    "duration": 405,
    "start_time": "2023-10-11T18:09:27.280Z"
   },
   {
    "duration": 543,
    "start_time": "2023-10-11T18:09:41.189Z"
   },
   {
    "duration": 569,
    "start_time": "2023-10-11T18:10:08.718Z"
   },
   {
    "duration": 454,
    "start_time": "2023-10-11T18:11:10.854Z"
   },
   {
    "duration": 276,
    "start_time": "2023-10-11T18:11:20.933Z"
   },
   {
    "duration": 393,
    "start_time": "2023-10-11T18:11:25.778Z"
   },
   {
    "duration": 1381,
    "start_time": "2023-10-11T18:12:01.790Z"
   },
   {
    "duration": 31,
    "start_time": "2023-10-11T18:12:03.173Z"
   },
   {
    "duration": 60,
    "start_time": "2023-10-11T18:12:03.206Z"
   },
   {
    "duration": 18,
    "start_time": "2023-10-11T18:12:03.268Z"
   },
   {
    "duration": 66,
    "start_time": "2023-10-11T18:12:03.288Z"
   },
   {
    "duration": 11,
    "start_time": "2023-10-11T18:12:03.356Z"
   },
   {
    "duration": 25,
    "start_time": "2023-10-11T18:12:03.369Z"
   },
   {
    "duration": 18,
    "start_time": "2023-10-11T18:12:03.396Z"
   },
   {
    "duration": 8,
    "start_time": "2023-10-11T18:12:03.417Z"
   },
   {
    "duration": 42,
    "start_time": "2023-10-11T18:12:03.427Z"
   },
   {
    "duration": 30,
    "start_time": "2023-10-11T18:12:03.471Z"
   },
   {
    "duration": 36,
    "start_time": "2023-10-11T18:12:03.503Z"
   },
   {
    "duration": 40,
    "start_time": "2023-10-11T18:12:03.541Z"
   },
   {
    "duration": 14,
    "start_time": "2023-10-11T18:12:03.584Z"
   },
   {
    "duration": 43,
    "start_time": "2023-10-11T18:12:03.600Z"
   },
   {
    "duration": 13,
    "start_time": "2023-10-11T18:12:03.645Z"
   },
   {
    "duration": 20,
    "start_time": "2023-10-11T18:12:03.660Z"
   },
   {
    "duration": 28,
    "start_time": "2023-10-11T18:12:03.683Z"
   },
   {
    "duration": 7,
    "start_time": "2023-10-11T18:12:03.713Z"
   },
   {
    "duration": 7,
    "start_time": "2023-10-11T18:12:03.722Z"
   },
   {
    "duration": 20,
    "start_time": "2023-10-11T18:12:03.731Z"
   },
   {
    "duration": 26,
    "start_time": "2023-10-11T18:12:03.753Z"
   },
   {
    "duration": 204,
    "start_time": "2023-10-11T18:12:03.780Z"
   },
   {
    "duration": 8,
    "start_time": "2023-10-11T18:12:03.987Z"
   },
   {
    "duration": 134,
    "start_time": "2023-10-11T18:12:03.997Z"
   },
   {
    "duration": 6,
    "start_time": "2023-10-11T18:12:04.134Z"
   },
   {
    "duration": 182,
    "start_time": "2023-10-11T18:12:04.142Z"
   },
   {
    "duration": 10,
    "start_time": "2023-10-11T18:12:04.327Z"
   },
   {
    "duration": 38,
    "start_time": "2023-10-11T18:12:04.338Z"
   },
   {
    "duration": 24,
    "start_time": "2023-10-11T18:12:04.378Z"
   },
   {
    "duration": 1506,
    "start_time": "2023-10-11T18:12:04.404Z"
   },
   {
    "duration": 10,
    "start_time": "2023-10-11T18:12:05.911Z"
   },
   {
    "duration": 250,
    "start_time": "2023-10-11T18:12:05.922Z"
   },
   {
    "duration": 16,
    "start_time": "2023-10-11T18:12:06.173Z"
   },
   {
    "duration": 219,
    "start_time": "2023-10-11T18:12:06.191Z"
   },
   {
    "duration": 10,
    "start_time": "2023-10-11T18:12:06.411Z"
   },
   {
    "duration": 32,
    "start_time": "2023-10-11T18:12:06.423Z"
   },
   {
    "duration": 14,
    "start_time": "2023-10-11T18:12:06.458Z"
   },
   {
    "duration": 17,
    "start_time": "2023-10-11T18:12:06.474Z"
   },
   {
    "duration": 18,
    "start_time": "2023-10-11T18:12:06.494Z"
   },
   {
    "duration": 44,
    "start_time": "2023-10-11T18:12:06.518Z"
   },
   {
    "duration": 13,
    "start_time": "2023-10-11T18:12:06.564Z"
   },
   {
    "duration": 25,
    "start_time": "2023-10-11T18:12:06.579Z"
   },
   {
    "duration": 203,
    "start_time": "2023-10-11T18:12:06.606Z"
   },
   {
    "duration": 313,
    "start_time": "2023-10-11T18:12:06.811Z"
   },
   {
    "duration": 405,
    "start_time": "2023-10-11T18:12:07.127Z"
   },
   {
    "duration": 8,
    "start_time": "2023-10-11T18:12:07.534Z"
   },
   {
    "duration": 32,
    "start_time": "2023-10-11T18:12:07.544Z"
   },
   {
    "duration": 35,
    "start_time": "2023-10-11T18:12:07.577Z"
   },
   {
    "duration": 197,
    "start_time": "2023-10-11T18:12:07.614Z"
   },
   {
    "duration": 313,
    "start_time": "2023-10-11T18:12:07.814Z"
   },
   {
    "duration": 242,
    "start_time": "2023-10-11T18:12:08.129Z"
   },
   {
    "duration": 492,
    "start_time": "2023-10-11T18:12:08.373Z"
   },
   {
    "duration": 385,
    "start_time": "2023-10-11T18:12:08.868Z"
   },
   {
    "duration": 14,
    "start_time": "2023-10-11T18:12:09.257Z"
   },
   {
    "duration": 4,
    "start_time": "2023-10-11T18:12:09.274Z"
   },
   {
    "duration": 17,
    "start_time": "2023-10-11T18:12:09.280Z"
   },
   {
    "duration": 23,
    "start_time": "2023-10-11T18:12:09.299Z"
   },
   {
    "duration": 20,
    "start_time": "2023-10-11T18:12:09.324Z"
   },
   {
    "duration": 21,
    "start_time": "2023-10-11T18:12:09.346Z"
   },
   {
    "duration": 21,
    "start_time": "2023-10-11T18:12:09.370Z"
   },
   {
    "duration": 23,
    "start_time": "2023-10-11T18:12:09.393Z"
   },
   {
    "duration": 960,
    "start_time": "2023-10-11T18:12:09.418Z"
   },
   {
    "duration": 12,
    "start_time": "2023-10-11T18:12:10.380Z"
   },
   {
    "duration": 36,
    "start_time": "2023-10-11T18:12:10.394Z"
   },
   {
    "duration": 28,
    "start_time": "2023-10-11T18:12:10.432Z"
   },
   {
    "duration": 29,
    "start_time": "2023-10-11T18:12:10.462Z"
   },
   {
    "duration": 25,
    "start_time": "2023-10-11T18:12:10.493Z"
   },
   {
    "duration": 221,
    "start_time": "2023-10-11T18:12:10.520Z"
   },
   {
    "duration": 21,
    "start_time": "2023-10-11T18:12:10.743Z"
   },
   {
    "duration": 15,
    "start_time": "2023-10-11T18:12:10.766Z"
   },
   {
    "duration": 19,
    "start_time": "2023-10-11T18:12:10.783Z"
   },
   {
    "duration": 1064,
    "start_time": "2023-10-11T18:12:10.804Z"
   },
   {
    "duration": 6,
    "start_time": "2023-10-11T18:12:11.870Z"
   },
   {
    "duration": 11,
    "start_time": "2023-10-11T18:12:11.878Z"
   },
   {
    "duration": 226,
    "start_time": "2023-10-11T18:12:11.892Z"
   },
   {
    "duration": 1198,
    "start_time": "2023-10-11T18:12:12.119Z"
   },
   {
    "duration": 1284,
    "start_time": "2023-10-12T08:48:34.984Z"
   },
   {
    "duration": 89,
    "start_time": "2023-10-12T08:48:36.269Z"
   },
   {
    "duration": 11,
    "start_time": "2023-10-12T08:48:36.360Z"
   },
   {
    "duration": 10,
    "start_time": "2023-10-12T08:48:36.372Z"
   },
   {
    "duration": 68,
    "start_time": "2023-10-12T08:48:36.383Z"
   },
   {
    "duration": 8,
    "start_time": "2023-10-12T08:48:36.453Z"
   },
   {
    "duration": 12,
    "start_time": "2023-10-12T08:48:36.462Z"
   },
   {
    "duration": 57,
    "start_time": "2023-10-12T08:48:36.475Z"
   },
   {
    "duration": 6,
    "start_time": "2023-10-12T08:48:36.533Z"
   },
   {
    "duration": 9,
    "start_time": "2023-10-12T08:48:36.542Z"
   },
   {
    "duration": 7,
    "start_time": "2023-10-12T08:48:36.552Z"
   },
   {
    "duration": 5,
    "start_time": "2023-10-12T08:48:36.561Z"
   },
   {
    "duration": 9,
    "start_time": "2023-10-12T08:48:36.567Z"
   },
   {
    "duration": 10,
    "start_time": "2023-10-12T08:48:36.578Z"
   },
   {
    "duration": 9,
    "start_time": "2023-10-12T08:48:36.589Z"
   },
   {
    "duration": 5,
    "start_time": "2023-10-12T08:48:36.600Z"
   },
   {
    "duration": 6,
    "start_time": "2023-10-12T08:48:36.639Z"
   },
   {
    "duration": 4,
    "start_time": "2023-10-12T08:48:36.646Z"
   },
   {
    "duration": 10,
    "start_time": "2023-10-12T08:48:36.651Z"
   },
   {
    "duration": 4,
    "start_time": "2023-10-12T08:48:36.662Z"
   },
   {
    "duration": 4,
    "start_time": "2023-10-12T08:48:36.668Z"
   },
   {
    "duration": 4,
    "start_time": "2023-10-12T08:48:36.674Z"
   },
   {
    "duration": 169,
    "start_time": "2023-10-12T08:48:36.680Z"
   },
   {
    "duration": 5,
    "start_time": "2023-10-12T08:48:36.851Z"
   },
   {
    "duration": 108,
    "start_time": "2023-10-12T08:48:36.858Z"
   },
   {
    "duration": 6,
    "start_time": "2023-10-12T08:48:36.967Z"
   },
   {
    "duration": 136,
    "start_time": "2023-10-12T08:48:36.974Z"
   },
   {
    "duration": 7,
    "start_time": "2023-10-12T08:48:37.114Z"
   },
   {
    "duration": 17,
    "start_time": "2023-10-12T08:48:37.123Z"
   },
   {
    "duration": 8,
    "start_time": "2023-10-12T08:48:37.141Z"
   },
   {
    "duration": 1151,
    "start_time": "2023-10-12T08:48:37.150Z"
   },
   {
    "duration": 8,
    "start_time": "2023-10-12T08:48:38.303Z"
   },
   {
    "duration": 19,
    "start_time": "2023-10-12T08:48:38.312Z"
   },
   {
    "duration": 11,
    "start_time": "2023-10-12T08:48:38.333Z"
   },
   {
    "duration": 170,
    "start_time": "2023-10-12T08:48:38.346Z"
   },
   {
    "duration": 8,
    "start_time": "2023-10-12T08:48:38.518Z"
   },
   {
    "duration": 21,
    "start_time": "2023-10-12T08:48:38.527Z"
   },
   {
    "duration": 10,
    "start_time": "2023-10-12T08:48:38.549Z"
   },
   {
    "duration": 11,
    "start_time": "2023-10-12T08:48:38.561Z"
   },
   {
    "duration": 10,
    "start_time": "2023-10-12T08:48:38.573Z"
   },
   {
    "duration": 12,
    "start_time": "2023-10-12T08:48:38.585Z"
   },
   {
    "duration": 10,
    "start_time": "2023-10-12T08:48:38.598Z"
   },
   {
    "duration": 37,
    "start_time": "2023-10-12T08:48:38.610Z"
   },
   {
    "duration": 148,
    "start_time": "2023-10-12T08:48:38.649Z"
   },
   {
    "duration": 221,
    "start_time": "2023-10-12T08:48:38.799Z"
   },
   {
    "duration": 251,
    "start_time": "2023-10-12T08:48:39.022Z"
   },
   {
    "duration": 7,
    "start_time": "2023-10-12T08:48:39.274Z"
   },
   {
    "duration": 12,
    "start_time": "2023-10-12T08:48:39.282Z"
   },
   {
    "duration": 12,
    "start_time": "2023-10-12T08:48:39.295Z"
   },
   {
    "duration": 171,
    "start_time": "2023-10-12T08:48:39.308Z"
   },
   {
    "duration": 206,
    "start_time": "2023-10-12T08:48:39.481Z"
   },
   {
    "duration": 159,
    "start_time": "2023-10-12T08:48:39.689Z"
   },
   {
    "duration": 314,
    "start_time": "2023-10-12T08:48:39.849Z"
   },
   {
    "duration": 197,
    "start_time": "2023-10-12T08:48:40.165Z"
   },
   {
    "duration": 9,
    "start_time": "2023-10-12T08:48:40.364Z"
   },
   {
    "duration": 3,
    "start_time": "2023-10-12T08:48:40.374Z"
   },
   {
    "duration": 9,
    "start_time": "2023-10-12T08:48:40.378Z"
   },
   {
    "duration": 9,
    "start_time": "2023-10-12T08:48:40.388Z"
   },
   {
    "duration": 8,
    "start_time": "2023-10-12T08:48:40.398Z"
   },
   {
    "duration": 36,
    "start_time": "2023-10-12T08:48:40.408Z"
   },
   {
    "duration": 25,
    "start_time": "2023-10-12T08:48:40.445Z"
   },
   {
    "duration": 25,
    "start_time": "2023-10-12T08:48:40.471Z"
   },
   {
    "duration": 913,
    "start_time": "2023-10-12T08:48:40.498Z"
   },
   {
    "duration": 8,
    "start_time": "2023-10-12T08:48:41.412Z"
   },
   {
    "duration": 15,
    "start_time": "2023-10-12T08:48:41.421Z"
   },
   {
    "duration": 8,
    "start_time": "2023-10-12T08:48:41.437Z"
   },
   {
    "duration": 10,
    "start_time": "2023-10-12T08:48:41.446Z"
   },
   {
    "duration": 4,
    "start_time": "2023-10-12T08:48:41.457Z"
   },
   {
    "duration": 209,
    "start_time": "2023-10-12T08:48:41.463Z"
   },
   {
    "duration": 9,
    "start_time": "2023-10-12T08:48:41.674Z"
   },
   {
    "duration": 7,
    "start_time": "2023-10-12T08:48:41.685Z"
   },
   {
    "duration": 6,
    "start_time": "2023-10-12T08:48:41.693Z"
   },
   {
    "duration": 794,
    "start_time": "2023-10-12T08:48:41.700Z"
   },
   {
    "duration": 6,
    "start_time": "2023-10-12T08:48:42.495Z"
   },
   {
    "duration": 42,
    "start_time": "2023-10-12T08:48:42.502Z"
   },
   {
    "duration": 165,
    "start_time": "2023-10-12T08:48:42.545Z"
   },
   {
    "duration": 921,
    "start_time": "2023-10-12T08:48:42.711Z"
   },
   {
    "duration": 6,
    "start_time": "2023-10-12T08:55:20.043Z"
   },
   {
    "duration": 149,
    "start_time": "2023-10-12T08:58:21.018Z"
   },
   {
    "duration": 1211,
    "start_time": "2023-10-12T08:59:25.056Z"
   },
   {
    "duration": 30,
    "start_time": "2023-10-12T08:59:26.269Z"
   },
   {
    "duration": 54,
    "start_time": "2023-10-12T08:59:26.300Z"
   },
   {
    "duration": 13,
    "start_time": "2023-10-12T08:59:26.357Z"
   },
   {
    "duration": 30,
    "start_time": "2023-10-12T08:59:26.371Z"
   },
   {
    "duration": 7,
    "start_time": "2023-10-12T08:59:26.402Z"
   },
   {
    "duration": 23,
    "start_time": "2023-10-12T08:59:26.410Z"
   },
   {
    "duration": 16,
    "start_time": "2023-10-12T08:59:26.435Z"
   },
   {
    "duration": 7,
    "start_time": "2023-10-12T08:59:26.453Z"
   },
   {
    "duration": 22,
    "start_time": "2023-10-12T08:59:26.462Z"
   },
   {
    "duration": 13,
    "start_time": "2023-10-12T08:59:26.485Z"
   },
   {
    "duration": 23,
    "start_time": "2023-10-12T08:59:26.499Z"
   },
   {
    "duration": 8,
    "start_time": "2023-10-12T08:59:26.523Z"
   },
   {
    "duration": 5,
    "start_time": "2023-10-12T08:59:26.532Z"
   },
   {
    "duration": 17,
    "start_time": "2023-10-12T08:59:26.538Z"
   },
   {
    "duration": 7,
    "start_time": "2023-10-12T08:59:26.557Z"
   },
   {
    "duration": 14,
    "start_time": "2023-10-12T08:59:26.565Z"
   },
   {
    "duration": 4,
    "start_time": "2023-10-12T08:59:26.581Z"
   },
   {
    "duration": 8,
    "start_time": "2023-10-12T08:59:26.586Z"
   },
   {
    "duration": 9,
    "start_time": "2023-10-12T08:59:26.596Z"
   },
   {
    "duration": 5,
    "start_time": "2023-10-12T08:59:26.606Z"
   },
   {
    "duration": 6,
    "start_time": "2023-10-12T08:59:26.612Z"
   },
   {
    "duration": 180,
    "start_time": "2023-10-12T08:59:26.619Z"
   },
   {
    "duration": 5,
    "start_time": "2023-10-12T08:59:26.800Z"
   },
   {
    "duration": 119,
    "start_time": "2023-10-12T08:59:26.806Z"
   },
   {
    "duration": 5,
    "start_time": "2023-10-12T08:59:26.926Z"
   },
   {
    "duration": 156,
    "start_time": "2023-10-12T08:59:26.940Z"
   },
   {
    "duration": 6,
    "start_time": "2023-10-12T08:59:27.100Z"
   },
   {
    "duration": 9,
    "start_time": "2023-10-12T08:59:27.107Z"
   },
   {
    "duration": 11,
    "start_time": "2023-10-12T08:59:27.117Z"
   },
   {
    "duration": 1242,
    "start_time": "2023-10-12T08:59:27.129Z"
   },
   {
    "duration": 7,
    "start_time": "2023-10-12T08:59:28.373Z"
   },
   {
    "duration": 7,
    "start_time": "2023-10-12T08:59:28.381Z"
   },
   {
    "duration": 8,
    "start_time": "2023-10-12T08:59:28.389Z"
   },
   {
    "duration": 198,
    "start_time": "2023-10-12T08:59:28.399Z"
   },
   {
    "duration": 7,
    "start_time": "2023-10-12T08:59:28.599Z"
   },
   {
    "duration": 9,
    "start_time": "2023-10-12T08:59:28.607Z"
   },
   {
    "duration": 29,
    "start_time": "2023-10-12T08:59:28.617Z"
   },
   {
    "duration": 11,
    "start_time": "2023-10-12T08:59:28.647Z"
   },
   {
    "duration": 11,
    "start_time": "2023-10-12T08:59:28.660Z"
   },
   {
    "duration": 10,
    "start_time": "2023-10-12T08:59:28.672Z"
   },
   {
    "duration": 9,
    "start_time": "2023-10-12T08:59:28.683Z"
   },
   {
    "duration": 24,
    "start_time": "2023-10-12T08:59:28.694Z"
   },
   {
    "duration": 180,
    "start_time": "2023-10-12T08:59:28.719Z"
   },
   {
    "duration": 240,
    "start_time": "2023-10-12T08:59:28.901Z"
   },
   {
    "duration": 259,
    "start_time": "2023-10-12T08:59:29.144Z"
   },
   {
    "duration": 6,
    "start_time": "2023-10-12T08:59:29.405Z"
   },
   {
    "duration": 17,
    "start_time": "2023-10-12T08:59:29.412Z"
   },
   {
    "duration": 32,
    "start_time": "2023-10-12T08:59:29.430Z"
   },
   {
    "duration": 139,
    "start_time": "2023-10-12T08:59:29.464Z"
   },
   {
    "duration": 234,
    "start_time": "2023-10-12T08:59:29.605Z"
   },
   {
    "duration": 172,
    "start_time": "2023-10-12T08:59:29.841Z"
   },
   {
    "duration": 334,
    "start_time": "2023-10-12T08:59:30.014Z"
   },
   {
    "duration": 216,
    "start_time": "2023-10-12T08:59:30.349Z"
   },
   {
    "duration": 88,
    "start_time": "2023-10-12T08:59:30.566Z"
   },
   {
    "duration": 61,
    "start_time": "2023-10-12T08:59:30.657Z"
   },
   {
    "duration": 72,
    "start_time": "2023-10-12T08:59:30.719Z"
   },
   {
    "duration": 51,
    "start_time": "2023-10-12T08:59:30.792Z"
   },
   {
    "duration": 50,
    "start_time": "2023-10-12T08:59:30.845Z"
   },
   {
    "duration": 94,
    "start_time": "2023-10-12T08:59:30.897Z"
   },
   {
    "duration": 65,
    "start_time": "2023-10-12T08:59:30.993Z"
   },
   {
    "duration": 54,
    "start_time": "2023-10-12T08:59:31.060Z"
   },
   {
    "duration": 1087,
    "start_time": "2023-10-12T08:59:31.116Z"
   },
   {
    "duration": 10,
    "start_time": "2023-10-12T08:59:32.205Z"
   },
   {
    "duration": 35,
    "start_time": "2023-10-12T08:59:32.216Z"
   },
   {
    "duration": 26,
    "start_time": "2023-10-12T08:59:32.253Z"
   },
   {
    "duration": 30,
    "start_time": "2023-10-12T08:59:32.280Z"
   },
   {
    "duration": 19,
    "start_time": "2023-10-12T08:59:32.311Z"
   },
   {
    "duration": 247,
    "start_time": "2023-10-12T08:59:32.332Z"
   },
   {
    "duration": 10,
    "start_time": "2023-10-12T08:59:32.580Z"
   },
   {
    "duration": 22,
    "start_time": "2023-10-12T08:59:32.592Z"
   },
   {
    "duration": 28,
    "start_time": "2023-10-12T08:59:32.615Z"
   },
   {
    "duration": 935,
    "start_time": "2023-10-12T08:59:32.644Z"
   },
   {
    "duration": 6,
    "start_time": "2023-10-12T08:59:33.581Z"
   },
   {
    "duration": 27,
    "start_time": "2023-10-12T08:59:33.590Z"
   },
   {
    "duration": 198,
    "start_time": "2023-10-12T08:59:33.618Z"
   },
   {
    "duration": 149,
    "start_time": "2023-10-12T08:59:33.818Z"
   },
   {
    "duration": 1037,
    "start_time": "2023-10-12T08:59:33.969Z"
   },
   {
    "duration": 52,
    "start_time": "2023-10-12T09:05:49.215Z"
   },
   {
    "duration": 1581,
    "start_time": "2023-10-12T09:06:07.564Z"
   },
   {
    "duration": 74,
    "start_time": "2023-10-12T09:06:09.147Z"
   },
   {
    "duration": 13,
    "start_time": "2023-10-12T09:06:09.223Z"
   },
   {
    "duration": 30,
    "start_time": "2023-10-12T09:06:09.238Z"
   },
   {
    "duration": 102,
    "start_time": "2023-10-12T09:06:09.270Z"
   },
   {
    "duration": 8,
    "start_time": "2023-10-12T09:06:09.374Z"
   },
   {
    "duration": 40,
    "start_time": "2023-10-12T09:06:09.384Z"
   },
   {
    "duration": 70,
    "start_time": "2023-10-12T09:06:09.426Z"
   },
   {
    "duration": 8,
    "start_time": "2023-10-12T09:06:09.498Z"
   },
   {
    "duration": 61,
    "start_time": "2023-10-12T09:06:09.509Z"
   },
   {
    "duration": 18,
    "start_time": "2023-10-12T09:06:09.572Z"
   },
   {
    "duration": 40,
    "start_time": "2023-10-12T09:06:09.592Z"
   },
   {
    "duration": 19,
    "start_time": "2023-10-12T09:06:09.634Z"
   },
   {
    "duration": 13,
    "start_time": "2023-10-12T09:06:09.655Z"
   },
   {
    "duration": 28,
    "start_time": "2023-10-12T09:06:09.669Z"
   },
   {
    "duration": 6,
    "start_time": "2023-10-12T09:06:09.699Z"
   },
   {
    "duration": 25,
    "start_time": "2023-10-12T09:06:09.707Z"
   },
   {
    "duration": 10,
    "start_time": "2023-10-12T09:06:09.734Z"
   },
   {
    "duration": 7,
    "start_time": "2023-10-12T09:06:09.746Z"
   },
   {
    "duration": 28,
    "start_time": "2023-10-12T09:06:09.754Z"
   },
   {
    "duration": 19,
    "start_time": "2023-10-12T09:06:09.784Z"
   },
   {
    "duration": 43,
    "start_time": "2023-10-12T09:06:09.805Z"
   },
   {
    "duration": 204,
    "start_time": "2023-10-12T09:06:09.851Z"
   },
   {
    "duration": 8,
    "start_time": "2023-10-12T09:06:10.058Z"
   },
   {
    "duration": 161,
    "start_time": "2023-10-12T09:06:10.068Z"
   },
   {
    "duration": 17,
    "start_time": "2023-10-12T09:06:10.230Z"
   },
   {
    "duration": 199,
    "start_time": "2023-10-12T09:06:10.249Z"
   },
   {
    "duration": 9,
    "start_time": "2023-10-12T09:06:10.453Z"
   },
   {
    "duration": 24,
    "start_time": "2023-10-12T09:06:10.464Z"
   },
   {
    "duration": 33,
    "start_time": "2023-10-12T09:06:10.490Z"
   },
   {
    "duration": 1503,
    "start_time": "2023-10-12T09:06:10.525Z"
   },
   {
    "duration": 17,
    "start_time": "2023-10-12T09:06:12.030Z"
   },
   {
    "duration": 12,
    "start_time": "2023-10-12T09:06:12.049Z"
   },
   {
    "duration": 16,
    "start_time": "2023-10-12T09:06:12.063Z"
   },
   {
    "duration": 231,
    "start_time": "2023-10-12T09:06:12.081Z"
   },
   {
    "duration": 9,
    "start_time": "2023-10-12T09:06:12.314Z"
   },
   {
    "duration": 21,
    "start_time": "2023-10-12T09:06:12.325Z"
   },
   {
    "duration": 12,
    "start_time": "2023-10-12T09:06:12.347Z"
   },
   {
    "duration": 16,
    "start_time": "2023-10-12T09:06:12.361Z"
   },
   {
    "duration": 22,
    "start_time": "2023-10-12T09:06:12.379Z"
   },
   {
    "duration": 28,
    "start_time": "2023-10-12T09:06:12.402Z"
   },
   {
    "duration": 11,
    "start_time": "2023-10-12T09:06:12.432Z"
   },
   {
    "duration": 20,
    "start_time": "2023-10-12T09:06:12.446Z"
   },
   {
    "duration": 178,
    "start_time": "2023-10-12T09:06:12.467Z"
   },
   {
    "duration": 290,
    "start_time": "2023-10-12T09:06:12.647Z"
   },
   {
    "duration": 332,
    "start_time": "2023-10-12T09:06:12.939Z"
   },
   {
    "duration": 7,
    "start_time": "2023-10-12T09:06:13.272Z"
   },
   {
    "duration": 32,
    "start_time": "2023-10-12T09:06:13.280Z"
   },
   {
    "duration": 13,
    "start_time": "2023-10-12T09:06:13.314Z"
   },
   {
    "duration": 180,
    "start_time": "2023-10-12T09:06:13.329Z"
   },
   {
    "duration": 275,
    "start_time": "2023-10-12T09:06:13.511Z"
   },
   {
    "duration": 193,
    "start_time": "2023-10-12T09:06:13.787Z"
   },
   {
    "duration": 409,
    "start_time": "2023-10-12T09:06:13.982Z"
   },
   {
    "duration": 255,
    "start_time": "2023-10-12T09:06:14.393Z"
   },
   {
    "duration": 12,
    "start_time": "2023-10-12T09:06:14.649Z"
   },
   {
    "duration": 24,
    "start_time": "2023-10-12T09:06:14.663Z"
   },
   {
    "duration": 51,
    "start_time": "2023-10-12T09:06:14.689Z"
   },
   {
    "duration": 26,
    "start_time": "2023-10-12T09:06:14.742Z"
   },
   {
    "duration": 28,
    "start_time": "2023-10-12T09:06:14.769Z"
   },
   {
    "duration": 34,
    "start_time": "2023-10-12T09:06:14.799Z"
   },
   {
    "duration": 29,
    "start_time": "2023-10-12T09:06:14.835Z"
   },
   {
    "duration": 51,
    "start_time": "2023-10-12T09:06:14.865Z"
   },
   {
    "duration": 1096,
    "start_time": "2023-10-12T09:06:14.918Z"
   },
   {
    "duration": 10,
    "start_time": "2023-10-12T09:06:16.016Z"
   },
   {
    "duration": 34,
    "start_time": "2023-10-12T09:06:16.028Z"
   },
   {
    "duration": 30,
    "start_time": "2023-10-12T09:06:16.064Z"
   },
   {
    "duration": 36,
    "start_time": "2023-10-12T09:06:16.096Z"
   },
   {
    "duration": 10,
    "start_time": "2023-10-12T09:06:16.134Z"
   },
   {
    "duration": 225,
    "start_time": "2023-10-12T09:06:16.145Z"
   },
   {
    "duration": 11,
    "start_time": "2023-10-12T09:06:16.372Z"
   },
   {
    "duration": 75,
    "start_time": "2023-10-12T09:06:16.384Z"
   },
   {
    "duration": 22,
    "start_time": "2023-10-12T09:06:16.460Z"
   },
   {
    "duration": 1022,
    "start_time": "2023-10-12T09:06:16.483Z"
   },
   {
    "duration": 6,
    "start_time": "2023-10-12T09:06:17.507Z"
   },
   {
    "duration": 19,
    "start_time": "2023-10-12T09:06:17.514Z"
   },
   {
    "duration": 218,
    "start_time": "2023-10-12T09:06:17.535Z"
   },
   {
    "duration": 160,
    "start_time": "2023-10-12T09:06:17.755Z"
   },
   {
    "duration": 1190,
    "start_time": "2023-10-12T09:06:17.917Z"
   },
   {
    "duration": 10,
    "start_time": "2023-10-12T09:08:42.681Z"
   },
   {
    "duration": 8,
    "start_time": "2023-10-12T09:08:56.049Z"
   },
   {
    "duration": 1388,
    "start_time": "2023-10-12T09:09:27.849Z"
   },
   {
    "duration": 28,
    "start_time": "2023-10-12T09:09:29.239Z"
   },
   {
    "duration": 23,
    "start_time": "2023-10-12T09:09:29.269Z"
   },
   {
    "duration": 45,
    "start_time": "2023-10-12T09:09:29.294Z"
   },
   {
    "duration": 59,
    "start_time": "2023-10-12T09:09:29.340Z"
   },
   {
    "duration": 11,
    "start_time": "2023-10-12T09:09:29.401Z"
   },
   {
    "duration": 57,
    "start_time": "2023-10-12T09:09:29.414Z"
   },
   {
    "duration": 54,
    "start_time": "2023-10-12T09:09:29.473Z"
   },
   {
    "duration": 30,
    "start_time": "2023-10-12T09:09:29.529Z"
   },
   {
    "duration": 39,
    "start_time": "2023-10-12T09:09:29.562Z"
   },
   {
    "duration": 42,
    "start_time": "2023-10-12T09:09:29.602Z"
   },
   {
    "duration": 26,
    "start_time": "2023-10-12T09:09:29.646Z"
   },
   {
    "duration": 32,
    "start_time": "2023-10-12T09:09:29.674Z"
   },
   {
    "duration": 44,
    "start_time": "2023-10-12T09:09:29.707Z"
   },
   {
    "duration": 35,
    "start_time": "2023-10-12T09:09:29.753Z"
   },
   {
    "duration": 57,
    "start_time": "2023-10-12T09:09:29.790Z"
   },
   {
    "duration": 49,
    "start_time": "2023-10-12T09:09:29.849Z"
   },
   {
    "duration": 48,
    "start_time": "2023-10-12T09:09:29.899Z"
   },
   {
    "duration": 87,
    "start_time": "2023-10-12T09:09:29.949Z"
   },
   {
    "duration": 109,
    "start_time": "2023-10-12T09:09:30.038Z"
   },
   {
    "duration": 144,
    "start_time": "2023-10-12T09:09:30.148Z"
   },
   {
    "duration": 469,
    "start_time": "2023-10-12T09:09:30.294Z"
   },
   {
    "duration": 132,
    "start_time": "2023-10-12T09:09:30.765Z"
   },
   {
    "duration": 786,
    "start_time": "2023-10-12T09:09:30.899Z"
   },
   {
    "duration": 7,
    "start_time": "2023-10-12T09:09:31.687Z"
   },
   {
    "duration": 188,
    "start_time": "2023-10-12T09:09:31.696Z"
   },
   {
    "duration": 6,
    "start_time": "2023-10-12T09:09:31.887Z"
   },
   {
    "duration": 230,
    "start_time": "2023-10-12T09:09:31.897Z"
   },
   {
    "duration": 10,
    "start_time": "2023-10-12T09:09:32.130Z"
   },
   {
    "duration": 51,
    "start_time": "2023-10-12T09:09:32.146Z"
   },
   {
    "duration": 22,
    "start_time": "2023-10-12T09:09:32.200Z"
   },
   {
    "duration": 1621,
    "start_time": "2023-10-12T09:09:32.224Z"
   },
   {
    "duration": 10,
    "start_time": "2023-10-12T09:09:33.847Z"
   },
   {
    "duration": 36,
    "start_time": "2023-10-12T09:09:33.858Z"
   },
   {
    "duration": 26,
    "start_time": "2023-10-12T09:09:33.896Z"
   },
   {
    "duration": 242,
    "start_time": "2023-10-12T09:09:33.924Z"
   },
   {
    "duration": 10,
    "start_time": "2023-10-12T09:09:34.168Z"
   },
   {
    "duration": 18,
    "start_time": "2023-10-12T09:09:34.180Z"
   },
   {
    "duration": 53,
    "start_time": "2023-10-12T09:09:34.200Z"
   },
   {
    "duration": 38,
    "start_time": "2023-10-12T09:09:34.255Z"
   },
   {
    "duration": 43,
    "start_time": "2023-10-12T09:09:34.294Z"
   },
   {
    "duration": 41,
    "start_time": "2023-10-12T09:09:34.338Z"
   },
   {
    "duration": 41,
    "start_time": "2023-10-12T09:09:34.381Z"
   },
   {
    "duration": 37,
    "start_time": "2023-10-12T09:09:34.424Z"
   },
   {
    "duration": 188,
    "start_time": "2023-10-12T09:09:34.463Z"
   },
   {
    "duration": 297,
    "start_time": "2023-10-12T09:09:34.653Z"
   },
   {
    "duration": 402,
    "start_time": "2023-10-12T09:09:34.951Z"
   },
   {
    "duration": 8,
    "start_time": "2023-10-12T09:09:35.356Z"
   },
   {
    "duration": 98,
    "start_time": "2023-10-12T09:09:35.366Z"
   },
   {
    "duration": 53,
    "start_time": "2023-10-12T09:09:35.465Z"
   },
   {
    "duration": 240,
    "start_time": "2023-10-12T09:09:35.519Z"
   },
   {
    "duration": 288,
    "start_time": "2023-10-12T09:09:35.761Z"
   },
   {
    "duration": 222,
    "start_time": "2023-10-12T09:09:36.051Z"
   },
   {
    "duration": 423,
    "start_time": "2023-10-12T09:09:36.275Z"
   },
   {
    "duration": 281,
    "start_time": "2023-10-12T09:09:36.700Z"
   },
   {
    "duration": 13,
    "start_time": "2023-10-12T09:09:36.983Z"
   },
   {
    "duration": 85,
    "start_time": "2023-10-12T09:09:36.998Z"
   },
   {
    "duration": 140,
    "start_time": "2023-10-12T09:09:37.085Z"
   },
   {
    "duration": 79,
    "start_time": "2023-10-12T09:09:37.227Z"
   },
   {
    "duration": 21,
    "start_time": "2023-10-12T09:09:37.308Z"
   },
   {
    "duration": 26,
    "start_time": "2023-10-12T09:09:37.331Z"
   },
   {
    "duration": 27,
    "start_time": "2023-10-12T09:09:37.358Z"
   },
   {
    "duration": 35,
    "start_time": "2023-10-12T09:09:37.386Z"
   },
   {
    "duration": 1027,
    "start_time": "2023-10-12T09:09:37.422Z"
   },
   {
    "duration": 9,
    "start_time": "2023-10-12T09:09:38.450Z"
   },
   {
    "duration": 29,
    "start_time": "2023-10-12T09:09:38.461Z"
   },
   {
    "duration": 18,
    "start_time": "2023-10-12T09:09:38.491Z"
   },
   {
    "duration": 18,
    "start_time": "2023-10-12T09:09:38.511Z"
   },
   {
    "duration": 19,
    "start_time": "2023-10-12T09:09:38.531Z"
   },
   {
    "duration": 220,
    "start_time": "2023-10-12T09:09:38.552Z"
   },
   {
    "duration": 11,
    "start_time": "2023-10-12T09:09:38.774Z"
   },
   {
    "duration": 35,
    "start_time": "2023-10-12T09:09:38.787Z"
   },
   {
    "duration": 14,
    "start_time": "2023-10-12T09:09:38.823Z"
   },
   {
    "duration": 1035,
    "start_time": "2023-10-12T09:09:38.839Z"
   },
   {
    "duration": 7,
    "start_time": "2023-10-12T09:09:39.877Z"
   },
   {
    "duration": 38,
    "start_time": "2023-10-12T09:09:39.886Z"
   },
   {
    "duration": 239,
    "start_time": "2023-10-12T09:09:39.926Z"
   },
   {
    "duration": 167,
    "start_time": "2023-10-12T09:09:40.167Z"
   },
   {
    "duration": 1183,
    "start_time": "2023-10-12T09:09:40.337Z"
   },
   {
    "duration": 9,
    "start_time": "2023-10-12T09:12:17.804Z"
   },
   {
    "duration": 10,
    "start_time": "2023-10-12T09:16:36.876Z"
   },
   {
    "duration": 131,
    "start_time": "2023-10-12T09:20:41.475Z"
   },
   {
    "duration": 11,
    "start_time": "2023-10-12T09:22:33.891Z"
   },
   {
    "duration": 117,
    "start_time": "2023-10-12T09:23:02.690Z"
   },
   {
    "duration": 102,
    "start_time": "2023-10-12T09:23:16.714Z"
   },
   {
    "duration": 1423,
    "start_time": "2023-10-12T09:23:33.420Z"
   },
   {
    "duration": 29,
    "start_time": "2023-10-12T09:23:34.846Z"
   },
   {
    "duration": 13,
    "start_time": "2023-10-12T09:23:34.877Z"
   },
   {
    "duration": 30,
    "start_time": "2023-10-12T09:23:34.892Z"
   },
   {
    "duration": 44,
    "start_time": "2023-10-12T09:23:34.924Z"
   },
   {
    "duration": 11,
    "start_time": "2023-10-12T09:23:34.970Z"
   },
   {
    "duration": 36,
    "start_time": "2023-10-12T09:23:34.982Z"
   },
   {
    "duration": 32,
    "start_time": "2023-10-12T09:23:35.020Z"
   },
   {
    "duration": 54,
    "start_time": "2023-10-12T09:23:35.054Z"
   },
   {
    "duration": 47,
    "start_time": "2023-10-12T09:23:35.111Z"
   },
   {
    "duration": 150,
    "start_time": "2023-10-12T09:23:35.160Z"
   },
   {
    "duration": 39,
    "start_time": "2023-10-12T09:23:35.312Z"
   },
   {
    "duration": 41,
    "start_time": "2023-10-12T09:23:35.353Z"
   },
   {
    "duration": 89,
    "start_time": "2023-10-12T09:23:35.396Z"
   },
   {
    "duration": 61,
    "start_time": "2023-10-12T09:23:35.486Z"
   },
   {
    "duration": 70,
    "start_time": "2023-10-12T09:23:35.548Z"
   },
   {
    "duration": 61,
    "start_time": "2023-10-12T09:23:35.620Z"
   },
   {
    "duration": 76,
    "start_time": "2023-10-12T09:23:35.683Z"
   },
   {
    "duration": 45,
    "start_time": "2023-10-12T09:23:35.761Z"
   },
   {
    "duration": 48,
    "start_time": "2023-10-12T09:23:35.808Z"
   },
   {
    "duration": 51,
    "start_time": "2023-10-12T09:23:35.858Z"
   },
   {
    "duration": 63,
    "start_time": "2023-10-12T09:23:35.911Z"
   },
   {
    "duration": 67,
    "start_time": "2023-10-12T09:23:35.976Z"
   },
   {
    "duration": 215,
    "start_time": "2023-10-12T09:23:36.044Z"
   },
   {
    "duration": 6,
    "start_time": "2023-10-12T09:23:36.261Z"
   },
   {
    "duration": 136,
    "start_time": "2023-10-12T09:23:36.269Z"
   },
   {
    "duration": 8,
    "start_time": "2023-10-12T09:23:36.407Z"
   },
   {
    "duration": 185,
    "start_time": "2023-10-12T09:23:36.419Z"
   },
   {
    "duration": 10,
    "start_time": "2023-10-12T09:23:36.606Z"
   },
   {
    "duration": 89,
    "start_time": "2023-10-12T09:23:36.617Z"
   },
   {
    "duration": 44,
    "start_time": "2023-10-12T09:23:36.708Z"
   },
   {
    "duration": 1599,
    "start_time": "2023-10-12T09:23:36.753Z"
   },
   {
    "duration": 11,
    "start_time": "2023-10-12T09:23:38.354Z"
   },
   {
    "duration": 32,
    "start_time": "2023-10-12T09:23:38.366Z"
   },
   {
    "duration": 28,
    "start_time": "2023-10-12T09:23:38.400Z"
   },
   {
    "duration": 25,
    "start_time": "2023-10-12T09:23:38.430Z"
   },
   {
    "duration": 236,
    "start_time": "2023-10-12T09:23:38.457Z"
   },
   {
    "duration": 10,
    "start_time": "2023-10-12T09:23:38.695Z"
   },
   {
    "duration": 160,
    "start_time": "2023-10-12T09:23:38.706Z"
   },
   {
    "duration": 11,
    "start_time": "2023-10-12T09:23:38.868Z"
   },
   {
    "duration": 127,
    "start_time": "2023-10-12T09:23:38.881Z"
   },
   {
    "duration": 11,
    "start_time": "2023-10-12T09:23:39.010Z"
   },
   {
    "duration": 26,
    "start_time": "2023-10-12T09:23:39.024Z"
   },
   {
    "duration": 13,
    "start_time": "2023-10-12T09:23:39.052Z"
   },
   {
    "duration": 19,
    "start_time": "2023-10-12T09:23:39.068Z"
   },
   {
    "duration": 18,
    "start_time": "2023-10-12T09:23:39.089Z"
   },
   {
    "duration": 18,
    "start_time": "2023-10-12T09:23:39.109Z"
   },
   {
    "duration": 25,
    "start_time": "2023-10-12T09:23:39.129Z"
   },
   {
    "duration": 21,
    "start_time": "2023-10-12T09:23:39.156Z"
   },
   {
    "duration": 186,
    "start_time": "2023-10-12T09:23:39.179Z"
   },
   {
    "duration": 427,
    "start_time": "2023-10-12T09:23:39.367Z"
   },
   {
    "duration": 205,
    "start_time": "2023-10-12T09:23:39.795Z"
   },
   {
    "duration": 8,
    "start_time": "2023-10-12T09:23:40.001Z"
   },
   {
    "duration": 48,
    "start_time": "2023-10-12T09:23:40.010Z"
   },
   {
    "duration": 88,
    "start_time": "2023-10-12T09:23:40.060Z"
   },
   {
    "duration": 237,
    "start_time": "2023-10-12T09:23:40.150Z"
   },
   {
    "duration": 308,
    "start_time": "2023-10-12T09:23:40.389Z"
   },
   {
    "duration": 215,
    "start_time": "2023-10-12T09:23:40.698Z"
   },
   {
    "duration": 421,
    "start_time": "2023-10-12T09:23:40.915Z"
   },
   {
    "duration": 360,
    "start_time": "2023-10-12T09:23:41.337Z"
   },
   {
    "duration": 11,
    "start_time": "2023-10-12T09:23:41.699Z"
   },
   {
    "duration": 24,
    "start_time": "2023-10-12T09:23:41.712Z"
   },
   {
    "duration": 35,
    "start_time": "2023-10-12T09:23:41.737Z"
   },
   {
    "duration": 21,
    "start_time": "2023-10-12T09:23:41.774Z"
   },
   {
    "duration": 30,
    "start_time": "2023-10-12T09:23:41.796Z"
   },
   {
    "duration": 21,
    "start_time": "2023-10-12T09:23:41.828Z"
   },
   {
    "duration": 14,
    "start_time": "2023-10-12T09:23:41.851Z"
   },
   {
    "duration": 30,
    "start_time": "2023-10-12T09:23:41.867Z"
   },
   {
    "duration": 1059,
    "start_time": "2023-10-12T09:23:41.898Z"
   },
   {
    "duration": 11,
    "start_time": "2023-10-12T09:23:42.959Z"
   },
   {
    "duration": 19,
    "start_time": "2023-10-12T09:23:42.972Z"
   },
   {
    "duration": 23,
    "start_time": "2023-10-12T09:23:42.993Z"
   },
   {
    "duration": 12,
    "start_time": "2023-10-12T09:23:43.018Z"
   },
   {
    "duration": 15,
    "start_time": "2023-10-12T09:23:43.032Z"
   },
   {
    "duration": 216,
    "start_time": "2023-10-12T09:23:43.049Z"
   },
   {
    "duration": 12,
    "start_time": "2023-10-12T09:23:43.267Z"
   },
   {
    "duration": 65,
    "start_time": "2023-10-12T09:23:43.280Z"
   },
   {
    "duration": 149,
    "start_time": "2023-10-12T09:23:43.347Z"
   },
   {
    "duration": 957,
    "start_time": "2023-10-12T09:23:43.498Z"
   },
   {
    "duration": 7,
    "start_time": "2023-10-12T09:23:44.457Z"
   },
   {
    "duration": 35,
    "start_time": "2023-10-12T09:23:44.465Z"
   },
   {
    "duration": 204,
    "start_time": "2023-10-12T09:23:44.505Z"
   },
   {
    "duration": 171,
    "start_time": "2023-10-12T09:23:44.711Z"
   },
   {
    "duration": 1252,
    "start_time": "2023-10-12T09:23:44.884Z"
   },
   {
    "duration": 15,
    "start_time": "2023-10-12T09:24:44.601Z"
   },
   {
    "duration": 12,
    "start_time": "2023-10-12T09:26:29.530Z"
   },
   {
    "duration": 1377,
    "start_time": "2023-10-12T09:26:41.166Z"
   },
   {
    "duration": 32,
    "start_time": "2023-10-12T09:26:42.546Z"
   },
   {
    "duration": 12,
    "start_time": "2023-10-12T09:26:42.581Z"
   },
   {
    "duration": 33,
    "start_time": "2023-10-12T09:26:42.596Z"
   },
   {
    "duration": 59,
    "start_time": "2023-10-12T09:26:42.630Z"
   },
   {
    "duration": 11,
    "start_time": "2023-10-12T09:26:42.690Z"
   },
   {
    "duration": 36,
    "start_time": "2023-10-12T09:26:42.703Z"
   },
   {
    "duration": 31,
    "start_time": "2023-10-12T09:26:42.740Z"
   },
   {
    "duration": 23,
    "start_time": "2023-10-12T09:26:42.773Z"
   },
   {
    "duration": 30,
    "start_time": "2023-10-12T09:26:42.799Z"
   },
   {
    "duration": 28,
    "start_time": "2023-10-12T09:26:42.831Z"
   },
   {
    "duration": 27,
    "start_time": "2023-10-12T09:26:42.861Z"
   },
   {
    "duration": 19,
    "start_time": "2023-10-12T09:26:42.890Z"
   },
   {
    "duration": 29,
    "start_time": "2023-10-12T09:26:42.911Z"
   },
   {
    "duration": 23,
    "start_time": "2023-10-12T09:26:42.942Z"
   },
   {
    "duration": 18,
    "start_time": "2023-10-12T09:26:42.967Z"
   },
   {
    "duration": 32,
    "start_time": "2023-10-12T09:26:42.987Z"
   },
   {
    "duration": 34,
    "start_time": "2023-10-12T09:26:43.022Z"
   },
   {
    "duration": 22,
    "start_time": "2023-10-12T09:26:43.057Z"
   },
   {
    "duration": 20,
    "start_time": "2023-10-12T09:26:43.081Z"
   },
   {
    "duration": 30,
    "start_time": "2023-10-12T09:26:43.103Z"
   },
   {
    "duration": 43,
    "start_time": "2023-10-12T09:26:43.135Z"
   },
   {
    "duration": 30,
    "start_time": "2023-10-12T09:26:43.179Z"
   },
   {
    "duration": 192,
    "start_time": "2023-10-12T09:26:43.210Z"
   },
   {
    "duration": 6,
    "start_time": "2023-10-12T09:26:43.404Z"
   },
   {
    "duration": 141,
    "start_time": "2023-10-12T09:26:43.411Z"
   },
   {
    "duration": 6,
    "start_time": "2023-10-12T09:26:43.553Z"
   },
   {
    "duration": 180,
    "start_time": "2023-10-12T09:26:43.563Z"
   },
   {
    "duration": 9,
    "start_time": "2023-10-12T09:26:43.746Z"
   },
   {
    "duration": 22,
    "start_time": "2023-10-12T09:26:43.757Z"
   },
   {
    "duration": 22,
    "start_time": "2023-10-12T09:26:43.781Z"
   },
   {
    "duration": 1559,
    "start_time": "2023-10-12T09:26:43.805Z"
   },
   {
    "duration": 9,
    "start_time": "2023-10-12T09:26:45.366Z"
   },
   {
    "duration": 8,
    "start_time": "2023-10-12T09:26:45.377Z"
   },
   {
    "duration": 7,
    "start_time": "2023-10-12T09:26:45.387Z"
   },
   {
    "duration": 19,
    "start_time": "2023-10-12T09:26:45.396Z"
   },
   {
    "duration": 292,
    "start_time": "2023-10-12T09:26:45.417Z"
   },
   {
    "duration": 9,
    "start_time": "2023-10-12T09:26:45.711Z"
   },
   {
    "duration": 150,
    "start_time": "2023-10-12T09:26:45.722Z"
   },
   {
    "duration": 11,
    "start_time": "2023-10-12T09:26:45.874Z"
   },
   {
    "duration": 167,
    "start_time": "2023-10-12T09:26:45.887Z"
   },
   {
    "duration": 11,
    "start_time": "2023-10-12T09:26:46.056Z"
   },
   {
    "duration": 29,
    "start_time": "2023-10-12T09:26:46.069Z"
   },
   {
    "duration": 24,
    "start_time": "2023-10-12T09:26:46.100Z"
   },
   {
    "duration": 18,
    "start_time": "2023-10-12T09:26:46.126Z"
   },
   {
    "duration": 22,
    "start_time": "2023-10-12T09:26:46.146Z"
   },
   {
    "duration": 34,
    "start_time": "2023-10-12T09:26:46.169Z"
   },
   {
    "duration": 25,
    "start_time": "2023-10-12T09:26:46.206Z"
   },
   {
    "duration": 13,
    "start_time": "2023-10-12T09:26:46.233Z"
   },
   {
    "duration": 24,
    "start_time": "2023-10-12T09:26:46.247Z"
   },
   {
    "duration": 22,
    "start_time": "2023-10-12T09:26:46.273Z"
   },
   {
    "duration": 178,
    "start_time": "2023-10-12T09:26:46.297Z"
   },
   {
    "duration": 438,
    "start_time": "2023-10-12T09:26:46.477Z"
   },
   {
    "duration": 203,
    "start_time": "2023-10-12T09:26:46.917Z"
   },
   {
    "duration": 7,
    "start_time": "2023-10-12T09:26:47.122Z"
   },
   {
    "duration": 45,
    "start_time": "2023-10-12T09:26:47.131Z"
   },
   {
    "duration": 18,
    "start_time": "2023-10-12T09:26:47.178Z"
   },
   {
    "duration": 180,
    "start_time": "2023-10-12T09:26:47.197Z"
   },
   {
    "duration": 282,
    "start_time": "2023-10-12T09:26:47.379Z"
   },
   {
    "duration": 220,
    "start_time": "2023-10-12T09:26:47.663Z"
   },
   {
    "duration": 422,
    "start_time": "2023-10-12T09:26:47.885Z"
   },
   {
    "duration": 345,
    "start_time": "2023-10-12T09:26:48.309Z"
   },
   {
    "duration": 11,
    "start_time": "2023-10-12T09:26:48.656Z"
   },
   {
    "duration": 13,
    "start_time": "2023-10-12T09:26:48.668Z"
   },
   {
    "duration": 17,
    "start_time": "2023-10-12T09:26:48.683Z"
   },
   {
    "duration": 23,
    "start_time": "2023-10-12T09:26:48.702Z"
   },
   {
    "duration": 13,
    "start_time": "2023-10-12T09:26:48.726Z"
   },
   {
    "duration": 35,
    "start_time": "2023-10-12T09:26:48.746Z"
   },
   {
    "duration": 30,
    "start_time": "2023-10-12T09:26:48.783Z"
   },
   {
    "duration": 36,
    "start_time": "2023-10-12T09:26:48.815Z"
   },
   {
    "duration": 1015,
    "start_time": "2023-10-12T09:26:48.853Z"
   },
   {
    "duration": 10,
    "start_time": "2023-10-12T09:26:49.870Z"
   },
   {
    "duration": 49,
    "start_time": "2023-10-12T09:26:49.881Z"
   },
   {
    "duration": 31,
    "start_time": "2023-10-12T09:26:49.932Z"
   },
   {
    "duration": 33,
    "start_time": "2023-10-12T09:26:49.965Z"
   },
   {
    "duration": 33,
    "start_time": "2023-10-12T09:26:50.000Z"
   },
   {
    "duration": 245,
    "start_time": "2023-10-12T09:26:50.035Z"
   },
   {
    "duration": 11,
    "start_time": "2023-10-12T09:26:50.282Z"
   },
   {
    "duration": 290,
    "start_time": "2023-10-12T09:26:50.295Z"
   },
   {
    "duration": 31,
    "start_time": "2023-10-12T09:26:50.586Z"
   },
   {
    "duration": 902,
    "start_time": "2023-10-12T09:26:50.619Z"
   },
   {
    "duration": 6,
    "start_time": "2023-10-12T09:26:51.526Z"
   },
   {
    "duration": 19,
    "start_time": "2023-10-12T09:26:51.534Z"
   },
   {
    "duration": 213,
    "start_time": "2023-10-12T09:26:51.555Z"
   },
   {
    "duration": 149,
    "start_time": "2023-10-12T09:26:51.769Z"
   },
   {
    "duration": 1133,
    "start_time": "2023-10-12T09:26:51.920Z"
   },
   {
    "duration": 11,
    "start_time": "2023-10-12T09:28:00.701Z"
   },
   {
    "duration": 1382,
    "start_time": "2023-10-12T09:34:56.565Z"
   },
   {
    "duration": 29,
    "start_time": "2023-10-12T09:34:57.949Z"
   },
   {
    "duration": 25,
    "start_time": "2023-10-12T09:34:57.980Z"
   },
   {
    "duration": 16,
    "start_time": "2023-10-12T09:34:58.007Z"
   },
   {
    "duration": 112,
    "start_time": "2023-10-12T09:34:58.025Z"
   },
   {
    "duration": 169,
    "start_time": "2023-10-12T09:34:58.139Z"
   },
   {
    "duration": 128,
    "start_time": "2023-10-12T09:34:58.309Z"
   },
   {
    "duration": 64,
    "start_time": "2023-10-12T09:34:58.439Z"
   },
   {
    "duration": 21,
    "start_time": "2023-10-12T09:34:58.505Z"
   },
   {
    "duration": 52,
    "start_time": "2023-10-12T09:34:58.529Z"
   },
   {
    "duration": 36,
    "start_time": "2023-10-12T09:34:58.582Z"
   },
   {
    "duration": 37,
    "start_time": "2023-10-12T09:34:58.620Z"
   },
   {
    "duration": 38,
    "start_time": "2023-10-12T09:34:58.659Z"
   },
   {
    "duration": 66,
    "start_time": "2023-10-12T09:34:58.699Z"
   },
   {
    "duration": 44,
    "start_time": "2023-10-12T09:34:58.767Z"
   },
   {
    "duration": 7,
    "start_time": "2023-10-12T09:34:58.814Z"
   },
   {
    "duration": 23,
    "start_time": "2023-10-12T09:34:58.823Z"
   },
   {
    "duration": 38,
    "start_time": "2023-10-12T09:34:58.848Z"
   },
   {
    "duration": 18,
    "start_time": "2023-10-12T09:34:58.888Z"
   },
   {
    "duration": 45,
    "start_time": "2023-10-12T09:34:58.908Z"
   },
   {
    "duration": 27,
    "start_time": "2023-10-12T09:34:58.954Z"
   },
   {
    "duration": 40,
    "start_time": "2023-10-12T09:34:58.983Z"
   },
   {
    "duration": 46,
    "start_time": "2023-10-12T09:34:59.025Z"
   },
   {
    "duration": 194,
    "start_time": "2023-10-12T09:34:59.073Z"
   },
   {
    "duration": 8,
    "start_time": "2023-10-12T09:34:59.268Z"
   },
   {
    "duration": 123,
    "start_time": "2023-10-12T09:34:59.277Z"
   },
   {
    "duration": 7,
    "start_time": "2023-10-12T09:34:59.402Z"
   },
   {
    "duration": 224,
    "start_time": "2023-10-12T09:34:59.415Z"
   },
   {
    "duration": 11,
    "start_time": "2023-10-12T09:34:59.641Z"
   },
   {
    "duration": 36,
    "start_time": "2023-10-12T09:34:59.654Z"
   },
   {
    "duration": 26,
    "start_time": "2023-10-12T09:34:59.691Z"
   },
   {
    "duration": 1678,
    "start_time": "2023-10-12T09:34:59.719Z"
   },
   {
    "duration": 10,
    "start_time": "2023-10-12T09:35:01.399Z"
   },
   {
    "duration": 208,
    "start_time": "2023-10-12T09:35:01.411Z"
   },
   {
    "duration": 47,
    "start_time": "2023-10-12T09:35:01.621Z"
   },
   {
    "duration": 37,
    "start_time": "2023-10-12T09:35:01.670Z"
   },
   {
    "duration": 252,
    "start_time": "2023-10-12T09:35:01.709Z"
   },
   {
    "duration": 11,
    "start_time": "2023-10-12T09:35:01.963Z"
   },
   {
    "duration": 179,
    "start_time": "2023-10-12T09:35:01.976Z"
   },
   {
    "duration": 12,
    "start_time": "2023-10-12T09:35:02.159Z"
   },
   {
    "duration": 318,
    "start_time": "2023-10-12T09:35:02.173Z"
   },
   {
    "duration": 50,
    "start_time": "2023-10-12T09:35:02.492Z"
   },
   {
    "duration": 56,
    "start_time": "2023-10-12T09:35:02.544Z"
   },
   {
    "duration": 64,
    "start_time": "2023-10-12T09:35:02.602Z"
   },
   {
    "duration": 40,
    "start_time": "2023-10-12T09:35:02.668Z"
   },
   {
    "duration": 42,
    "start_time": "2023-10-12T09:35:02.710Z"
   },
   {
    "duration": 32,
    "start_time": "2023-10-12T09:35:02.754Z"
   },
   {
    "duration": 83,
    "start_time": "2023-10-12T09:35:02.788Z"
   },
   {
    "duration": 41,
    "start_time": "2023-10-12T09:35:02.873Z"
   },
   {
    "duration": 49,
    "start_time": "2023-10-12T09:35:02.916Z"
   },
   {
    "duration": 38,
    "start_time": "2023-10-12T09:35:02.967Z"
   },
   {
    "duration": 18,
    "start_time": "2023-10-12T09:35:03.006Z"
   },
   {
    "duration": 0,
    "start_time": "2023-10-12T09:36:48.219Z"
   },
   {
    "duration": 0,
    "start_time": "2023-10-12T09:36:48.220Z"
   },
   {
    "duration": 0,
    "start_time": "2023-10-12T09:36:48.222Z"
   },
   {
    "duration": 0,
    "start_time": "2023-10-12T09:36:48.223Z"
   },
   {
    "duration": 0,
    "start_time": "2023-10-12T09:36:48.226Z"
   },
   {
    "duration": 0,
    "start_time": "2023-10-12T09:36:48.227Z"
   },
   {
    "duration": 0,
    "start_time": "2023-10-12T09:36:48.248Z"
   },
   {
    "duration": 0,
    "start_time": "2023-10-12T09:36:48.250Z"
   },
   {
    "duration": 0,
    "start_time": "2023-10-12T09:36:48.251Z"
   },
   {
    "duration": 0,
    "start_time": "2023-10-12T09:36:48.253Z"
   },
   {
    "duration": 0,
    "start_time": "2023-10-12T09:36:48.254Z"
   },
   {
    "duration": 0,
    "start_time": "2023-10-12T09:36:48.256Z"
   },
   {
    "duration": 0,
    "start_time": "2023-10-12T09:36:48.258Z"
   },
   {
    "duration": 0,
    "start_time": "2023-10-12T09:36:48.260Z"
   },
   {
    "duration": 1,
    "start_time": "2023-10-12T09:36:48.261Z"
   },
   {
    "duration": 0,
    "start_time": "2023-10-12T09:36:48.265Z"
   },
   {
    "duration": 0,
    "start_time": "2023-10-12T09:36:48.266Z"
   },
   {
    "duration": 0,
    "start_time": "2023-10-12T09:36:48.268Z"
   },
   {
    "duration": 0,
    "start_time": "2023-10-12T09:36:48.269Z"
   },
   {
    "duration": 0,
    "start_time": "2023-10-12T09:36:48.271Z"
   },
   {
    "duration": 0,
    "start_time": "2023-10-12T09:36:48.272Z"
   },
   {
    "duration": 0,
    "start_time": "2023-10-12T09:36:48.274Z"
   },
   {
    "duration": 0,
    "start_time": "2023-10-12T09:36:48.275Z"
   },
   {
    "duration": 0,
    "start_time": "2023-10-12T09:36:48.276Z"
   },
   {
    "duration": 0,
    "start_time": "2023-10-12T09:36:48.277Z"
   },
   {
    "duration": 0,
    "start_time": "2023-10-12T09:36:48.278Z"
   },
   {
    "duration": 0,
    "start_time": "2023-10-12T09:36:48.279Z"
   },
   {
    "duration": 0,
    "start_time": "2023-10-12T09:36:48.280Z"
   },
   {
    "duration": 0,
    "start_time": "2023-10-12T09:36:48.281Z"
   },
   {
    "duration": 0,
    "start_time": "2023-10-12T09:36:48.283Z"
   },
   {
    "duration": 0,
    "start_time": "2023-10-12T09:36:48.284Z"
   },
   {
    "duration": 0,
    "start_time": "2023-10-12T09:36:48.285Z"
   },
   {
    "duration": 0,
    "start_time": "2023-10-12T09:36:48.347Z"
   },
   {
    "duration": 0,
    "start_time": "2023-10-12T09:36:48.349Z"
   },
   {
    "duration": 0,
    "start_time": "2023-10-12T09:36:48.351Z"
   },
   {
    "duration": 0,
    "start_time": "2023-10-12T09:37:31.587Z"
   },
   {
    "duration": 17,
    "start_time": "2023-10-12T09:37:33.216Z"
   },
   {
    "duration": 11,
    "start_time": "2023-10-12T09:37:51.803Z"
   },
   {
    "duration": 185,
    "start_time": "2023-10-12T09:38:02.099Z"
   },
   {
    "duration": 1437,
    "start_time": "2023-10-12T09:38:14.510Z"
   },
   {
    "duration": 28,
    "start_time": "2023-10-12T09:38:15.949Z"
   },
   {
    "duration": 12,
    "start_time": "2023-10-12T09:38:15.979Z"
   },
   {
    "duration": 12,
    "start_time": "2023-10-12T09:38:15.993Z"
   },
   {
    "duration": 45,
    "start_time": "2023-10-12T09:38:16.006Z"
   },
   {
    "duration": 10,
    "start_time": "2023-10-12T09:38:16.053Z"
   },
   {
    "duration": 20,
    "start_time": "2023-10-12T09:38:16.065Z"
   },
   {
    "duration": 21,
    "start_time": "2023-10-12T09:38:16.087Z"
   },
   {
    "duration": 10,
    "start_time": "2023-10-12T09:38:16.110Z"
   },
   {
    "duration": 24,
    "start_time": "2023-10-12T09:38:16.123Z"
   },
   {
    "duration": 12,
    "start_time": "2023-10-12T09:38:16.149Z"
   },
   {
    "duration": 34,
    "start_time": "2023-10-12T09:38:16.162Z"
   },
   {
    "duration": 16,
    "start_time": "2023-10-12T09:38:16.198Z"
   },
   {
    "duration": 37,
    "start_time": "2023-10-12T09:38:16.216Z"
   },
   {
    "duration": 43,
    "start_time": "2023-10-12T09:38:16.254Z"
   },
   {
    "duration": 11,
    "start_time": "2023-10-12T09:38:16.298Z"
   },
   {
    "duration": 17,
    "start_time": "2023-10-12T09:38:16.311Z"
   },
   {
    "duration": 23,
    "start_time": "2023-10-12T09:38:16.329Z"
   },
   {
    "duration": 26,
    "start_time": "2023-10-12T09:38:16.353Z"
   },
   {
    "duration": 42,
    "start_time": "2023-10-12T09:38:16.380Z"
   },
   {
    "duration": 18,
    "start_time": "2023-10-12T09:38:16.424Z"
   },
   {
    "duration": 20,
    "start_time": "2023-10-12T09:38:16.443Z"
   },
   {
    "duration": 36,
    "start_time": "2023-10-12T09:38:16.465Z"
   },
   {
    "duration": 200,
    "start_time": "2023-10-12T09:38:16.503Z"
   },
   {
    "duration": 6,
    "start_time": "2023-10-12T09:38:16.705Z"
   },
   {
    "duration": 136,
    "start_time": "2023-10-12T09:38:16.713Z"
   },
   {
    "duration": 6,
    "start_time": "2023-10-12T09:38:16.850Z"
   },
   {
    "duration": 198,
    "start_time": "2023-10-12T09:38:16.861Z"
   },
   {
    "duration": 8,
    "start_time": "2023-10-12T09:38:17.061Z"
   },
   {
    "duration": 35,
    "start_time": "2023-10-12T09:38:17.071Z"
   },
   {
    "duration": 27,
    "start_time": "2023-10-12T09:38:17.107Z"
   },
   {
    "duration": 1566,
    "start_time": "2023-10-12T09:38:17.136Z"
   },
   {
    "duration": 9,
    "start_time": "2023-10-12T09:38:18.704Z"
   },
   {
    "duration": 19,
    "start_time": "2023-10-12T09:38:18.714Z"
   },
   {
    "duration": 24,
    "start_time": "2023-10-12T09:38:18.735Z"
   },
   {
    "duration": 8,
    "start_time": "2023-10-12T09:38:18.761Z"
   },
   {
    "duration": 224,
    "start_time": "2023-10-12T09:38:18.771Z"
   },
   {
    "duration": 10,
    "start_time": "2023-10-12T09:38:18.997Z"
   },
   {
    "duration": 185,
    "start_time": "2023-10-12T09:38:19.009Z"
   },
   {
    "duration": 13,
    "start_time": "2023-10-12T09:38:19.196Z"
   },
   {
    "duration": 131,
    "start_time": "2023-10-12T09:38:19.211Z"
   },
   {
    "duration": 13,
    "start_time": "2023-10-12T09:38:19.344Z"
   },
   {
    "duration": 10,
    "start_time": "2023-10-12T09:38:19.359Z"
   },
   {
    "duration": 19,
    "start_time": "2023-10-12T09:38:19.370Z"
   },
   {
    "duration": 27,
    "start_time": "2023-10-12T09:38:19.390Z"
   },
   {
    "duration": 29,
    "start_time": "2023-10-12T09:38:19.419Z"
   },
   {
    "duration": 18,
    "start_time": "2023-10-12T09:38:19.450Z"
   },
   {
    "duration": 35,
    "start_time": "2023-10-12T09:38:19.470Z"
   },
   {
    "duration": 12,
    "start_time": "2023-10-12T09:38:19.507Z"
   },
   {
    "duration": 13,
    "start_time": "2023-10-12T09:38:19.521Z"
   },
   {
    "duration": 24,
    "start_time": "2023-10-12T09:38:19.535Z"
   },
   {
    "duration": 15,
    "start_time": "2023-10-12T09:38:19.561Z"
   },
   {
    "duration": 205,
    "start_time": "2023-10-12T09:38:19.578Z"
   },
   {
    "duration": 481,
    "start_time": "2023-10-12T09:38:19.785Z"
   },
   {
    "duration": 221,
    "start_time": "2023-10-12T09:38:20.268Z"
   },
   {
    "duration": 7,
    "start_time": "2023-10-12T09:38:20.491Z"
   },
   {
    "duration": 85,
    "start_time": "2023-10-12T09:38:20.500Z"
   },
   {
    "duration": 34,
    "start_time": "2023-10-12T09:38:20.587Z"
   },
   {
    "duration": 200,
    "start_time": "2023-10-12T09:38:20.622Z"
   },
   {
    "duration": 290,
    "start_time": "2023-10-12T09:38:20.823Z"
   },
   {
    "duration": 228,
    "start_time": "2023-10-12T09:38:21.114Z"
   },
   {
    "duration": 436,
    "start_time": "2023-10-12T09:38:21.344Z"
   },
   {
    "duration": 381,
    "start_time": "2023-10-12T09:38:21.782Z"
   },
   {
    "duration": 12,
    "start_time": "2023-10-12T09:38:22.165Z"
   },
   {
    "duration": 17,
    "start_time": "2023-10-12T09:38:22.178Z"
   },
   {
    "duration": 15,
    "start_time": "2023-10-12T09:38:22.196Z"
   },
   {
    "duration": 22,
    "start_time": "2023-10-12T09:38:22.213Z"
   },
   {
    "duration": 18,
    "start_time": "2023-10-12T09:38:22.237Z"
   },
   {
    "duration": 12,
    "start_time": "2023-10-12T09:38:22.256Z"
   },
   {
    "duration": 26,
    "start_time": "2023-10-12T09:38:22.270Z"
   },
   {
    "duration": 18,
    "start_time": "2023-10-12T09:38:22.297Z"
   },
   {
    "duration": 973,
    "start_time": "2023-10-12T09:38:22.317Z"
   },
   {
    "duration": 10,
    "start_time": "2023-10-12T09:38:23.292Z"
   },
   {
    "duration": 22,
    "start_time": "2023-10-12T09:38:23.304Z"
   },
   {
    "duration": 23,
    "start_time": "2023-10-12T09:38:23.328Z"
   },
   {
    "duration": 21,
    "start_time": "2023-10-12T09:38:23.353Z"
   },
   {
    "duration": 19,
    "start_time": "2023-10-12T09:38:23.375Z"
   },
   {
    "duration": 235,
    "start_time": "2023-10-12T09:38:23.396Z"
   },
   {
    "duration": 15,
    "start_time": "2023-10-12T09:38:23.633Z"
   },
   {
    "duration": 22,
    "start_time": "2023-10-12T09:38:23.650Z"
   },
   {
    "duration": 13,
    "start_time": "2023-10-12T09:38:23.674Z"
   },
   {
    "duration": 943,
    "start_time": "2023-10-12T09:38:23.694Z"
   },
   {
    "duration": 13,
    "start_time": "2023-10-12T09:38:24.638Z"
   },
   {
    "duration": 43,
    "start_time": "2023-10-12T09:38:24.653Z"
   },
   {
    "duration": 205,
    "start_time": "2023-10-12T09:38:24.698Z"
   },
   {
    "duration": 166,
    "start_time": "2023-10-12T09:38:24.905Z"
   },
   {
    "duration": 1230,
    "start_time": "2023-10-12T09:38:25.073Z"
   },
   {
    "duration": 14,
    "start_time": "2023-10-12T09:42:10.795Z"
   },
   {
    "duration": 4,
    "start_time": "2023-10-12T09:42:23.595Z"
   },
   {
    "duration": 14,
    "start_time": "2023-10-12T09:42:32.364Z"
   },
   {
    "duration": 14,
    "start_time": "2023-10-12T09:42:52.430Z"
   },
   {
    "duration": 907,
    "start_time": "2023-10-12T09:44:00.474Z"
   },
   {
    "duration": 11,
    "start_time": "2023-10-12T09:44:03.955Z"
   },
   {
    "duration": 1399,
    "start_time": "2023-10-12T09:44:19.453Z"
   },
   {
    "duration": 29,
    "start_time": "2023-10-12T09:44:20.854Z"
   },
   {
    "duration": 13,
    "start_time": "2023-10-12T09:44:20.885Z"
   },
   {
    "duration": 36,
    "start_time": "2023-10-12T09:44:20.900Z"
   },
   {
    "duration": 51,
    "start_time": "2023-10-12T09:44:20.938Z"
   },
   {
    "duration": 10,
    "start_time": "2023-10-12T09:44:20.990Z"
   },
   {
    "duration": 49,
    "start_time": "2023-10-12T09:44:21.001Z"
   },
   {
    "duration": 43,
    "start_time": "2023-10-12T09:44:21.052Z"
   },
   {
    "duration": 8,
    "start_time": "2023-10-12T09:44:21.097Z"
   },
   {
    "duration": 32,
    "start_time": "2023-10-12T09:44:21.108Z"
   },
   {
    "duration": 32,
    "start_time": "2023-10-12T09:44:21.142Z"
   },
   {
    "duration": 34,
    "start_time": "2023-10-12T09:44:21.176Z"
   },
   {
    "duration": 10,
    "start_time": "2023-10-12T09:44:21.212Z"
   },
   {
    "duration": 9,
    "start_time": "2023-10-12T09:44:21.224Z"
   },
   {
    "duration": 19,
    "start_time": "2023-10-12T09:44:21.234Z"
   },
   {
    "duration": 39,
    "start_time": "2023-10-12T09:44:21.255Z"
   },
   {
    "duration": 33,
    "start_time": "2023-10-12T09:44:21.295Z"
   },
   {
    "duration": 28,
    "start_time": "2023-10-12T09:44:21.330Z"
   },
   {
    "duration": 21,
    "start_time": "2023-10-12T09:44:21.360Z"
   },
   {
    "duration": 15,
    "start_time": "2023-10-12T09:44:21.383Z"
   },
   {
    "duration": 8,
    "start_time": "2023-10-12T09:44:21.400Z"
   },
   {
    "duration": 11,
    "start_time": "2023-10-12T09:44:21.411Z"
   },
   {
    "duration": 8,
    "start_time": "2023-10-12T09:44:21.424Z"
   },
   {
    "duration": 204,
    "start_time": "2023-10-12T09:44:21.433Z"
   },
   {
    "duration": 8,
    "start_time": "2023-10-12T09:44:21.639Z"
   },
   {
    "duration": 134,
    "start_time": "2023-10-12T09:44:21.649Z"
   },
   {
    "duration": 7,
    "start_time": "2023-10-12T09:44:21.785Z"
   },
   {
    "duration": 174,
    "start_time": "2023-10-12T09:44:21.796Z"
   },
   {
    "duration": 9,
    "start_time": "2023-10-12T09:44:21.971Z"
   },
   {
    "duration": 7,
    "start_time": "2023-10-12T09:44:21.982Z"
   },
   {
    "duration": 8,
    "start_time": "2023-10-12T09:44:21.990Z"
   },
   {
    "duration": 1549,
    "start_time": "2023-10-12T09:44:21.999Z"
   },
   {
    "duration": 9,
    "start_time": "2023-10-12T09:44:23.550Z"
   },
   {
    "duration": 23,
    "start_time": "2023-10-12T09:44:23.561Z"
   },
   {
    "duration": 8,
    "start_time": "2023-10-12T09:44:23.586Z"
   },
   {
    "duration": 8,
    "start_time": "2023-10-12T09:44:23.596Z"
   },
   {
    "duration": 237,
    "start_time": "2023-10-12T09:44:23.606Z"
   },
   {
    "duration": 14,
    "start_time": "2023-10-12T09:44:23.851Z"
   },
   {
    "duration": 155,
    "start_time": "2023-10-12T09:44:23.867Z"
   },
   {
    "duration": 23,
    "start_time": "2023-10-12T09:44:24.024Z"
   },
   {
    "duration": 125,
    "start_time": "2023-10-12T09:44:24.048Z"
   },
   {
    "duration": 11,
    "start_time": "2023-10-12T09:44:24.175Z"
   },
   {
    "duration": 20,
    "start_time": "2023-10-12T09:44:24.188Z"
   },
   {
    "duration": 12,
    "start_time": "2023-10-12T09:44:24.210Z"
   },
   {
    "duration": 32,
    "start_time": "2023-10-12T09:44:24.223Z"
   },
   {
    "duration": 12,
    "start_time": "2023-10-12T09:44:24.257Z"
   },
   {
    "duration": 15,
    "start_time": "2023-10-12T09:44:24.270Z"
   },
   {
    "duration": 27,
    "start_time": "2023-10-12T09:44:24.287Z"
   },
   {
    "duration": 39,
    "start_time": "2023-10-12T09:44:24.316Z"
   },
   {
    "duration": 10,
    "start_time": "2023-10-12T09:44:24.357Z"
   },
   {
    "duration": 24,
    "start_time": "2023-10-12T09:44:24.368Z"
   },
   {
    "duration": 16,
    "start_time": "2023-10-12T09:44:24.394Z"
   },
   {
    "duration": 203,
    "start_time": "2023-10-12T09:44:24.411Z"
   },
   {
    "duration": 437,
    "start_time": "2023-10-12T09:44:24.617Z"
   },
   {
    "duration": 250,
    "start_time": "2023-10-12T09:44:25.056Z"
   },
   {
    "duration": 9,
    "start_time": "2023-10-12T09:44:25.308Z"
   },
   {
    "duration": 30,
    "start_time": "2023-10-12T09:44:25.320Z"
   },
   {
    "duration": 21,
    "start_time": "2023-10-12T09:44:25.352Z"
   },
   {
    "duration": 214,
    "start_time": "2023-10-12T09:44:25.376Z"
   },
   {
    "duration": 282,
    "start_time": "2023-10-12T09:44:25.592Z"
   },
   {
    "duration": 218,
    "start_time": "2023-10-12T09:44:25.876Z"
   },
   {
    "duration": 423,
    "start_time": "2023-10-12T09:44:26.096Z"
   },
   {
    "duration": 349,
    "start_time": "2023-10-12T09:44:26.521Z"
   },
   {
    "duration": 14,
    "start_time": "2023-10-12T09:44:26.872Z"
   },
   {
    "duration": 143,
    "start_time": "2023-10-12T09:44:26.888Z"
   },
   {
    "duration": 48,
    "start_time": "2023-10-12T09:44:27.033Z"
   },
   {
    "duration": 86,
    "start_time": "2023-10-12T09:44:27.082Z"
   },
   {
    "duration": 950,
    "start_time": "2023-10-12T09:44:27.169Z"
   },
   {
    "duration": 11,
    "start_time": "2023-10-12T09:44:28.121Z"
   },
   {
    "duration": 35,
    "start_time": "2023-10-12T09:44:28.134Z"
   },
   {
    "duration": 25,
    "start_time": "2023-10-12T09:44:28.171Z"
   },
   {
    "duration": 18,
    "start_time": "2023-10-12T09:44:28.197Z"
   },
   {
    "duration": 34,
    "start_time": "2023-10-12T09:44:28.217Z"
   },
   {
    "duration": 237,
    "start_time": "2023-10-12T09:44:28.252Z"
   },
   {
    "duration": 10,
    "start_time": "2023-10-12T09:44:28.491Z"
   },
   {
    "duration": 10,
    "start_time": "2023-10-12T09:44:28.503Z"
   },
   {
    "duration": 15,
    "start_time": "2023-10-12T09:44:28.514Z"
   },
   {
    "duration": 1138,
    "start_time": "2023-10-12T09:44:28.531Z"
   },
   {
    "duration": 8,
    "start_time": "2023-10-12T09:44:29.671Z"
   },
   {
    "duration": 76,
    "start_time": "2023-10-12T09:44:29.681Z"
   },
   {
    "duration": 204,
    "start_time": "2023-10-12T09:44:29.760Z"
   },
   {
    "duration": 160,
    "start_time": "2023-10-12T09:44:29.970Z"
   },
   {
    "duration": 1183,
    "start_time": "2023-10-12T09:44:30.132Z"
   },
   {
    "duration": 1371,
    "start_time": "2023-10-12T09:45:43.146Z"
   },
   {
    "duration": 29,
    "start_time": "2023-10-12T09:45:44.519Z"
   },
   {
    "duration": 12,
    "start_time": "2023-10-12T09:45:44.550Z"
   },
   {
    "duration": 22,
    "start_time": "2023-10-12T09:45:44.565Z"
   },
   {
    "duration": 37,
    "start_time": "2023-10-12T09:45:44.589Z"
   },
   {
    "duration": 9,
    "start_time": "2023-10-12T09:45:44.627Z"
   },
   {
    "duration": 28,
    "start_time": "2023-10-12T09:45:44.638Z"
   },
   {
    "duration": 22,
    "start_time": "2023-10-12T09:45:44.668Z"
   },
   {
    "duration": 18,
    "start_time": "2023-10-12T09:45:44.692Z"
   },
   {
    "duration": 20,
    "start_time": "2023-10-12T09:45:44.714Z"
   },
   {
    "duration": 16,
    "start_time": "2023-10-12T09:45:44.736Z"
   },
   {
    "duration": 17,
    "start_time": "2023-10-12T09:45:44.754Z"
   },
   {
    "duration": 28,
    "start_time": "2023-10-12T09:45:44.772Z"
   },
   {
    "duration": 31,
    "start_time": "2023-10-12T09:45:44.802Z"
   },
   {
    "duration": 37,
    "start_time": "2023-10-12T09:45:44.835Z"
   },
   {
    "duration": 12,
    "start_time": "2023-10-12T09:45:44.874Z"
   },
   {
    "duration": 21,
    "start_time": "2023-10-12T09:45:44.888Z"
   },
   {
    "duration": 9,
    "start_time": "2023-10-12T09:45:44.910Z"
   },
   {
    "duration": 14,
    "start_time": "2023-10-12T09:45:44.921Z"
   },
   {
    "duration": 18,
    "start_time": "2023-10-12T09:45:44.936Z"
   },
   {
    "duration": 28,
    "start_time": "2023-10-12T09:45:44.955Z"
   },
   {
    "duration": 20,
    "start_time": "2023-10-12T09:45:44.985Z"
   },
   {
    "duration": 55,
    "start_time": "2023-10-12T09:45:45.007Z"
   },
   {
    "duration": 198,
    "start_time": "2023-10-12T09:45:45.064Z"
   },
   {
    "duration": 8,
    "start_time": "2023-10-12T09:45:45.264Z"
   },
   {
    "duration": 158,
    "start_time": "2023-10-12T09:45:45.275Z"
   },
   {
    "duration": 11,
    "start_time": "2023-10-12T09:45:45.436Z"
   },
   {
    "duration": 194,
    "start_time": "2023-10-12T09:45:45.453Z"
   },
   {
    "duration": 9,
    "start_time": "2023-10-12T09:45:45.648Z"
   },
   {
    "duration": 35,
    "start_time": "2023-10-12T09:45:45.659Z"
   },
   {
    "duration": 24,
    "start_time": "2023-10-12T09:45:45.695Z"
   },
   {
    "duration": 1559,
    "start_time": "2023-10-12T09:45:45.721Z"
   },
   {
    "duration": 9,
    "start_time": "2023-10-12T09:45:47.281Z"
   },
   {
    "duration": 18,
    "start_time": "2023-10-12T09:45:47.292Z"
   },
   {
    "duration": 45,
    "start_time": "2023-10-12T09:45:47.311Z"
   },
   {
    "duration": 8,
    "start_time": "2023-10-12T09:45:47.358Z"
   },
   {
    "duration": 239,
    "start_time": "2023-10-12T09:45:47.368Z"
   },
   {
    "duration": 10,
    "start_time": "2023-10-12T09:45:47.608Z"
   },
   {
    "duration": 155,
    "start_time": "2023-10-12T09:45:47.619Z"
   },
   {
    "duration": 12,
    "start_time": "2023-10-12T09:45:47.775Z"
   },
   {
    "duration": 134,
    "start_time": "2023-10-12T09:45:47.789Z"
   },
   {
    "duration": 13,
    "start_time": "2023-10-12T09:45:47.924Z"
   },
   {
    "duration": 18,
    "start_time": "2023-10-12T09:45:47.947Z"
   },
   {
    "duration": 38,
    "start_time": "2023-10-12T09:45:47.966Z"
   },
   {
    "duration": 45,
    "start_time": "2023-10-12T09:45:48.005Z"
   },
   {
    "duration": 33,
    "start_time": "2023-10-12T09:45:48.052Z"
   },
   {
    "duration": 33,
    "start_time": "2023-10-12T09:45:48.088Z"
   },
   {
    "duration": 43,
    "start_time": "2023-10-12T09:45:48.123Z"
   },
   {
    "duration": 21,
    "start_time": "2023-10-12T09:45:48.168Z"
   },
   {
    "duration": 41,
    "start_time": "2023-10-12T09:45:48.192Z"
   },
   {
    "duration": 52,
    "start_time": "2023-10-12T09:45:48.235Z"
   },
   {
    "duration": 85,
    "start_time": "2023-10-12T09:45:48.289Z"
   },
   {
    "duration": 213,
    "start_time": "2023-10-12T09:45:48.376Z"
   },
   {
    "duration": 433,
    "start_time": "2023-10-12T09:45:48.591Z"
   },
   {
    "duration": 222,
    "start_time": "2023-10-12T09:45:49.027Z"
   },
   {
    "duration": 7,
    "start_time": "2023-10-12T09:45:49.251Z"
   },
   {
    "duration": 21,
    "start_time": "2023-10-12T09:45:49.259Z"
   },
   {
    "duration": 43,
    "start_time": "2023-10-12T09:45:49.282Z"
   },
   {
    "duration": 218,
    "start_time": "2023-10-12T09:45:49.327Z"
   },
   {
    "duration": 286,
    "start_time": "2023-10-12T09:45:49.547Z"
   },
   {
    "duration": 208,
    "start_time": "2023-10-12T09:45:49.836Z"
   },
   {
    "duration": 444,
    "start_time": "2023-10-12T09:45:50.047Z"
   },
   {
    "duration": 358,
    "start_time": "2023-10-12T09:45:50.493Z"
   },
   {
    "duration": 13,
    "start_time": "2023-10-12T09:45:50.853Z"
   },
   {
    "duration": 30,
    "start_time": "2023-10-12T09:45:50.868Z"
   },
   {
    "duration": 30,
    "start_time": "2023-10-12T09:45:50.900Z"
   },
   {
    "duration": 45,
    "start_time": "2023-10-12T09:45:50.932Z"
   },
   {
    "duration": 975,
    "start_time": "2023-10-12T09:45:50.979Z"
   },
   {
    "duration": 10,
    "start_time": "2023-10-12T09:45:51.956Z"
   },
   {
    "duration": 73,
    "start_time": "2023-10-12T09:45:51.967Z"
   },
   {
    "duration": 83,
    "start_time": "2023-10-12T09:45:52.041Z"
   },
   {
    "duration": 41,
    "start_time": "2023-10-12T09:45:52.127Z"
   },
   {
    "duration": 21,
    "start_time": "2023-10-12T09:45:52.170Z"
   },
   {
    "duration": 258,
    "start_time": "2023-10-12T09:45:52.193Z"
   },
   {
    "duration": 11,
    "start_time": "2023-10-12T09:45:52.453Z"
   },
   {
    "duration": 40,
    "start_time": "2023-10-12T09:45:52.466Z"
   },
   {
    "duration": 28,
    "start_time": "2023-10-12T09:45:52.508Z"
   },
   {
    "duration": 922,
    "start_time": "2023-10-12T09:45:52.537Z"
   },
   {
    "duration": 7,
    "start_time": "2023-10-12T09:45:53.462Z"
   },
   {
    "duration": 27,
    "start_time": "2023-10-12T09:45:53.471Z"
   },
   {
    "duration": 224,
    "start_time": "2023-10-12T09:45:53.501Z"
   },
   {
    "duration": 176,
    "start_time": "2023-10-12T09:45:53.730Z"
   },
   {
    "duration": 1164,
    "start_time": "2023-10-12T09:45:53.908Z"
   },
   {
    "duration": 6,
    "start_time": "2023-10-12T09:47:16.538Z"
   },
   {
    "duration": 6,
    "start_time": "2023-10-12T09:47:52.106Z"
   },
   {
    "duration": 7,
    "start_time": "2023-10-12T09:48:17.578Z"
   },
   {
    "duration": 166,
    "start_time": "2023-10-12T09:48:43.218Z"
   },
   {
    "duration": 215,
    "start_time": "2023-10-12T09:49:55.107Z"
   },
   {
    "duration": 7,
    "start_time": "2023-10-12T09:50:53.875Z"
   },
   {
    "duration": 273,
    "start_time": "2023-10-12T09:50:56.530Z"
   },
   {
    "duration": 7,
    "start_time": "2023-10-12T09:51:21.753Z"
   },
   {
    "duration": 161,
    "start_time": "2023-10-12T09:51:24.961Z"
   },
   {
    "duration": 1370,
    "start_time": "2023-10-12T09:53:10.889Z"
   },
   {
    "duration": 29,
    "start_time": "2023-10-12T09:53:12.262Z"
   },
   {
    "duration": 232,
    "start_time": "2023-10-12T09:53:12.292Z"
   },
   {
    "duration": 211,
    "start_time": "2023-10-12T09:53:12.527Z"
   },
   {
    "duration": 53,
    "start_time": "2023-10-12T09:53:12.740Z"
   },
   {
    "duration": 10,
    "start_time": "2023-10-12T09:53:12.795Z"
   },
   {
    "duration": 21,
    "start_time": "2023-10-12T09:53:12.806Z"
   },
   {
    "duration": 17,
    "start_time": "2023-10-12T09:53:12.829Z"
   },
   {
    "duration": 11,
    "start_time": "2023-10-12T09:53:12.847Z"
   },
   {
    "duration": 40,
    "start_time": "2023-10-12T09:53:12.861Z"
   },
   {
    "duration": 41,
    "start_time": "2023-10-12T09:53:12.903Z"
   },
   {
    "duration": 36,
    "start_time": "2023-10-12T09:53:12.946Z"
   },
   {
    "duration": 15,
    "start_time": "2023-10-12T09:53:12.983Z"
   },
   {
    "duration": 11,
    "start_time": "2023-10-12T09:53:13.000Z"
   },
   {
    "duration": 41,
    "start_time": "2023-10-12T09:53:13.012Z"
   },
   {
    "duration": 11,
    "start_time": "2023-10-12T09:53:13.054Z"
   },
   {
    "duration": 7,
    "start_time": "2023-10-12T09:53:13.067Z"
   },
   {
    "duration": 22,
    "start_time": "2023-10-12T09:53:13.076Z"
   },
   {
    "duration": 22,
    "start_time": "2023-10-12T09:53:13.100Z"
   },
   {
    "duration": 11,
    "start_time": "2023-10-12T09:53:13.124Z"
   },
   {
    "duration": 32,
    "start_time": "2023-10-12T09:53:13.137Z"
   },
   {
    "duration": 27,
    "start_time": "2023-10-12T09:53:13.171Z"
   },
   {
    "duration": 8,
    "start_time": "2023-10-12T09:53:13.200Z"
   },
   {
    "duration": 179,
    "start_time": "2023-10-12T09:53:13.209Z"
   },
   {
    "duration": 6,
    "start_time": "2023-10-12T09:53:13.390Z"
   },
   {
    "duration": 126,
    "start_time": "2023-10-12T09:53:13.397Z"
   },
   {
    "duration": 6,
    "start_time": "2023-10-12T09:53:13.524Z"
   },
   {
    "duration": 169,
    "start_time": "2023-10-12T09:53:13.534Z"
   },
   {
    "duration": 9,
    "start_time": "2023-10-12T09:53:13.705Z"
   },
   {
    "duration": 17,
    "start_time": "2023-10-12T09:53:13.715Z"
   },
   {
    "duration": 19,
    "start_time": "2023-10-12T09:53:13.734Z"
   },
   {
    "duration": 1563,
    "start_time": "2023-10-12T09:53:13.754Z"
   },
   {
    "duration": 12,
    "start_time": "2023-10-12T09:53:15.320Z"
   },
   {
    "duration": 76,
    "start_time": "2023-10-12T09:53:15.347Z"
   },
   {
    "duration": 59,
    "start_time": "2023-10-12T09:53:15.425Z"
   },
   {
    "duration": 71,
    "start_time": "2023-10-12T09:53:15.487Z"
   },
   {
    "duration": 240,
    "start_time": "2023-10-12T09:53:15.560Z"
   },
   {
    "duration": 10,
    "start_time": "2023-10-12T09:53:15.802Z"
   },
   {
    "duration": 153,
    "start_time": "2023-10-12T09:53:15.814Z"
   },
   {
    "duration": 13,
    "start_time": "2023-10-12T09:53:15.969Z"
   },
   {
    "duration": 174,
    "start_time": "2023-10-12T09:53:15.984Z"
   },
   {
    "duration": 13,
    "start_time": "2023-10-12T09:53:16.160Z"
   },
   {
    "duration": 22,
    "start_time": "2023-10-12T09:53:16.174Z"
   },
   {
    "duration": 41,
    "start_time": "2023-10-12T09:53:16.197Z"
   },
   {
    "duration": 56,
    "start_time": "2023-10-12T09:53:16.240Z"
   },
   {
    "duration": 65,
    "start_time": "2023-10-12T09:53:16.298Z"
   },
   {
    "duration": 37,
    "start_time": "2023-10-12T09:53:16.365Z"
   },
   {
    "duration": 35,
    "start_time": "2023-10-12T09:53:16.404Z"
   },
   {
    "duration": 11,
    "start_time": "2023-10-12T09:53:16.441Z"
   },
   {
    "duration": 13,
    "start_time": "2023-10-12T09:53:16.454Z"
   },
   {
    "duration": 34,
    "start_time": "2023-10-12T09:53:16.468Z"
   },
   {
    "duration": 29,
    "start_time": "2023-10-12T09:53:16.503Z"
   },
   {
    "duration": 29,
    "start_time": "2023-10-12T09:53:16.534Z"
   },
   {
    "duration": 210,
    "start_time": "2023-10-12T09:53:16.565Z"
   },
   {
    "duration": 414,
    "start_time": "2023-10-12T09:53:16.777Z"
   },
   {
    "duration": 204,
    "start_time": "2023-10-12T09:53:17.194Z"
   },
   {
    "duration": 8,
    "start_time": "2023-10-12T09:53:17.400Z"
   },
   {
    "duration": 19,
    "start_time": "2023-10-12T09:53:17.409Z"
   },
   {
    "duration": 33,
    "start_time": "2023-10-12T09:53:17.430Z"
   },
   {
    "duration": 8,
    "start_time": "2023-10-12T09:53:17.465Z"
   },
   {
    "duration": 175,
    "start_time": "2023-10-12T09:53:17.474Z"
   },
   {
    "duration": 275,
    "start_time": "2023-10-12T09:53:17.650Z"
   },
   {
    "duration": 214,
    "start_time": "2023-10-12T09:53:17.927Z"
   },
   {
    "duration": 420,
    "start_time": "2023-10-12T09:53:18.142Z"
   },
   {
    "duration": 346,
    "start_time": "2023-10-12T09:53:18.564Z"
   },
   {
    "duration": 14,
    "start_time": "2023-10-12T09:53:18.912Z"
   },
   {
    "duration": 19,
    "start_time": "2023-10-12T09:53:18.928Z"
   },
   {
    "duration": 24,
    "start_time": "2023-10-12T09:53:18.949Z"
   },
   {
    "duration": 30,
    "start_time": "2023-10-12T09:53:18.974Z"
   },
   {
    "duration": 1032,
    "start_time": "2023-10-12T09:53:19.007Z"
   },
   {
    "duration": 13,
    "start_time": "2023-10-12T09:53:20.041Z"
   },
   {
    "duration": 27,
    "start_time": "2023-10-12T09:53:20.056Z"
   },
   {
    "duration": 30,
    "start_time": "2023-10-12T09:53:20.085Z"
   },
   {
    "duration": 28,
    "start_time": "2023-10-12T09:53:20.117Z"
   },
   {
    "duration": 26,
    "start_time": "2023-10-12T09:53:20.147Z"
   },
   {
    "duration": 254,
    "start_time": "2023-10-12T09:53:20.175Z"
   },
   {
    "duration": 16,
    "start_time": "2023-10-12T09:53:20.431Z"
   },
   {
    "duration": 44,
    "start_time": "2023-10-12T09:53:20.448Z"
   },
   {
    "duration": 43,
    "start_time": "2023-10-12T09:53:20.494Z"
   },
   {
    "duration": 976,
    "start_time": "2023-10-12T09:53:20.539Z"
   },
   {
    "duration": 6,
    "start_time": "2023-10-12T09:53:21.517Z"
   },
   {
    "duration": 23,
    "start_time": "2023-10-12T09:53:21.528Z"
   },
   {
    "duration": 217,
    "start_time": "2023-10-12T09:53:21.553Z"
   },
   {
    "duration": 150,
    "start_time": "2023-10-12T09:53:21.772Z"
   },
   {
    "duration": 1164,
    "start_time": "2023-10-12T09:53:21.924Z"
   },
   {
    "duration": 1262,
    "start_time": "2023-10-12T10:02:41.731Z"
   },
   {
    "duration": 30,
    "start_time": "2023-10-12T10:02:42.995Z"
   },
   {
    "duration": 19,
    "start_time": "2023-10-12T10:02:43.026Z"
   },
   {
    "duration": 11,
    "start_time": "2023-10-12T10:02:43.047Z"
   },
   {
    "duration": 47,
    "start_time": "2023-10-12T10:02:43.060Z"
   },
   {
    "duration": 9,
    "start_time": "2023-10-12T10:02:43.108Z"
   },
   {
    "duration": 13,
    "start_time": "2023-10-12T10:02:43.119Z"
   },
   {
    "duration": 16,
    "start_time": "2023-10-12T10:02:43.133Z"
   },
   {
    "duration": 81,
    "start_time": "2023-10-12T10:02:43.151Z"
   },
   {
    "duration": 42,
    "start_time": "2023-10-12T10:02:43.235Z"
   },
   {
    "duration": 15,
    "start_time": "2023-10-12T10:02:43.279Z"
   },
   {
    "duration": 6,
    "start_time": "2023-10-12T10:02:43.296Z"
   },
   {
    "duration": 9,
    "start_time": "2023-10-12T10:02:43.303Z"
   },
   {
    "duration": 18,
    "start_time": "2023-10-12T10:02:43.314Z"
   },
   {
    "duration": 19,
    "start_time": "2023-10-12T10:02:43.333Z"
   },
   {
    "duration": 6,
    "start_time": "2023-10-12T10:02:43.353Z"
   },
   {
    "duration": 7,
    "start_time": "2023-10-12T10:02:43.360Z"
   },
   {
    "duration": 22,
    "start_time": "2023-10-12T10:02:43.368Z"
   },
   {
    "duration": 24,
    "start_time": "2023-10-12T10:02:43.392Z"
   },
   {
    "duration": 20,
    "start_time": "2023-10-12T10:02:43.417Z"
   },
   {
    "duration": 21,
    "start_time": "2023-10-12T10:02:43.438Z"
   },
   {
    "duration": 67,
    "start_time": "2023-10-12T10:02:43.460Z"
   },
   {
    "duration": 15,
    "start_time": "2023-10-12T10:02:43.529Z"
   },
   {
    "duration": 189,
    "start_time": "2023-10-12T10:02:43.545Z"
   },
   {
    "duration": 5,
    "start_time": "2023-10-12T10:02:43.736Z"
   },
   {
    "duration": 129,
    "start_time": "2023-10-12T10:02:43.743Z"
   },
   {
    "duration": 5,
    "start_time": "2023-10-12T10:02:43.873Z"
   },
   {
    "duration": 157,
    "start_time": "2023-10-12T10:02:43.882Z"
   },
   {
    "duration": 7,
    "start_time": "2023-10-12T10:02:44.041Z"
   },
   {
    "duration": 21,
    "start_time": "2023-10-12T10:02:44.049Z"
   },
   {
    "duration": 27,
    "start_time": "2023-10-12T10:02:44.072Z"
   },
   {
    "duration": 1168,
    "start_time": "2023-10-12T10:02:44.100Z"
   },
   {
    "duration": 9,
    "start_time": "2023-10-12T10:02:45.270Z"
   },
   {
    "duration": 66,
    "start_time": "2023-10-12T10:02:45.280Z"
   },
   {
    "duration": 31,
    "start_time": "2023-10-12T10:02:45.348Z"
   },
   {
    "duration": 9,
    "start_time": "2023-10-12T10:02:45.380Z"
   },
   {
    "duration": 187,
    "start_time": "2023-10-12T10:02:45.391Z"
   },
   {
    "duration": 8,
    "start_time": "2023-10-12T10:02:45.579Z"
   },
   {
    "duration": 130,
    "start_time": "2023-10-12T10:02:45.589Z"
   },
   {
    "duration": 18,
    "start_time": "2023-10-12T10:02:45.721Z"
   },
   {
    "duration": 102,
    "start_time": "2023-10-12T10:02:45.741Z"
   },
   {
    "duration": 9,
    "start_time": "2023-10-12T10:02:45.845Z"
   },
   {
    "duration": 21,
    "start_time": "2023-10-12T10:02:45.855Z"
   },
   {
    "duration": 33,
    "start_time": "2023-10-12T10:02:45.877Z"
   },
   {
    "duration": 21,
    "start_time": "2023-10-12T10:02:45.912Z"
   },
   {
    "duration": 31,
    "start_time": "2023-10-12T10:02:45.934Z"
   },
   {
    "duration": 21,
    "start_time": "2023-10-12T10:02:45.967Z"
   },
   {
    "duration": 42,
    "start_time": "2023-10-12T10:02:45.989Z"
   },
   {
    "duration": 9,
    "start_time": "2023-10-12T10:02:46.032Z"
   },
   {
    "duration": 7,
    "start_time": "2023-10-12T10:02:46.042Z"
   },
   {
    "duration": 32,
    "start_time": "2023-10-12T10:02:46.050Z"
   },
   {
    "duration": 17,
    "start_time": "2023-10-12T10:02:46.083Z"
   },
   {
    "duration": 7,
    "start_time": "2023-10-12T10:02:46.101Z"
   },
   {
    "duration": 153,
    "start_time": "2023-10-12T10:02:46.109Z"
   },
   {
    "duration": 341,
    "start_time": "2023-10-12T10:02:46.264Z"
   },
   {
    "duration": 181,
    "start_time": "2023-10-12T10:02:46.607Z"
   },
   {
    "duration": 6,
    "start_time": "2023-10-12T10:02:46.789Z"
   },
   {
    "duration": 20,
    "start_time": "2023-10-12T10:02:46.797Z"
   },
   {
    "duration": 29,
    "start_time": "2023-10-12T10:02:46.818Z"
   },
   {
    "duration": 5,
    "start_time": "2023-10-12T10:02:46.848Z"
   },
   {
    "duration": 152,
    "start_time": "2023-10-12T10:02:46.855Z"
   },
   {
    "duration": 217,
    "start_time": "2023-10-12T10:02:47.008Z"
   },
   {
    "duration": 178,
    "start_time": "2023-10-12T10:02:47.227Z"
   },
   {
    "duration": 350,
    "start_time": "2023-10-12T10:02:47.406Z"
   },
   {
    "duration": 288,
    "start_time": "2023-10-12T10:02:47.758Z"
   },
   {
    "duration": 10,
    "start_time": "2023-10-12T10:02:48.048Z"
   },
   {
    "duration": 3,
    "start_time": "2023-10-12T10:02:48.060Z"
   },
   {
    "duration": 20,
    "start_time": "2023-10-12T10:02:48.064Z"
   },
   {
    "duration": 27,
    "start_time": "2023-10-12T10:02:48.085Z"
   },
   {
    "duration": 973,
    "start_time": "2023-10-12T10:02:48.114Z"
   },
   {
    "duration": 9,
    "start_time": "2023-10-12T10:02:49.088Z"
   },
   {
    "duration": 32,
    "start_time": "2023-10-12T10:02:49.098Z"
   },
   {
    "duration": 43,
    "start_time": "2023-10-12T10:02:49.131Z"
   },
   {
    "duration": 8,
    "start_time": "2023-10-12T10:02:49.175Z"
   },
   {
    "duration": 7,
    "start_time": "2023-10-12T10:02:49.184Z"
   },
   {
    "duration": 231,
    "start_time": "2023-10-12T10:02:49.192Z"
   },
   {
    "duration": 9,
    "start_time": "2023-10-12T10:02:49.424Z"
   },
   {
    "duration": 11,
    "start_time": "2023-10-12T10:02:49.440Z"
   },
   {
    "duration": 27,
    "start_time": "2023-10-12T10:02:49.453Z"
   },
   {
    "duration": 837,
    "start_time": "2023-10-12T10:02:49.482Z"
   },
   {
    "duration": 5,
    "start_time": "2023-10-12T10:02:50.320Z"
   },
   {
    "duration": 91,
    "start_time": "2023-10-12T10:02:50.330Z"
   },
   {
    "duration": 178,
    "start_time": "2023-10-12T10:02:50.422Z"
   },
   {
    "duration": 138,
    "start_time": "2023-10-12T10:02:50.601Z"
   },
   {
    "duration": 998,
    "start_time": "2023-10-12T10:02:50.741Z"
   },
   {
    "duration": 1213,
    "start_time": "2023-10-12T10:11:38.908Z"
   },
   {
    "duration": 28,
    "start_time": "2023-10-12T10:11:40.123Z"
   },
   {
    "duration": 11,
    "start_time": "2023-10-12T10:11:40.153Z"
   },
   {
    "duration": 23,
    "start_time": "2023-10-12T10:11:40.166Z"
   },
   {
    "duration": 32,
    "start_time": "2023-10-12T10:11:40.190Z"
   },
   {
    "duration": 7,
    "start_time": "2023-10-12T10:11:40.224Z"
   },
   {
    "duration": 35,
    "start_time": "2023-10-12T10:11:40.232Z"
   },
   {
    "duration": 15,
    "start_time": "2023-10-12T10:11:40.269Z"
   },
   {
    "duration": 6,
    "start_time": "2023-10-12T10:11:40.285Z"
   },
   {
    "duration": 11,
    "start_time": "2023-10-12T10:11:40.293Z"
   },
   {
    "duration": 13,
    "start_time": "2023-10-12T10:11:40.306Z"
   },
   {
    "duration": 5,
    "start_time": "2023-10-12T10:11:40.321Z"
   },
   {
    "duration": 7,
    "start_time": "2023-10-12T10:11:40.327Z"
   },
   {
    "duration": 5,
    "start_time": "2023-10-12T10:11:40.335Z"
   },
   {
    "duration": 9,
    "start_time": "2023-10-12T10:11:40.341Z"
   },
   {
    "duration": 6,
    "start_time": "2023-10-12T10:11:40.351Z"
   },
   {
    "duration": 18,
    "start_time": "2023-10-12T10:11:40.358Z"
   },
   {
    "duration": 20,
    "start_time": "2023-10-12T10:11:40.378Z"
   },
   {
    "duration": 15,
    "start_time": "2023-10-12T10:11:40.400Z"
   },
   {
    "duration": 5,
    "start_time": "2023-10-12T10:11:40.416Z"
   },
   {
    "duration": 8,
    "start_time": "2023-10-12T10:11:40.422Z"
   },
   {
    "duration": 12,
    "start_time": "2023-10-12T10:11:40.432Z"
   },
   {
    "duration": 6,
    "start_time": "2023-10-12T10:11:40.445Z"
   },
   {
    "duration": 157,
    "start_time": "2023-10-12T10:11:40.453Z"
   },
   {
    "duration": 6,
    "start_time": "2023-10-12T10:11:40.612Z"
   },
   {
    "duration": 128,
    "start_time": "2023-10-12T10:11:40.619Z"
   },
   {
    "duration": 6,
    "start_time": "2023-10-12T10:11:40.748Z"
   },
   {
    "duration": 148,
    "start_time": "2023-10-12T10:11:40.759Z"
   },
   {
    "duration": 7,
    "start_time": "2023-10-12T10:11:40.909Z"
   },
   {
    "duration": 38,
    "start_time": "2023-10-12T10:11:40.917Z"
   },
   {
    "duration": 32,
    "start_time": "2023-10-12T10:11:40.956Z"
   },
   {
    "duration": 1173,
    "start_time": "2023-10-12T10:11:40.990Z"
   },
   {
    "duration": 8,
    "start_time": "2023-10-12T10:11:42.164Z"
   },
   {
    "duration": 8,
    "start_time": "2023-10-12T10:11:42.173Z"
   },
   {
    "duration": 8,
    "start_time": "2023-10-12T10:11:42.182Z"
   },
   {
    "duration": 16,
    "start_time": "2023-10-12T10:11:42.191Z"
   },
   {
    "duration": 189,
    "start_time": "2023-10-12T10:11:42.208Z"
   },
   {
    "duration": 13,
    "start_time": "2023-10-12T10:11:42.398Z"
   },
   {
    "duration": 147,
    "start_time": "2023-10-12T10:11:42.412Z"
   },
   {
    "duration": 13,
    "start_time": "2023-10-12T10:11:42.561Z"
   },
   {
    "duration": 128,
    "start_time": "2023-10-12T10:11:42.576Z"
   },
   {
    "duration": 10,
    "start_time": "2023-10-12T10:11:42.705Z"
   },
   {
    "duration": 7,
    "start_time": "2023-10-12T10:11:42.716Z"
   },
   {
    "duration": 9,
    "start_time": "2023-10-12T10:11:42.739Z"
   },
   {
    "duration": 10,
    "start_time": "2023-10-12T10:11:42.750Z"
   },
   {
    "duration": 12,
    "start_time": "2023-10-12T10:11:42.762Z"
   },
   {
    "duration": 14,
    "start_time": "2023-10-12T10:11:42.776Z"
   },
   {
    "duration": 20,
    "start_time": "2023-10-12T10:11:42.791Z"
   },
   {
    "duration": 28,
    "start_time": "2023-10-12T10:11:42.812Z"
   },
   {
    "duration": 8,
    "start_time": "2023-10-12T10:11:42.841Z"
   },
   {
    "duration": 10,
    "start_time": "2023-10-12T10:11:42.850Z"
   },
   {
    "duration": 12,
    "start_time": "2023-10-12T10:11:42.862Z"
   },
   {
    "duration": 6,
    "start_time": "2023-10-12T10:11:42.875Z"
   },
   {
    "duration": 170,
    "start_time": "2023-10-12T10:11:42.882Z"
   },
   {
    "duration": 360,
    "start_time": "2023-10-12T10:11:43.054Z"
   },
   {
    "duration": 165,
    "start_time": "2023-10-12T10:11:43.416Z"
   },
   {
    "duration": 7,
    "start_time": "2023-10-12T10:11:43.583Z"
   },
   {
    "duration": 19,
    "start_time": "2023-10-12T10:11:43.591Z"
   },
   {
    "duration": 30,
    "start_time": "2023-10-12T10:11:43.611Z"
   },
   {
    "duration": 7,
    "start_time": "2023-10-12T10:11:43.644Z"
   },
   {
    "duration": 151,
    "start_time": "2023-10-12T10:11:43.653Z"
   },
   {
    "duration": 219,
    "start_time": "2023-10-12T10:11:43.806Z"
   },
   {
    "duration": 184,
    "start_time": "2023-10-12T10:11:44.026Z"
   },
   {
    "duration": 320,
    "start_time": "2023-10-12T10:11:44.211Z"
   },
   {
    "duration": 280,
    "start_time": "2023-10-12T10:11:44.539Z"
   },
   {
    "duration": 20,
    "start_time": "2023-10-12T10:11:44.820Z"
   },
   {
    "duration": 3,
    "start_time": "2023-10-12T10:11:44.842Z"
   },
   {
    "duration": 17,
    "start_time": "2023-10-12T10:11:44.846Z"
   },
   {
    "duration": 11,
    "start_time": "2023-10-12T10:11:44.865Z"
   },
   {
    "duration": 949,
    "start_time": "2023-10-12T10:11:44.877Z"
   },
   {
    "duration": 13,
    "start_time": "2023-10-12T10:11:45.827Z"
   },
   {
    "duration": 12,
    "start_time": "2023-10-12T10:11:45.842Z"
   },
   {
    "duration": 19,
    "start_time": "2023-10-12T10:11:45.855Z"
   },
   {
    "duration": 8,
    "start_time": "2023-10-12T10:11:45.875Z"
   },
   {
    "duration": 7,
    "start_time": "2023-10-12T10:11:45.885Z"
   },
   {
    "duration": 193,
    "start_time": "2023-10-12T10:11:45.893Z"
   },
   {
    "duration": 10,
    "start_time": "2023-10-12T10:11:46.087Z"
   },
   {
    "duration": 21,
    "start_time": "2023-10-12T10:11:46.098Z"
   },
   {
    "duration": 7,
    "start_time": "2023-10-12T10:11:46.121Z"
   },
   {
    "duration": 799,
    "start_time": "2023-10-12T10:11:46.129Z"
   },
   {
    "duration": 12,
    "start_time": "2023-10-12T10:11:46.929Z"
   },
   {
    "duration": 10,
    "start_time": "2023-10-12T10:11:46.949Z"
   },
   {
    "duration": 182,
    "start_time": "2023-10-12T10:11:46.961Z"
   },
   {
    "duration": 136,
    "start_time": "2023-10-12T10:11:47.145Z"
   },
   {
    "duration": 974,
    "start_time": "2023-10-12T10:11:47.282Z"
   },
   {
    "duration": 1629,
    "start_time": "2023-10-12T13:00:52.123Z"
   },
   {
    "duration": 81,
    "start_time": "2023-10-12T13:00:53.755Z"
   },
   {
    "duration": 16,
    "start_time": "2023-10-12T13:00:53.838Z"
   },
   {
    "duration": 43,
    "start_time": "2023-10-12T13:00:53.857Z"
   },
   {
    "duration": 104,
    "start_time": "2023-10-12T13:00:53.902Z"
   },
   {
    "duration": 10,
    "start_time": "2023-10-12T13:00:54.007Z"
   },
   {
    "duration": 39,
    "start_time": "2023-10-12T13:00:54.019Z"
   },
   {
    "duration": 107,
    "start_time": "2023-10-12T13:00:54.060Z"
   },
   {
    "duration": 40,
    "start_time": "2023-10-12T13:00:54.170Z"
   },
   {
    "duration": 61,
    "start_time": "2023-10-12T13:00:54.213Z"
   },
   {
    "duration": 75,
    "start_time": "2023-10-12T13:00:54.276Z"
   },
   {
    "duration": 61,
    "start_time": "2023-10-12T13:00:54.353Z"
   },
   {
    "duration": 67,
    "start_time": "2023-10-12T13:00:54.415Z"
   },
   {
    "duration": 65,
    "start_time": "2023-10-12T13:00:54.483Z"
   },
   {
    "duration": 86,
    "start_time": "2023-10-12T13:00:54.550Z"
   },
   {
    "duration": 99,
    "start_time": "2023-10-12T13:00:54.638Z"
   },
   {
    "duration": 61,
    "start_time": "2023-10-12T13:00:54.739Z"
   },
   {
    "duration": 48,
    "start_time": "2023-10-12T13:00:54.802Z"
   },
   {
    "duration": 36,
    "start_time": "2023-10-12T13:00:54.852Z"
   },
   {
    "duration": 31,
    "start_time": "2023-10-12T13:00:54.890Z"
   },
   {
    "duration": 49,
    "start_time": "2023-10-12T13:00:54.923Z"
   },
   {
    "duration": 20,
    "start_time": "2023-10-12T13:00:54.974Z"
   },
   {
    "duration": 43,
    "start_time": "2023-10-12T13:00:54.996Z"
   },
   {
    "duration": 193,
    "start_time": "2023-10-12T13:00:55.042Z"
   },
   {
    "duration": 6,
    "start_time": "2023-10-12T13:00:55.237Z"
   },
   {
    "duration": 148,
    "start_time": "2023-10-12T13:00:55.244Z"
   },
   {
    "duration": 13,
    "start_time": "2023-10-12T13:00:55.393Z"
   },
   {
    "duration": 320,
    "start_time": "2023-10-12T13:00:55.410Z"
   },
   {
    "duration": 8,
    "start_time": "2023-10-12T13:00:55.732Z"
   },
   {
    "duration": 46,
    "start_time": "2023-10-12T13:00:55.742Z"
   },
   {
    "duration": 26,
    "start_time": "2023-10-12T13:00:55.789Z"
   },
   {
    "duration": 1505,
    "start_time": "2023-10-12T13:00:55.816Z"
   },
   {
    "duration": 10,
    "start_time": "2023-10-12T13:00:57.323Z"
   },
   {
    "duration": 22,
    "start_time": "2023-10-12T13:00:57.334Z"
   },
   {
    "duration": 14,
    "start_time": "2023-10-12T13:00:57.358Z"
   },
   {
    "duration": 11,
    "start_time": "2023-10-12T13:00:57.374Z"
   },
   {
    "duration": 229,
    "start_time": "2023-10-12T13:00:57.387Z"
   },
   {
    "duration": 9,
    "start_time": "2023-10-12T13:00:57.618Z"
   },
   {
    "duration": 127,
    "start_time": "2023-10-12T13:00:57.628Z"
   },
   {
    "duration": 126,
    "start_time": "2023-10-12T13:00:57.756Z"
   },
   {
    "duration": 10,
    "start_time": "2023-10-12T13:00:57.883Z"
   },
   {
    "duration": 20,
    "start_time": "2023-10-12T13:00:57.894Z"
   },
   {
    "duration": 9,
    "start_time": "2023-10-12T13:00:57.916Z"
   },
   {
    "duration": 14,
    "start_time": "2023-10-12T13:00:57.927Z"
   },
   {
    "duration": 14,
    "start_time": "2023-10-12T13:00:57.942Z"
   },
   {
    "duration": 11,
    "start_time": "2023-10-12T13:00:57.958Z"
   },
   {
    "duration": 22,
    "start_time": "2023-10-12T13:00:57.970Z"
   },
   {
    "duration": 27,
    "start_time": "2023-10-12T13:00:57.993Z"
   },
   {
    "duration": 55,
    "start_time": "2023-10-12T13:00:58.022Z"
   },
   {
    "duration": 30,
    "start_time": "2023-10-12T13:00:58.079Z"
   },
   {
    "duration": 33,
    "start_time": "2023-10-12T13:00:58.110Z"
   },
   {
    "duration": 12,
    "start_time": "2023-10-12T13:00:58.145Z"
   },
   {
    "duration": 165,
    "start_time": "2023-10-12T13:00:58.158Z"
   },
   {
    "duration": 394,
    "start_time": "2023-10-12T13:00:58.325Z"
   },
   {
    "duration": 196,
    "start_time": "2023-10-12T13:00:58.721Z"
   },
   {
    "duration": 7,
    "start_time": "2023-10-12T13:00:58.918Z"
   },
   {
    "duration": 36,
    "start_time": "2023-10-12T13:00:58.926Z"
   },
   {
    "duration": 13,
    "start_time": "2023-10-12T13:00:58.964Z"
   },
   {
    "duration": 6,
    "start_time": "2023-10-12T13:00:58.978Z"
   },
   {
    "duration": 145,
    "start_time": "2023-10-12T13:00:58.985Z"
   },
   {
    "duration": 265,
    "start_time": "2023-10-12T13:00:59.132Z"
   },
   {
    "duration": 186,
    "start_time": "2023-10-12T13:00:59.399Z"
   },
   {
    "duration": 348,
    "start_time": "2023-10-12T13:00:59.587Z"
   },
   {
    "duration": 356,
    "start_time": "2023-10-12T13:00:59.937Z"
   },
   {
    "duration": 18,
    "start_time": "2023-10-12T13:01:00.295Z"
   },
   {
    "duration": 37,
    "start_time": "2023-10-12T13:01:00.314Z"
   },
   {
    "duration": 57,
    "start_time": "2023-10-12T13:01:00.353Z"
   },
   {
    "duration": 76,
    "start_time": "2023-10-12T13:01:00.411Z"
   },
   {
    "duration": 965,
    "start_time": "2023-10-12T13:01:00.489Z"
   },
   {
    "duration": 10,
    "start_time": "2023-10-12T13:01:01.456Z"
   },
   {
    "duration": 710,
    "start_time": "2023-10-12T13:01:01.468Z"
   },
   {
    "duration": 60,
    "start_time": "2023-10-12T13:01:02.179Z"
   },
   {
    "duration": 48,
    "start_time": "2023-10-12T13:01:02.241Z"
   },
   {
    "duration": 80,
    "start_time": "2023-10-12T13:01:02.291Z"
   },
   {
    "duration": 243,
    "start_time": "2023-10-12T13:01:02.373Z"
   },
   {
    "duration": 15,
    "start_time": "2023-10-12T13:01:02.617Z"
   },
   {
    "duration": 51,
    "start_time": "2023-10-12T13:01:02.634Z"
   },
   {
    "duration": 43,
    "start_time": "2023-10-12T13:01:02.687Z"
   },
   {
    "duration": 927,
    "start_time": "2023-10-12T13:01:02.732Z"
   },
   {
    "duration": 5,
    "start_time": "2023-10-12T13:01:03.661Z"
   },
   {
    "duration": 58,
    "start_time": "2023-10-12T13:01:03.668Z"
   },
   {
    "duration": 235,
    "start_time": "2023-10-12T13:01:03.730Z"
   },
   {
    "duration": 140,
    "start_time": "2023-10-12T13:01:03.967Z"
   },
   {
    "duration": 1070,
    "start_time": "2023-10-12T13:01:04.109Z"
   },
   {
    "duration": 1272,
    "start_time": "2023-10-12T13:07:14.569Z"
   },
   {
    "duration": 30,
    "start_time": "2023-10-12T13:07:15.844Z"
   },
   {
    "duration": 12,
    "start_time": "2023-10-12T13:07:15.876Z"
   },
   {
    "duration": 26,
    "start_time": "2023-10-12T13:07:15.890Z"
   },
   {
    "duration": 42,
    "start_time": "2023-10-12T13:07:15.917Z"
   },
   {
    "duration": 8,
    "start_time": "2023-10-12T13:07:15.961Z"
   },
   {
    "duration": 30,
    "start_time": "2023-10-12T13:07:15.971Z"
   },
   {
    "duration": 17,
    "start_time": "2023-10-12T13:07:16.003Z"
   },
   {
    "duration": 8,
    "start_time": "2023-10-12T13:07:16.022Z"
   },
   {
    "duration": 20,
    "start_time": "2023-10-12T13:07:16.033Z"
   },
   {
    "duration": 21,
    "start_time": "2023-10-12T13:07:16.055Z"
   },
   {
    "duration": 12,
    "start_time": "2023-10-12T13:07:16.078Z"
   },
   {
    "duration": 14,
    "start_time": "2023-10-12T13:07:16.092Z"
   },
   {
    "duration": 10,
    "start_time": "2023-10-12T13:07:16.108Z"
   },
   {
    "duration": 13,
    "start_time": "2023-10-12T13:07:16.120Z"
   },
   {
    "duration": 7,
    "start_time": "2023-10-12T13:07:16.135Z"
   },
   {
    "duration": 26,
    "start_time": "2023-10-12T13:07:16.144Z"
   },
   {
    "duration": 10,
    "start_time": "2023-10-12T13:07:16.172Z"
   },
   {
    "duration": 29,
    "start_time": "2023-10-12T13:07:16.185Z"
   },
   {
    "duration": 40,
    "start_time": "2023-10-12T13:07:16.216Z"
   },
   {
    "duration": 54,
    "start_time": "2023-10-12T13:07:16.258Z"
   },
   {
    "duration": 35,
    "start_time": "2023-10-12T13:07:16.314Z"
   },
   {
    "duration": 22,
    "start_time": "2023-10-12T13:07:16.351Z"
   },
   {
    "duration": 206,
    "start_time": "2023-10-12T13:07:16.375Z"
   },
   {
    "duration": 6,
    "start_time": "2023-10-12T13:07:16.582Z"
   },
   {
    "duration": 136,
    "start_time": "2023-10-12T13:07:16.590Z"
   },
   {
    "duration": 6,
    "start_time": "2023-10-12T13:07:16.728Z"
   },
   {
    "duration": 171,
    "start_time": "2023-10-12T13:07:16.740Z"
   },
   {
    "duration": 9,
    "start_time": "2023-10-12T13:07:16.913Z"
   },
   {
    "duration": 90,
    "start_time": "2023-10-12T13:07:16.923Z"
   },
   {
    "duration": 50,
    "start_time": "2023-10-12T13:07:17.015Z"
   },
   {
    "duration": 1413,
    "start_time": "2023-10-12T13:07:17.066Z"
   },
   {
    "duration": 9,
    "start_time": "2023-10-12T13:07:18.481Z"
   },
   {
    "duration": 37,
    "start_time": "2023-10-12T13:07:18.491Z"
   },
   {
    "duration": 7,
    "start_time": "2023-10-12T13:07:18.530Z"
   },
   {
    "duration": 33,
    "start_time": "2023-10-12T13:07:18.539Z"
   },
   {
    "duration": 206,
    "start_time": "2023-10-12T13:07:18.573Z"
   },
   {
    "duration": 9,
    "start_time": "2023-10-12T13:07:18.780Z"
   },
   {
    "duration": 122,
    "start_time": "2023-10-12T13:07:18.790Z"
   },
   {
    "duration": 117,
    "start_time": "2023-10-12T13:07:18.913Z"
   },
   {
    "duration": 10,
    "start_time": "2023-10-12T13:07:19.031Z"
   },
   {
    "duration": 11,
    "start_time": "2023-10-12T13:07:19.043Z"
   },
   {
    "duration": 28,
    "start_time": "2023-10-12T13:07:19.055Z"
   },
   {
    "duration": 39,
    "start_time": "2023-10-12T13:07:19.084Z"
   },
   {
    "duration": 13,
    "start_time": "2023-10-12T13:07:19.125Z"
   },
   {
    "duration": 20,
    "start_time": "2023-10-12T13:07:19.140Z"
   },
   {
    "duration": 15,
    "start_time": "2023-10-12T13:07:19.161Z"
   },
   {
    "duration": 14,
    "start_time": "2023-10-12T13:07:19.177Z"
   },
   {
    "duration": 28,
    "start_time": "2023-10-12T13:07:19.193Z"
   },
   {
    "duration": 14,
    "start_time": "2023-10-12T13:07:19.223Z"
   },
   {
    "duration": 32,
    "start_time": "2023-10-12T13:07:19.239Z"
   },
   {
    "duration": 6,
    "start_time": "2023-10-12T13:07:19.273Z"
   },
   {
    "duration": 192,
    "start_time": "2023-10-12T13:07:19.280Z"
   },
   {
    "duration": 383,
    "start_time": "2023-10-12T13:07:19.474Z"
   },
   {
    "duration": 201,
    "start_time": "2023-10-12T13:07:19.859Z"
   },
   {
    "duration": 7,
    "start_time": "2023-10-12T13:07:20.061Z"
   },
   {
    "duration": 110,
    "start_time": "2023-10-12T13:07:20.070Z"
   },
   {
    "duration": 30,
    "start_time": "2023-10-12T13:07:20.181Z"
   },
   {
    "duration": 6,
    "start_time": "2023-10-12T13:07:20.212Z"
   },
   {
    "duration": 154,
    "start_time": "2023-10-12T13:07:20.220Z"
   },
   {
    "duration": 257,
    "start_time": "2023-10-12T13:07:20.376Z"
   },
   {
    "duration": 184,
    "start_time": "2023-10-12T13:07:20.635Z"
   },
   {
    "duration": 369,
    "start_time": "2023-10-12T13:07:20.820Z"
   },
   {
    "duration": 344,
    "start_time": "2023-10-12T13:07:21.191Z"
   },
   {
    "duration": 13,
    "start_time": "2023-10-12T13:07:21.536Z"
   },
   {
    "duration": 15,
    "start_time": "2023-10-12T13:07:21.551Z"
   },
   {
    "duration": 41,
    "start_time": "2023-10-12T13:07:21.568Z"
   },
   {
    "duration": 41,
    "start_time": "2023-10-12T13:07:21.611Z"
   },
   {
    "duration": 908,
    "start_time": "2023-10-12T13:07:21.653Z"
   },
   {
    "duration": 9,
    "start_time": "2023-10-12T13:07:22.563Z"
   },
   {
    "duration": 82,
    "start_time": "2023-10-12T13:07:22.574Z"
   },
   {
    "duration": 46,
    "start_time": "2023-10-12T13:07:22.658Z"
   },
   {
    "duration": 61,
    "start_time": "2023-10-12T13:07:22.706Z"
   },
   {
    "duration": 53,
    "start_time": "2023-10-12T13:07:22.769Z"
   },
   {
    "duration": 208,
    "start_time": "2023-10-12T13:07:22.823Z"
   },
   {
    "duration": 10,
    "start_time": "2023-10-12T13:07:23.033Z"
   },
   {
    "duration": 40,
    "start_time": "2023-10-12T13:07:23.044Z"
   },
   {
    "duration": 33,
    "start_time": "2023-10-12T13:07:23.085Z"
   },
   {
    "duration": 863,
    "start_time": "2023-10-12T13:07:23.119Z"
   },
   {
    "duration": 6,
    "start_time": "2023-10-12T13:07:23.985Z"
   },
   {
    "duration": 36,
    "start_time": "2023-10-12T13:07:23.993Z"
   },
   {
    "duration": 204,
    "start_time": "2023-10-12T13:07:24.034Z"
   },
   {
    "duration": 138,
    "start_time": "2023-10-12T13:07:24.240Z"
   },
   {
    "duration": 1057,
    "start_time": "2023-10-12T13:07:24.380Z"
   },
   {
    "duration": 1446,
    "start_time": "2023-10-13T07:51:53.068Z"
   },
   {
    "duration": 49,
    "start_time": "2023-10-13T07:51:54.515Z"
   },
   {
    "duration": 11,
    "start_time": "2023-10-13T07:51:54.566Z"
   },
   {
    "duration": 25,
    "start_time": "2023-10-13T07:51:54.579Z"
   },
   {
    "duration": 38,
    "start_time": "2023-10-13T07:51:54.605Z"
   },
   {
    "duration": 18,
    "start_time": "2023-10-13T07:51:54.646Z"
   },
   {
    "duration": 22,
    "start_time": "2023-10-13T07:51:54.665Z"
   },
   {
    "duration": 37,
    "start_time": "2023-10-13T07:51:54.689Z"
   },
   {
    "duration": 12,
    "start_time": "2023-10-13T07:51:54.728Z"
   },
   {
    "duration": 32,
    "start_time": "2023-10-13T07:51:54.743Z"
   },
   {
    "duration": 18,
    "start_time": "2023-10-13T07:51:54.777Z"
   },
   {
    "duration": 8,
    "start_time": "2023-10-13T07:51:54.797Z"
   },
   {
    "duration": 21,
    "start_time": "2023-10-13T07:51:54.806Z"
   },
   {
    "duration": 25,
    "start_time": "2023-10-13T07:51:54.829Z"
   },
   {
    "duration": 28,
    "start_time": "2023-10-13T07:51:54.857Z"
   },
   {
    "duration": 18,
    "start_time": "2023-10-13T07:51:54.886Z"
   },
   {
    "duration": 37,
    "start_time": "2023-10-13T07:51:54.905Z"
   },
   {
    "duration": 19,
    "start_time": "2023-10-13T07:51:54.945Z"
   },
   {
    "duration": 19,
    "start_time": "2023-10-13T07:51:54.965Z"
   },
   {
    "duration": 16,
    "start_time": "2023-10-13T07:51:54.985Z"
   },
   {
    "duration": 42,
    "start_time": "2023-10-13T07:51:55.003Z"
   },
   {
    "duration": 44,
    "start_time": "2023-10-13T07:51:55.047Z"
   },
   {
    "duration": 17,
    "start_time": "2023-10-13T07:51:55.093Z"
   },
   {
    "duration": 189,
    "start_time": "2023-10-13T07:51:55.111Z"
   },
   {
    "duration": 5,
    "start_time": "2023-10-13T07:51:55.302Z"
   },
   {
    "duration": 113,
    "start_time": "2023-10-13T07:51:55.309Z"
   },
   {
    "duration": 6,
    "start_time": "2023-10-13T07:51:55.424Z"
   },
   {
    "duration": 161,
    "start_time": "2023-10-13T07:51:55.446Z"
   },
   {
    "duration": 9,
    "start_time": "2023-10-13T07:51:55.609Z"
   },
   {
    "duration": 21,
    "start_time": "2023-10-13T07:51:55.619Z"
   },
   {
    "duration": 19,
    "start_time": "2023-10-13T07:51:55.641Z"
   },
   {
    "duration": 1500,
    "start_time": "2023-10-13T07:51:55.662Z"
   },
   {
    "duration": 9,
    "start_time": "2023-10-13T07:51:57.164Z"
   },
   {
    "duration": 22,
    "start_time": "2023-10-13T07:51:57.175Z"
   },
   {
    "duration": 18,
    "start_time": "2023-10-13T07:51:57.199Z"
   },
   {
    "duration": 11,
    "start_time": "2023-10-13T07:51:57.219Z"
   },
   {
    "duration": 209,
    "start_time": "2023-10-13T07:51:57.231Z"
   },
   {
    "duration": 14,
    "start_time": "2023-10-13T07:51:57.442Z"
   },
   {
    "duration": 135,
    "start_time": "2023-10-13T07:51:57.459Z"
   },
   {
    "duration": 133,
    "start_time": "2023-10-13T07:51:57.596Z"
   },
   {
    "duration": 21,
    "start_time": "2023-10-13T07:51:57.730Z"
   },
   {
    "duration": 218,
    "start_time": "2023-10-13T07:51:57.753Z"
   },
   {
    "duration": 47,
    "start_time": "2023-10-13T07:51:57.973Z"
   },
   {
    "duration": 13,
    "start_time": "2023-10-13T07:51:58.022Z"
   },
   {
    "duration": 26,
    "start_time": "2023-10-13T07:51:58.037Z"
   },
   {
    "duration": 11,
    "start_time": "2023-10-13T07:51:58.065Z"
   },
   {
    "duration": 46,
    "start_time": "2023-10-13T07:51:58.077Z"
   },
   {
    "duration": 151,
    "start_time": "2023-10-13T07:51:58.124Z"
   },
   {
    "duration": 14,
    "start_time": "2023-10-13T07:51:58.277Z"
   },
   {
    "duration": 18,
    "start_time": "2023-10-13T07:51:58.293Z"
   },
   {
    "duration": 24,
    "start_time": "2023-10-13T07:51:58.312Z"
   },
   {
    "duration": 33,
    "start_time": "2023-10-13T07:51:58.337Z"
   },
   {
    "duration": 190,
    "start_time": "2023-10-13T07:51:58.373Z"
   },
   {
    "duration": 395,
    "start_time": "2023-10-13T07:51:58.565Z"
   },
   {
    "duration": 195,
    "start_time": "2023-10-13T07:51:58.962Z"
   },
   {
    "duration": 8,
    "start_time": "2023-10-13T07:51:59.159Z"
   },
   {
    "duration": 27,
    "start_time": "2023-10-13T07:51:59.168Z"
   },
   {
    "duration": 66,
    "start_time": "2023-10-13T07:51:59.197Z"
   },
   {
    "duration": 56,
    "start_time": "2023-10-13T07:51:59.265Z"
   },
   {
    "duration": 210,
    "start_time": "2023-10-13T07:51:59.323Z"
   },
   {
    "duration": 271,
    "start_time": "2023-10-13T07:51:59.534Z"
   },
   {
    "duration": 213,
    "start_time": "2023-10-13T07:51:59.807Z"
   },
   {
    "duration": 406,
    "start_time": "2023-10-13T07:52:00.022Z"
   },
   {
    "duration": 375,
    "start_time": "2023-10-13T07:52:00.430Z"
   },
   {
    "duration": 13,
    "start_time": "2023-10-13T07:52:00.807Z"
   },
   {
    "duration": 44,
    "start_time": "2023-10-13T07:52:00.822Z"
   },
   {
    "duration": 42,
    "start_time": "2023-10-13T07:52:00.868Z"
   },
   {
    "duration": 62,
    "start_time": "2023-10-13T07:52:00.912Z"
   },
   {
    "duration": 1010,
    "start_time": "2023-10-13T07:52:00.976Z"
   },
   {
    "duration": 9,
    "start_time": "2023-10-13T07:52:01.987Z"
   },
   {
    "duration": 67,
    "start_time": "2023-10-13T07:52:01.997Z"
   },
   {
    "duration": 110,
    "start_time": "2023-10-13T07:52:02.066Z"
   },
   {
    "duration": 87,
    "start_time": "2023-10-13T07:52:02.178Z"
   },
   {
    "duration": 44,
    "start_time": "2023-10-13T07:52:02.267Z"
   },
   {
    "duration": 307,
    "start_time": "2023-10-13T07:52:02.313Z"
   },
   {
    "duration": 10,
    "start_time": "2023-10-13T07:52:02.622Z"
   },
   {
    "duration": 30,
    "start_time": "2023-10-13T07:52:02.645Z"
   },
   {
    "duration": 42,
    "start_time": "2023-10-13T07:52:02.677Z"
   },
   {
    "duration": 965,
    "start_time": "2023-10-13T07:52:02.721Z"
   },
   {
    "duration": 6,
    "start_time": "2023-10-13T07:52:03.688Z"
   },
   {
    "duration": 59,
    "start_time": "2023-10-13T07:52:03.696Z"
   },
   {
    "duration": 193,
    "start_time": "2023-10-13T07:52:03.762Z"
   },
   {
    "duration": 171,
    "start_time": "2023-10-13T07:52:03.957Z"
   },
   {
    "duration": 1188,
    "start_time": "2023-10-13T07:52:04.129Z"
   }
  ],
  "kernelspec": {
   "display_name": "Python 3 (ipykernel)",
   "language": "python",
   "name": "python3"
  },
  "language_info": {
   "codemirror_mode": {
    "name": "ipython",
    "version": 3
   },
   "file_extension": ".py",
   "mimetype": "text/x-python",
   "name": "python",
   "nbconvert_exporter": "python",
   "pygments_lexer": "ipython3",
   "version": "3.11.4"
  },
  "toc": {
   "base_numbering": 1,
   "nav_menu": {},
   "number_sections": true,
   "sideBar": true,
   "skip_h1_title": true,
   "title_cell": "Table of Contents",
   "title_sidebar": "Contents",
   "toc_cell": false,
   "toc_position": {},
   "toc_section_display": true,
   "toc_window_display": false
  }
 },
 "nbformat": 4,
 "nbformat_minor": 5
}
